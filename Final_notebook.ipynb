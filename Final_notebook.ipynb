{
  "cells": [
    {
      "cell_type": "markdown",
      "metadata": {
        "id": "view-in-github",
        "colab_type": "text"
      },
      "source": [
        "<a href=\"https://colab.research.google.com/github/tajuar-akash-hub/test_repo_for_colaboration/blob/main/Final_notebook.ipynb\" target=\"_parent\"><img src=\"https://colab.research.google.com/assets/colab-badge.svg\" alt=\"Open In Colab\"/></a>"
      ]
    },
    {
      "cell_type": "markdown",
      "source": [
        "# Problems :\n",
        "1) In the AdaBoost cell during \"Grid Search\" it is taking a huge time. <br>\n",
        "2) All \"Grid search\" cells taking huge time to execute."
      ],
      "metadata": {
        "id": "FQMKv9_3BOXu"
      }
    },
    {
      "cell_type": "code",
      "execution_count": 17,
      "metadata": {
        "id": "ApVk94h7N8Qd",
        "colab": {
          "base_uri": "https://localhost:8080/"
        },
        "outputId": "fdb9d00b-ed9b-41f5-c2f5-4605e55bb5cd"
      },
      "outputs": [
        {
          "output_type": "stream",
          "name": "stdout",
          "text": [
            "fatal: destination path 'Datasets' already exists and is not an empty directory.\n"
          ]
        }
      ],
      "source": [
        "!git clone https://github.com/tajuar-akash-hub/Datasets.git"
      ]
    },
    {
      "cell_type": "code",
      "execution_count": 18,
      "metadata": {
        "id": "4D4_ZBMcbmcO",
        "colab": {
          "base_uri": "https://localhost:8080/",
          "height": 236
        },
        "outputId": "f71c4742-34b9-4cff-d8ec-891e2faa5019"
      },
      "outputs": [
        {
          "output_type": "execute_result",
          "data": {
            "text/plain": [
              "                                ClaimID                             PatientID  \\\n",
              "0  4d76c7f7-d36a-4139-b451-a9a4ad10d7d5  19cf2638-3ec0-4ed9-9995-d9ba4553813a   \n",
              "1  e35193b4-3609-492b-866a-98de19317e9c  5c4bb6c5-4dd3-4a86-85fa-f36c0d8debff   \n",
              "\n",
              "                             ProviderID  ClaimAmount            ClaimDate  \\\n",
              "0  a3d0cc80-dffe-40ff-a302-23c8ffeedb36      7820.52  2024-07-08 00:00:00   \n",
              "1  a9f25acf-92b8-45e2-9cef-87bd07d0a591      5453.86  2024-07-08 00:00:00   \n",
              "\n",
              "  DiagnosisCode ProcedureCode  PatientAge PatientGender ProviderSpecialty  \\\n",
              "0         Ta150         iO013          96             F       Orthopedics   \n",
              "1         Fo766         jR349          95             M        Cardiology   \n",
              "\n",
              "  ClaimStatus  PatientIncome PatientMaritalStatus PatientEmploymentStatus  \\\n",
              "0     Pending       57595.11               Single                Employed   \n",
              "1      Denied      140772.72              Widowed                Employed   \n",
              "\n",
              "  ProviderLocation  ClaimType ClaimSubmissionMethod  Cluster ClaimLegitimacy  \n",
              "0   New Alishaview  Inpatient                 Paper        3      Legitimate  \n",
              "1      East Curtis  Inpatient                Online        2      Legitimate  "
            ],
            "text/html": [
              "\n",
              "  <div id=\"df-f48b1bb4-49c0-4c94-9e5e-2879d6841714\" class=\"colab-df-container\">\n",
              "    <div>\n",
              "<style scoped>\n",
              "    .dataframe tbody tr th:only-of-type {\n",
              "        vertical-align: middle;\n",
              "    }\n",
              "\n",
              "    .dataframe tbody tr th {\n",
              "        vertical-align: top;\n",
              "    }\n",
              "\n",
              "    .dataframe thead th {\n",
              "        text-align: right;\n",
              "    }\n",
              "</style>\n",
              "<table border=\"1\" class=\"dataframe\">\n",
              "  <thead>\n",
              "    <tr style=\"text-align: right;\">\n",
              "      <th></th>\n",
              "      <th>ClaimID</th>\n",
              "      <th>PatientID</th>\n",
              "      <th>ProviderID</th>\n",
              "      <th>ClaimAmount</th>\n",
              "      <th>ClaimDate</th>\n",
              "      <th>DiagnosisCode</th>\n",
              "      <th>ProcedureCode</th>\n",
              "      <th>PatientAge</th>\n",
              "      <th>PatientGender</th>\n",
              "      <th>ProviderSpecialty</th>\n",
              "      <th>ClaimStatus</th>\n",
              "      <th>PatientIncome</th>\n",
              "      <th>PatientMaritalStatus</th>\n",
              "      <th>PatientEmploymentStatus</th>\n",
              "      <th>ProviderLocation</th>\n",
              "      <th>ClaimType</th>\n",
              "      <th>ClaimSubmissionMethod</th>\n",
              "      <th>Cluster</th>\n",
              "      <th>ClaimLegitimacy</th>\n",
              "    </tr>\n",
              "  </thead>\n",
              "  <tbody>\n",
              "    <tr>\n",
              "      <th>0</th>\n",
              "      <td>4d76c7f7-d36a-4139-b451-a9a4ad10d7d5</td>\n",
              "      <td>19cf2638-3ec0-4ed9-9995-d9ba4553813a</td>\n",
              "      <td>a3d0cc80-dffe-40ff-a302-23c8ffeedb36</td>\n",
              "      <td>7820.52</td>\n",
              "      <td>2024-07-08 00:00:00</td>\n",
              "      <td>Ta150</td>\n",
              "      <td>iO013</td>\n",
              "      <td>96</td>\n",
              "      <td>F</td>\n",
              "      <td>Orthopedics</td>\n",
              "      <td>Pending</td>\n",
              "      <td>57595.11</td>\n",
              "      <td>Single</td>\n",
              "      <td>Employed</td>\n",
              "      <td>New Alishaview</td>\n",
              "      <td>Inpatient</td>\n",
              "      <td>Paper</td>\n",
              "      <td>3</td>\n",
              "      <td>Legitimate</td>\n",
              "    </tr>\n",
              "    <tr>\n",
              "      <th>1</th>\n",
              "      <td>e35193b4-3609-492b-866a-98de19317e9c</td>\n",
              "      <td>5c4bb6c5-4dd3-4a86-85fa-f36c0d8debff</td>\n",
              "      <td>a9f25acf-92b8-45e2-9cef-87bd07d0a591</td>\n",
              "      <td>5453.86</td>\n",
              "      <td>2024-07-08 00:00:00</td>\n",
              "      <td>Fo766</td>\n",
              "      <td>jR349</td>\n",
              "      <td>95</td>\n",
              "      <td>M</td>\n",
              "      <td>Cardiology</td>\n",
              "      <td>Denied</td>\n",
              "      <td>140772.72</td>\n",
              "      <td>Widowed</td>\n",
              "      <td>Employed</td>\n",
              "      <td>East Curtis</td>\n",
              "      <td>Inpatient</td>\n",
              "      <td>Online</td>\n",
              "      <td>2</td>\n",
              "      <td>Legitimate</td>\n",
              "    </tr>\n",
              "  </tbody>\n",
              "</table>\n",
              "</div>\n",
              "    <div class=\"colab-df-buttons\">\n",
              "\n",
              "  <div class=\"colab-df-container\">\n",
              "    <button class=\"colab-df-convert\" onclick=\"convertToInteractive('df-f48b1bb4-49c0-4c94-9e5e-2879d6841714')\"\n",
              "            title=\"Convert this dataframe to an interactive table.\"\n",
              "            style=\"display:none;\">\n",
              "\n",
              "  <svg xmlns=\"http://www.w3.org/2000/svg\" height=\"24px\" viewBox=\"0 -960 960 960\">\n",
              "    <path d=\"M120-120v-720h720v720H120Zm60-500h600v-160H180v160Zm220 220h160v-160H400v160Zm0 220h160v-160H400v160ZM180-400h160v-160H180v160Zm440 0h160v-160H620v160ZM180-180h160v-160H180v160Zm440 0h160v-160H620v160Z\"/>\n",
              "  </svg>\n",
              "    </button>\n",
              "\n",
              "  <style>\n",
              "    .colab-df-container {\n",
              "      display:flex;\n",
              "      gap: 12px;\n",
              "    }\n",
              "\n",
              "    .colab-df-convert {\n",
              "      background-color: #E8F0FE;\n",
              "      border: none;\n",
              "      border-radius: 50%;\n",
              "      cursor: pointer;\n",
              "      display: none;\n",
              "      fill: #1967D2;\n",
              "      height: 32px;\n",
              "      padding: 0 0 0 0;\n",
              "      width: 32px;\n",
              "    }\n",
              "\n",
              "    .colab-df-convert:hover {\n",
              "      background-color: #E2EBFA;\n",
              "      box-shadow: 0px 1px 2px rgba(60, 64, 67, 0.3), 0px 1px 3px 1px rgba(60, 64, 67, 0.15);\n",
              "      fill: #174EA6;\n",
              "    }\n",
              "\n",
              "    .colab-df-buttons div {\n",
              "      margin-bottom: 4px;\n",
              "    }\n",
              "\n",
              "    [theme=dark] .colab-df-convert {\n",
              "      background-color: #3B4455;\n",
              "      fill: #D2E3FC;\n",
              "    }\n",
              "\n",
              "    [theme=dark] .colab-df-convert:hover {\n",
              "      background-color: #434B5C;\n",
              "      box-shadow: 0px 1px 3px 1px rgba(0, 0, 0, 0.15);\n",
              "      filter: drop-shadow(0px 1px 2px rgba(0, 0, 0, 0.3));\n",
              "      fill: #FFFFFF;\n",
              "    }\n",
              "  </style>\n",
              "\n",
              "    <script>\n",
              "      const buttonEl =\n",
              "        document.querySelector('#df-f48b1bb4-49c0-4c94-9e5e-2879d6841714 button.colab-df-convert');\n",
              "      buttonEl.style.display =\n",
              "        google.colab.kernel.accessAllowed ? 'block' : 'none';\n",
              "\n",
              "      async function convertToInteractive(key) {\n",
              "        const element = document.querySelector('#df-f48b1bb4-49c0-4c94-9e5e-2879d6841714');\n",
              "        const dataTable =\n",
              "          await google.colab.kernel.invokeFunction('convertToInteractive',\n",
              "                                                    [key], {});\n",
              "        if (!dataTable) return;\n",
              "\n",
              "        const docLinkHtml = 'Like what you see? Visit the ' +\n",
              "          '<a target=\"_blank\" href=https://colab.research.google.com/notebooks/data_table.ipynb>data table notebook</a>'\n",
              "          + ' to learn more about interactive tables.';\n",
              "        element.innerHTML = '';\n",
              "        dataTable['output_type'] = 'display_data';\n",
              "        await google.colab.output.renderOutput(dataTable, element);\n",
              "        const docLink = document.createElement('div');\n",
              "        docLink.innerHTML = docLinkHtml;\n",
              "        element.appendChild(docLink);\n",
              "      }\n",
              "    </script>\n",
              "  </div>\n",
              "\n",
              "\n",
              "<div id=\"df-7c779742-b0c2-46df-8fdc-372440e50f45\">\n",
              "  <button class=\"colab-df-quickchart\" onclick=\"quickchart('df-7c779742-b0c2-46df-8fdc-372440e50f45')\"\n",
              "            title=\"Suggest charts\"\n",
              "            style=\"display:none;\">\n",
              "\n",
              "<svg xmlns=\"http://www.w3.org/2000/svg\" height=\"24px\"viewBox=\"0 0 24 24\"\n",
              "     width=\"24px\">\n",
              "    <g>\n",
              "        <path d=\"M19 3H5c-1.1 0-2 .9-2 2v14c0 1.1.9 2 2 2h14c1.1 0 2-.9 2-2V5c0-1.1-.9-2-2-2zM9 17H7v-7h2v7zm4 0h-2V7h2v10zm4 0h-2v-4h2v4z\"/>\n",
              "    </g>\n",
              "</svg>\n",
              "  </button>\n",
              "\n",
              "<style>\n",
              "  .colab-df-quickchart {\n",
              "      --bg-color: #E8F0FE;\n",
              "      --fill-color: #1967D2;\n",
              "      --hover-bg-color: #E2EBFA;\n",
              "      --hover-fill-color: #174EA6;\n",
              "      --disabled-fill-color: #AAA;\n",
              "      --disabled-bg-color: #DDD;\n",
              "  }\n",
              "\n",
              "  [theme=dark] .colab-df-quickchart {\n",
              "      --bg-color: #3B4455;\n",
              "      --fill-color: #D2E3FC;\n",
              "      --hover-bg-color: #434B5C;\n",
              "      --hover-fill-color: #FFFFFF;\n",
              "      --disabled-bg-color: #3B4455;\n",
              "      --disabled-fill-color: #666;\n",
              "  }\n",
              "\n",
              "  .colab-df-quickchart {\n",
              "    background-color: var(--bg-color);\n",
              "    border: none;\n",
              "    border-radius: 50%;\n",
              "    cursor: pointer;\n",
              "    display: none;\n",
              "    fill: var(--fill-color);\n",
              "    height: 32px;\n",
              "    padding: 0;\n",
              "    width: 32px;\n",
              "  }\n",
              "\n",
              "  .colab-df-quickchart:hover {\n",
              "    background-color: var(--hover-bg-color);\n",
              "    box-shadow: 0 1px 2px rgba(60, 64, 67, 0.3), 0 1px 3px 1px rgba(60, 64, 67, 0.15);\n",
              "    fill: var(--button-hover-fill-color);\n",
              "  }\n",
              "\n",
              "  .colab-df-quickchart-complete:disabled,\n",
              "  .colab-df-quickchart-complete:disabled:hover {\n",
              "    background-color: var(--disabled-bg-color);\n",
              "    fill: var(--disabled-fill-color);\n",
              "    box-shadow: none;\n",
              "  }\n",
              "\n",
              "  .colab-df-spinner {\n",
              "    border: 2px solid var(--fill-color);\n",
              "    border-color: transparent;\n",
              "    border-bottom-color: var(--fill-color);\n",
              "    animation:\n",
              "      spin 1s steps(1) infinite;\n",
              "  }\n",
              "\n",
              "  @keyframes spin {\n",
              "    0% {\n",
              "      border-color: transparent;\n",
              "      border-bottom-color: var(--fill-color);\n",
              "      border-left-color: var(--fill-color);\n",
              "    }\n",
              "    20% {\n",
              "      border-color: transparent;\n",
              "      border-left-color: var(--fill-color);\n",
              "      border-top-color: var(--fill-color);\n",
              "    }\n",
              "    30% {\n",
              "      border-color: transparent;\n",
              "      border-left-color: var(--fill-color);\n",
              "      border-top-color: var(--fill-color);\n",
              "      border-right-color: var(--fill-color);\n",
              "    }\n",
              "    40% {\n",
              "      border-color: transparent;\n",
              "      border-right-color: var(--fill-color);\n",
              "      border-top-color: var(--fill-color);\n",
              "    }\n",
              "    60% {\n",
              "      border-color: transparent;\n",
              "      border-right-color: var(--fill-color);\n",
              "    }\n",
              "    80% {\n",
              "      border-color: transparent;\n",
              "      border-right-color: var(--fill-color);\n",
              "      border-bottom-color: var(--fill-color);\n",
              "    }\n",
              "    90% {\n",
              "      border-color: transparent;\n",
              "      border-bottom-color: var(--fill-color);\n",
              "    }\n",
              "  }\n",
              "</style>\n",
              "\n",
              "  <script>\n",
              "    async function quickchart(key) {\n",
              "      const quickchartButtonEl =\n",
              "        document.querySelector('#' + key + ' button');\n",
              "      quickchartButtonEl.disabled = true;  // To prevent multiple clicks.\n",
              "      quickchartButtonEl.classList.add('colab-df-spinner');\n",
              "      try {\n",
              "        const charts = await google.colab.kernel.invokeFunction(\n",
              "            'suggestCharts', [key], {});\n",
              "      } catch (error) {\n",
              "        console.error('Error during call to suggestCharts:', error);\n",
              "      }\n",
              "      quickchartButtonEl.classList.remove('colab-df-spinner');\n",
              "      quickchartButtonEl.classList.add('colab-df-quickchart-complete');\n",
              "    }\n",
              "    (() => {\n",
              "      let quickchartButtonEl =\n",
              "        document.querySelector('#df-7c779742-b0c2-46df-8fdc-372440e50f45 button');\n",
              "      quickchartButtonEl.style.display =\n",
              "        google.colab.kernel.accessAllowed ? 'block' : 'none';\n",
              "    })();\n",
              "  </script>\n",
              "</div>\n",
              "\n",
              "    </div>\n",
              "  </div>\n"
            ],
            "application/vnd.google.colaboratory.intrinsic+json": {
              "type": "dataframe",
              "variable_name": "insurance_fraud",
              "summary": "{\n  \"name\": \"insurance_fraud\",\n  \"rows\": 4500,\n  \"fields\": [\n    {\n      \"column\": \"ClaimID\",\n      \"properties\": {\n        \"dtype\": \"string\",\n        \"num_unique_values\": 4500,\n        \"samples\": [\n          \"6eea92b2-bd25-484d-94bd-278706e7f11c\",\n          \"264f9234-35b7-48e0-863e-3038f05e51a8\",\n          \"6ca50d60-289d-4924-86fa-5cfb36d4bfa1\"\n        ],\n        \"semantic_type\": \"\",\n        \"description\": \"\"\n      }\n    },\n    {\n      \"column\": \"PatientID\",\n      \"properties\": {\n        \"dtype\": \"string\",\n        \"num_unique_values\": 4500,\n        \"samples\": [\n          \"e86c4d40-dc9f-4666-bcb6-0561ae7468e4\",\n          \"977390da-7037-497c-8da8-05b785fc8aae\",\n          \"83031d43-d58a-4f4e-917f-06af34a9f53c\"\n        ],\n        \"semantic_type\": \"\",\n        \"description\": \"\"\n      }\n    },\n    {\n      \"column\": \"ProviderID\",\n      \"properties\": {\n        \"dtype\": \"string\",\n        \"num_unique_values\": 4500,\n        \"samples\": [\n          \"3ebc3513-699e-4efe-82e1-7e81e9274edd\",\n          \"2410738f-52d7-4a35-8a3c-820813284abc\",\n          \"9ce2b57c-8421-4594-a35f-97d7737be2cf\"\n        ],\n        \"semantic_type\": \"\",\n        \"description\": \"\"\n      }\n    },\n    {\n      \"column\": \"ClaimAmount\",\n      \"properties\": {\n        \"dtype\": \"number\",\n        \"std\": 2866.291065751814,\n        \"min\": 100.12,\n        \"max\": 9997.2,\n        \"num_unique_values\": 4490,\n        \"samples\": [\n          7099.07,\n          6360.67,\n          3391.32\n        ],\n        \"semantic_type\": \"\",\n        \"description\": \"\"\n      }\n    },\n    {\n      \"column\": \"ClaimDate\",\n      \"properties\": {\n        \"dtype\": \"object\",\n        \"num_unique_values\": 731,\n        \"samples\": [\n          \"2022-08-05 00:00:00\",\n          \"2024-06-05 00:00:00\",\n          \"2023-09-12 00:00:00\"\n        ],\n        \"semantic_type\": \"\",\n        \"description\": \"\"\n      }\n    },\n    {\n      \"column\": \"DiagnosisCode\",\n      \"properties\": {\n        \"dtype\": \"string\",\n        \"num_unique_values\": 4495,\n        \"samples\": [\n          \"kU691\",\n          \"yl726\",\n          \"Nl555\"\n        ],\n        \"semantic_type\": \"\",\n        \"description\": \"\"\n      }\n    },\n    {\n      \"column\": \"ProcedureCode\",\n      \"properties\": {\n        \"dtype\": \"string\",\n        \"num_unique_values\": 4495,\n        \"samples\": [\n          \"aa983\",\n          \"Xp721\",\n          \"FH606\"\n        ],\n        \"semantic_type\": \"\",\n        \"description\": \"\"\n      }\n    },\n    {\n      \"column\": \"PatientAge\",\n      \"properties\": {\n        \"dtype\": \"number\",\n        \"std\": 28,\n        \"min\": 0,\n        \"max\": 99,\n        \"num_unique_values\": 100,\n        \"samples\": [\n          20,\n          42,\n          58\n        ],\n        \"semantic_type\": \"\",\n        \"description\": \"\"\n      }\n    },\n    {\n      \"column\": \"PatientGender\",\n      \"properties\": {\n        \"dtype\": \"category\",\n        \"num_unique_values\": 2,\n        \"samples\": [\n          \"M\",\n          \"F\"\n        ],\n        \"semantic_type\": \"\",\n        \"description\": \"\"\n      }\n    },\n    {\n      \"column\": \"ProviderSpecialty\",\n      \"properties\": {\n        \"dtype\": \"category\",\n        \"num_unique_values\": 5,\n        \"samples\": [\n          \"Cardiology\",\n          \"General Practice\"\n        ],\n        \"semantic_type\": \"\",\n        \"description\": \"\"\n      }\n    },\n    {\n      \"column\": \"ClaimStatus\",\n      \"properties\": {\n        \"dtype\": \"category\",\n        \"num_unique_values\": 3,\n        \"samples\": [\n          \"Pending\",\n          \"Denied\"\n        ],\n        \"semantic_type\": \"\",\n        \"description\": \"\"\n      }\n    },\n    {\n      \"column\": \"PatientIncome\",\n      \"properties\": {\n        \"dtype\": \"number\",\n        \"std\": 37085.90887801407,\n        \"min\": 20006.87,\n        \"max\": 149957.52,\n        \"num_unique_values\": 4500,\n        \"samples\": [\n          61778.09,\n          134484.58\n        ],\n        \"semantic_type\": \"\",\n        \"description\": \"\"\n      }\n    },\n    {\n      \"column\": \"PatientMaritalStatus\",\n      \"properties\": {\n        \"dtype\": \"category\",\n        \"num_unique_values\": 4,\n        \"samples\": [\n          \"Widowed\",\n          \"Divorced\"\n        ],\n        \"semantic_type\": \"\",\n        \"description\": \"\"\n      }\n    },\n    {\n      \"column\": \"PatientEmploymentStatus\",\n      \"properties\": {\n        \"dtype\": \"category\",\n        \"num_unique_values\": 4,\n        \"samples\": [\n          \"Student\",\n          \"Retired\"\n        ],\n        \"semantic_type\": \"\",\n        \"description\": \"\"\n      }\n    },\n    {\n      \"column\": \"ProviderLocation\",\n      \"properties\": {\n        \"dtype\": \"string\",\n        \"num_unique_values\": 3876,\n        \"samples\": [\n          \"Figueroaton\",\n          \"Dixonland\"\n        ],\n        \"semantic_type\": \"\",\n        \"description\": \"\"\n      }\n    },\n    {\n      \"column\": \"ClaimType\",\n      \"properties\": {\n        \"dtype\": \"category\",\n        \"num_unique_values\": 4,\n        \"samples\": [\n          \"Emergency\",\n          \"Outpatient\"\n        ],\n        \"semantic_type\": \"\",\n        \"description\": \"\"\n      }\n    },\n    {\n      \"column\": \"ClaimSubmissionMethod\",\n      \"properties\": {\n        \"dtype\": \"category\",\n        \"num_unique_values\": 3,\n        \"samples\": [\n          \"Paper\",\n          \"Online\"\n        ],\n        \"semantic_type\": \"\",\n        \"description\": \"\"\n      }\n    },\n    {\n      \"column\": \"Cluster\",\n      \"properties\": {\n        \"dtype\": \"number\",\n        \"std\": 1,\n        \"min\": 0,\n        \"max\": 3,\n        \"num_unique_values\": 4,\n        \"samples\": [\n          2,\n          0\n        ],\n        \"semantic_type\": \"\",\n        \"description\": \"\"\n      }\n    },\n    {\n      \"column\": \"ClaimLegitimacy\",\n      \"properties\": {\n        \"dtype\": \"category\",\n        \"num_unique_values\": 2,\n        \"samples\": [\n          \"Fraud\",\n          \"Legitimate\"\n        ],\n        \"semantic_type\": \"\",\n        \"description\": \"\"\n      }\n    }\n  ]\n}"
            }
          },
          "metadata": {},
          "execution_count": 18
        }
      ],
      "source": [
        "import pandas as pd\n",
        "import numpy as np\n",
        "\n",
        "insurance_fraud=pd.read_csv('/content/Datasets/Health Insurance Fraud Claims csv file.csv')\n",
        "\n",
        "insurance_fraud.head(2)"
      ]
    },
    {
      "cell_type": "code",
      "execution_count": 19,
      "metadata": {
        "id": "J5H2u8IPbvy3",
        "colab": {
          "base_uri": "https://localhost:8080/",
          "height": 300
        },
        "outputId": "8d583e4e-4775-4ec2-951c-a51e1e6ad0b7"
      },
      "outputs": [
        {
          "output_type": "execute_result",
          "data": {
            "text/plain": [
              "       ClaimAmount   PatientAge  PatientIncome      Cluster\n",
              "count  4500.000000  4500.000000    4500.000000  4500.000000\n",
              "mean   5014.203867    49.838444   84384.284084     1.503111\n",
              "std    2866.291066    28.790471   37085.908878     1.127261\n",
              "min     100.120000     0.000000   20006.870000     0.000000\n",
              "25%    2509.072500    25.000000   52791.905000     0.000000\n",
              "50%    5053.765000    50.500000   84061.205000     2.000000\n",
              "75%    7462.452500    75.000000  115768.417500     3.000000\n",
              "max    9997.200000    99.000000  149957.520000     3.000000"
            ],
            "text/html": [
              "\n",
              "  <div id=\"df-a5b20551-4e9a-46ce-a0c5-f1319b57d478\" class=\"colab-df-container\">\n",
              "    <div>\n",
              "<style scoped>\n",
              "    .dataframe tbody tr th:only-of-type {\n",
              "        vertical-align: middle;\n",
              "    }\n",
              "\n",
              "    .dataframe tbody tr th {\n",
              "        vertical-align: top;\n",
              "    }\n",
              "\n",
              "    .dataframe thead th {\n",
              "        text-align: right;\n",
              "    }\n",
              "</style>\n",
              "<table border=\"1\" class=\"dataframe\">\n",
              "  <thead>\n",
              "    <tr style=\"text-align: right;\">\n",
              "      <th></th>\n",
              "      <th>ClaimAmount</th>\n",
              "      <th>PatientAge</th>\n",
              "      <th>PatientIncome</th>\n",
              "      <th>Cluster</th>\n",
              "    </tr>\n",
              "  </thead>\n",
              "  <tbody>\n",
              "    <tr>\n",
              "      <th>count</th>\n",
              "      <td>4500.000000</td>\n",
              "      <td>4500.000000</td>\n",
              "      <td>4500.000000</td>\n",
              "      <td>4500.000000</td>\n",
              "    </tr>\n",
              "    <tr>\n",
              "      <th>mean</th>\n",
              "      <td>5014.203867</td>\n",
              "      <td>49.838444</td>\n",
              "      <td>84384.284084</td>\n",
              "      <td>1.503111</td>\n",
              "    </tr>\n",
              "    <tr>\n",
              "      <th>std</th>\n",
              "      <td>2866.291066</td>\n",
              "      <td>28.790471</td>\n",
              "      <td>37085.908878</td>\n",
              "      <td>1.127261</td>\n",
              "    </tr>\n",
              "    <tr>\n",
              "      <th>min</th>\n",
              "      <td>100.120000</td>\n",
              "      <td>0.000000</td>\n",
              "      <td>20006.870000</td>\n",
              "      <td>0.000000</td>\n",
              "    </tr>\n",
              "    <tr>\n",
              "      <th>25%</th>\n",
              "      <td>2509.072500</td>\n",
              "      <td>25.000000</td>\n",
              "      <td>52791.905000</td>\n",
              "      <td>0.000000</td>\n",
              "    </tr>\n",
              "    <tr>\n",
              "      <th>50%</th>\n",
              "      <td>5053.765000</td>\n",
              "      <td>50.500000</td>\n",
              "      <td>84061.205000</td>\n",
              "      <td>2.000000</td>\n",
              "    </tr>\n",
              "    <tr>\n",
              "      <th>75%</th>\n",
              "      <td>7462.452500</td>\n",
              "      <td>75.000000</td>\n",
              "      <td>115768.417500</td>\n",
              "      <td>3.000000</td>\n",
              "    </tr>\n",
              "    <tr>\n",
              "      <th>max</th>\n",
              "      <td>9997.200000</td>\n",
              "      <td>99.000000</td>\n",
              "      <td>149957.520000</td>\n",
              "      <td>3.000000</td>\n",
              "    </tr>\n",
              "  </tbody>\n",
              "</table>\n",
              "</div>\n",
              "    <div class=\"colab-df-buttons\">\n",
              "\n",
              "  <div class=\"colab-df-container\">\n",
              "    <button class=\"colab-df-convert\" onclick=\"convertToInteractive('df-a5b20551-4e9a-46ce-a0c5-f1319b57d478')\"\n",
              "            title=\"Convert this dataframe to an interactive table.\"\n",
              "            style=\"display:none;\">\n",
              "\n",
              "  <svg xmlns=\"http://www.w3.org/2000/svg\" height=\"24px\" viewBox=\"0 -960 960 960\">\n",
              "    <path d=\"M120-120v-720h720v720H120Zm60-500h600v-160H180v160Zm220 220h160v-160H400v160Zm0 220h160v-160H400v160ZM180-400h160v-160H180v160Zm440 0h160v-160H620v160ZM180-180h160v-160H180v160Zm440 0h160v-160H620v160Z\"/>\n",
              "  </svg>\n",
              "    </button>\n",
              "\n",
              "  <style>\n",
              "    .colab-df-container {\n",
              "      display:flex;\n",
              "      gap: 12px;\n",
              "    }\n",
              "\n",
              "    .colab-df-convert {\n",
              "      background-color: #E8F0FE;\n",
              "      border: none;\n",
              "      border-radius: 50%;\n",
              "      cursor: pointer;\n",
              "      display: none;\n",
              "      fill: #1967D2;\n",
              "      height: 32px;\n",
              "      padding: 0 0 0 0;\n",
              "      width: 32px;\n",
              "    }\n",
              "\n",
              "    .colab-df-convert:hover {\n",
              "      background-color: #E2EBFA;\n",
              "      box-shadow: 0px 1px 2px rgba(60, 64, 67, 0.3), 0px 1px 3px 1px rgba(60, 64, 67, 0.15);\n",
              "      fill: #174EA6;\n",
              "    }\n",
              "\n",
              "    .colab-df-buttons div {\n",
              "      margin-bottom: 4px;\n",
              "    }\n",
              "\n",
              "    [theme=dark] .colab-df-convert {\n",
              "      background-color: #3B4455;\n",
              "      fill: #D2E3FC;\n",
              "    }\n",
              "\n",
              "    [theme=dark] .colab-df-convert:hover {\n",
              "      background-color: #434B5C;\n",
              "      box-shadow: 0px 1px 3px 1px rgba(0, 0, 0, 0.15);\n",
              "      filter: drop-shadow(0px 1px 2px rgba(0, 0, 0, 0.3));\n",
              "      fill: #FFFFFF;\n",
              "    }\n",
              "  </style>\n",
              "\n",
              "    <script>\n",
              "      const buttonEl =\n",
              "        document.querySelector('#df-a5b20551-4e9a-46ce-a0c5-f1319b57d478 button.colab-df-convert');\n",
              "      buttonEl.style.display =\n",
              "        google.colab.kernel.accessAllowed ? 'block' : 'none';\n",
              "\n",
              "      async function convertToInteractive(key) {\n",
              "        const element = document.querySelector('#df-a5b20551-4e9a-46ce-a0c5-f1319b57d478');\n",
              "        const dataTable =\n",
              "          await google.colab.kernel.invokeFunction('convertToInteractive',\n",
              "                                                    [key], {});\n",
              "        if (!dataTable) return;\n",
              "\n",
              "        const docLinkHtml = 'Like what you see? Visit the ' +\n",
              "          '<a target=\"_blank\" href=https://colab.research.google.com/notebooks/data_table.ipynb>data table notebook</a>'\n",
              "          + ' to learn more about interactive tables.';\n",
              "        element.innerHTML = '';\n",
              "        dataTable['output_type'] = 'display_data';\n",
              "        await google.colab.output.renderOutput(dataTable, element);\n",
              "        const docLink = document.createElement('div');\n",
              "        docLink.innerHTML = docLinkHtml;\n",
              "        element.appendChild(docLink);\n",
              "      }\n",
              "    </script>\n",
              "  </div>\n",
              "\n",
              "\n",
              "<div id=\"df-409e3c2e-5aea-4a62-979d-b9e5b565c6fa\">\n",
              "  <button class=\"colab-df-quickchart\" onclick=\"quickchart('df-409e3c2e-5aea-4a62-979d-b9e5b565c6fa')\"\n",
              "            title=\"Suggest charts\"\n",
              "            style=\"display:none;\">\n",
              "\n",
              "<svg xmlns=\"http://www.w3.org/2000/svg\" height=\"24px\"viewBox=\"0 0 24 24\"\n",
              "     width=\"24px\">\n",
              "    <g>\n",
              "        <path d=\"M19 3H5c-1.1 0-2 .9-2 2v14c0 1.1.9 2 2 2h14c1.1 0 2-.9 2-2V5c0-1.1-.9-2-2-2zM9 17H7v-7h2v7zm4 0h-2V7h2v10zm4 0h-2v-4h2v4z\"/>\n",
              "    </g>\n",
              "</svg>\n",
              "  </button>\n",
              "\n",
              "<style>\n",
              "  .colab-df-quickchart {\n",
              "      --bg-color: #E8F0FE;\n",
              "      --fill-color: #1967D2;\n",
              "      --hover-bg-color: #E2EBFA;\n",
              "      --hover-fill-color: #174EA6;\n",
              "      --disabled-fill-color: #AAA;\n",
              "      --disabled-bg-color: #DDD;\n",
              "  }\n",
              "\n",
              "  [theme=dark] .colab-df-quickchart {\n",
              "      --bg-color: #3B4455;\n",
              "      --fill-color: #D2E3FC;\n",
              "      --hover-bg-color: #434B5C;\n",
              "      --hover-fill-color: #FFFFFF;\n",
              "      --disabled-bg-color: #3B4455;\n",
              "      --disabled-fill-color: #666;\n",
              "  }\n",
              "\n",
              "  .colab-df-quickchart {\n",
              "    background-color: var(--bg-color);\n",
              "    border: none;\n",
              "    border-radius: 50%;\n",
              "    cursor: pointer;\n",
              "    display: none;\n",
              "    fill: var(--fill-color);\n",
              "    height: 32px;\n",
              "    padding: 0;\n",
              "    width: 32px;\n",
              "  }\n",
              "\n",
              "  .colab-df-quickchart:hover {\n",
              "    background-color: var(--hover-bg-color);\n",
              "    box-shadow: 0 1px 2px rgba(60, 64, 67, 0.3), 0 1px 3px 1px rgba(60, 64, 67, 0.15);\n",
              "    fill: var(--button-hover-fill-color);\n",
              "  }\n",
              "\n",
              "  .colab-df-quickchart-complete:disabled,\n",
              "  .colab-df-quickchart-complete:disabled:hover {\n",
              "    background-color: var(--disabled-bg-color);\n",
              "    fill: var(--disabled-fill-color);\n",
              "    box-shadow: none;\n",
              "  }\n",
              "\n",
              "  .colab-df-spinner {\n",
              "    border: 2px solid var(--fill-color);\n",
              "    border-color: transparent;\n",
              "    border-bottom-color: var(--fill-color);\n",
              "    animation:\n",
              "      spin 1s steps(1) infinite;\n",
              "  }\n",
              "\n",
              "  @keyframes spin {\n",
              "    0% {\n",
              "      border-color: transparent;\n",
              "      border-bottom-color: var(--fill-color);\n",
              "      border-left-color: var(--fill-color);\n",
              "    }\n",
              "    20% {\n",
              "      border-color: transparent;\n",
              "      border-left-color: var(--fill-color);\n",
              "      border-top-color: var(--fill-color);\n",
              "    }\n",
              "    30% {\n",
              "      border-color: transparent;\n",
              "      border-left-color: var(--fill-color);\n",
              "      border-top-color: var(--fill-color);\n",
              "      border-right-color: var(--fill-color);\n",
              "    }\n",
              "    40% {\n",
              "      border-color: transparent;\n",
              "      border-right-color: var(--fill-color);\n",
              "      border-top-color: var(--fill-color);\n",
              "    }\n",
              "    60% {\n",
              "      border-color: transparent;\n",
              "      border-right-color: var(--fill-color);\n",
              "    }\n",
              "    80% {\n",
              "      border-color: transparent;\n",
              "      border-right-color: var(--fill-color);\n",
              "      border-bottom-color: var(--fill-color);\n",
              "    }\n",
              "    90% {\n",
              "      border-color: transparent;\n",
              "      border-bottom-color: var(--fill-color);\n",
              "    }\n",
              "  }\n",
              "</style>\n",
              "\n",
              "  <script>\n",
              "    async function quickchart(key) {\n",
              "      const quickchartButtonEl =\n",
              "        document.querySelector('#' + key + ' button');\n",
              "      quickchartButtonEl.disabled = true;  // To prevent multiple clicks.\n",
              "      quickchartButtonEl.classList.add('colab-df-spinner');\n",
              "      try {\n",
              "        const charts = await google.colab.kernel.invokeFunction(\n",
              "            'suggestCharts', [key], {});\n",
              "      } catch (error) {\n",
              "        console.error('Error during call to suggestCharts:', error);\n",
              "      }\n",
              "      quickchartButtonEl.classList.remove('colab-df-spinner');\n",
              "      quickchartButtonEl.classList.add('colab-df-quickchart-complete');\n",
              "    }\n",
              "    (() => {\n",
              "      let quickchartButtonEl =\n",
              "        document.querySelector('#df-409e3c2e-5aea-4a62-979d-b9e5b565c6fa button');\n",
              "      quickchartButtonEl.style.display =\n",
              "        google.colab.kernel.accessAllowed ? 'block' : 'none';\n",
              "    })();\n",
              "  </script>\n",
              "</div>\n",
              "\n",
              "    </div>\n",
              "  </div>\n"
            ],
            "application/vnd.google.colaboratory.intrinsic+json": {
              "type": "dataframe",
              "summary": "{\n  \"name\": \"insurance_fraud\",\n  \"rows\": 8,\n  \"fields\": [\n    {\n      \"column\": \"ClaimAmount\",\n      \"properties\": {\n        \"dtype\": \"number\",\n        \"std\": 3053.7031289483407,\n        \"min\": 100.12,\n        \"max\": 9997.2,\n        \"num_unique_values\": 8,\n        \"samples\": [\n          5014.203866666667,\n          5053.765,\n          4500.0\n        ],\n        \"semantic_type\": \"\",\n        \"description\": \"\"\n      }\n    },\n    {\n      \"column\": \"PatientAge\",\n      \"properties\": {\n        \"dtype\": \"number\",\n        \"std\": 1574.7135979497355,\n        \"min\": 0.0,\n        \"max\": 4500.0,\n        \"num_unique_values\": 8,\n        \"samples\": [\n          49.83844444444444,\n          50.5,\n          4500.0\n        ],\n        \"semantic_type\": \"\",\n        \"description\": \"\"\n      }\n    },\n    {\n      \"column\": \"PatientIncome\",\n      \"properties\": {\n        \"dtype\": \"number\",\n        \"std\": 49346.04747353504,\n        \"min\": 4500.0,\n        \"max\": 149957.52,\n        \"num_unique_values\": 8,\n        \"samples\": [\n          84384.28408444444,\n          84061.205,\n          4500.0\n        ],\n        \"semantic_type\": \"\",\n        \"description\": \"\"\n      }\n    },\n    {\n      \"column\": \"Cluster\",\n      \"properties\": {\n        \"dtype\": \"number\",\n        \"std\": 1590.4537643587914,\n        \"min\": 0.0,\n        \"max\": 4500.0,\n        \"num_unique_values\": 6,\n        \"samples\": [\n          4500.0,\n          1.503111111111111,\n          3.0\n        ],\n        \"semantic_type\": \"\",\n        \"description\": \"\"\n      }\n    }\n  ]\n}"
            }
          },
          "metadata": {},
          "execution_count": 19
        }
      ],
      "source": [
        "insurance_fraud.describe()"
      ]
    },
    {
      "cell_type": "code",
      "execution_count": 20,
      "metadata": {
        "id": "9ZrH3wW6byQ_",
        "colab": {
          "base_uri": "https://localhost:8080/"
        },
        "outputId": "a9ae91d2-2983-4733-d99f-0574f0323cb8"
      },
      "outputs": [
        {
          "output_type": "execute_result",
          "data": {
            "text/plain": [
              "801"
            ]
          },
          "metadata": {},
          "execution_count": 20
        }
      ],
      "source": [
        "age_under_18=insurance_fraud[insurance_fraud['PatientAge']< 18]\n",
        "len(age_under_18)"
      ]
    },
    {
      "cell_type": "code",
      "execution_count": 21,
      "metadata": {
        "id": "mxE_gCFYb0H_",
        "colab": {
          "base_uri": "https://localhost:8080/"
        },
        "outputId": "ae7afddb-bd2f-4c44-9860-90abd9073108"
      },
      "outputs": [
        {
          "output_type": "execute_result",
          "data": {
            "text/plain": [
              "(3699, 19)"
            ]
          },
          "metadata": {},
          "execution_count": 21
        }
      ],
      "source": [
        "insurance_fraud = insurance_fraud.drop(age_under_18.index)\n",
        "insurance_fraud.shape"
      ]
    },
    {
      "cell_type": "markdown",
      "metadata": {
        "id": "r1C2oUE8ekTn"
      },
      "source": [
        "#remove unwanted columns from the datasets"
      ]
    },
    {
      "cell_type": "code",
      "execution_count": 22,
      "metadata": {
        "id": "Dexs1DO_eeXP",
        "colab": {
          "base_uri": "https://localhost:8080/",
          "height": 153
        },
        "outputId": "b022df91-ffd3-4233-ab3c-32c146fa8b15"
      },
      "outputs": [
        {
          "output_type": "stream",
          "name": "stdout",
          "text": [
            "Shape of the datasets: (3699, 13)\n"
          ]
        },
        {
          "output_type": "execute_result",
          "data": {
            "text/plain": [
              "             ClaimDate  ClaimAmount  PatientAge PatientGender  \\\n",
              "0  2024-07-08 00:00:00      7820.52          96             F   \n",
              "\n",
              "  ProviderSpecialty ClaimStatus  PatientIncome PatientMaritalStatus  \\\n",
              "0       Orthopedics     Pending       57595.11               Single   \n",
              "\n",
              "  PatientEmploymentStatus ProviderLocation  ClaimType ClaimSubmissionMethod  \\\n",
              "0                Employed   New Alishaview  Inpatient                 Paper   \n",
              "\n",
              "  ClaimLegitimacy  \n",
              "0      Legitimate  "
            ],
            "text/html": [
              "\n",
              "  <div id=\"df-3c295f92-096c-428b-9dd5-ccd981262639\" class=\"colab-df-container\">\n",
              "    <div>\n",
              "<style scoped>\n",
              "    .dataframe tbody tr th:only-of-type {\n",
              "        vertical-align: middle;\n",
              "    }\n",
              "\n",
              "    .dataframe tbody tr th {\n",
              "        vertical-align: top;\n",
              "    }\n",
              "\n",
              "    .dataframe thead th {\n",
              "        text-align: right;\n",
              "    }\n",
              "</style>\n",
              "<table border=\"1\" class=\"dataframe\">\n",
              "  <thead>\n",
              "    <tr style=\"text-align: right;\">\n",
              "      <th></th>\n",
              "      <th>ClaimDate</th>\n",
              "      <th>ClaimAmount</th>\n",
              "      <th>PatientAge</th>\n",
              "      <th>PatientGender</th>\n",
              "      <th>ProviderSpecialty</th>\n",
              "      <th>ClaimStatus</th>\n",
              "      <th>PatientIncome</th>\n",
              "      <th>PatientMaritalStatus</th>\n",
              "      <th>PatientEmploymentStatus</th>\n",
              "      <th>ProviderLocation</th>\n",
              "      <th>ClaimType</th>\n",
              "      <th>ClaimSubmissionMethod</th>\n",
              "      <th>ClaimLegitimacy</th>\n",
              "    </tr>\n",
              "  </thead>\n",
              "  <tbody>\n",
              "    <tr>\n",
              "      <th>0</th>\n",
              "      <td>2024-07-08 00:00:00</td>\n",
              "      <td>7820.52</td>\n",
              "      <td>96</td>\n",
              "      <td>F</td>\n",
              "      <td>Orthopedics</td>\n",
              "      <td>Pending</td>\n",
              "      <td>57595.11</td>\n",
              "      <td>Single</td>\n",
              "      <td>Employed</td>\n",
              "      <td>New Alishaview</td>\n",
              "      <td>Inpatient</td>\n",
              "      <td>Paper</td>\n",
              "      <td>Legitimate</td>\n",
              "    </tr>\n",
              "  </tbody>\n",
              "</table>\n",
              "</div>\n",
              "    <div class=\"colab-df-buttons\">\n",
              "\n",
              "  <div class=\"colab-df-container\">\n",
              "    <button class=\"colab-df-convert\" onclick=\"convertToInteractive('df-3c295f92-096c-428b-9dd5-ccd981262639')\"\n",
              "            title=\"Convert this dataframe to an interactive table.\"\n",
              "            style=\"display:none;\">\n",
              "\n",
              "  <svg xmlns=\"http://www.w3.org/2000/svg\" height=\"24px\" viewBox=\"0 -960 960 960\">\n",
              "    <path d=\"M120-120v-720h720v720H120Zm60-500h600v-160H180v160Zm220 220h160v-160H400v160Zm0 220h160v-160H400v160ZM180-400h160v-160H180v160Zm440 0h160v-160H620v160ZM180-180h160v-160H180v160Zm440 0h160v-160H620v160Z\"/>\n",
              "  </svg>\n",
              "    </button>\n",
              "\n",
              "  <style>\n",
              "    .colab-df-container {\n",
              "      display:flex;\n",
              "      gap: 12px;\n",
              "    }\n",
              "\n",
              "    .colab-df-convert {\n",
              "      background-color: #E8F0FE;\n",
              "      border: none;\n",
              "      border-radius: 50%;\n",
              "      cursor: pointer;\n",
              "      display: none;\n",
              "      fill: #1967D2;\n",
              "      height: 32px;\n",
              "      padding: 0 0 0 0;\n",
              "      width: 32px;\n",
              "    }\n",
              "\n",
              "    .colab-df-convert:hover {\n",
              "      background-color: #E2EBFA;\n",
              "      box-shadow: 0px 1px 2px rgba(60, 64, 67, 0.3), 0px 1px 3px 1px rgba(60, 64, 67, 0.15);\n",
              "      fill: #174EA6;\n",
              "    }\n",
              "\n",
              "    .colab-df-buttons div {\n",
              "      margin-bottom: 4px;\n",
              "    }\n",
              "\n",
              "    [theme=dark] .colab-df-convert {\n",
              "      background-color: #3B4455;\n",
              "      fill: #D2E3FC;\n",
              "    }\n",
              "\n",
              "    [theme=dark] .colab-df-convert:hover {\n",
              "      background-color: #434B5C;\n",
              "      box-shadow: 0px 1px 3px 1px rgba(0, 0, 0, 0.15);\n",
              "      filter: drop-shadow(0px 1px 2px rgba(0, 0, 0, 0.3));\n",
              "      fill: #FFFFFF;\n",
              "    }\n",
              "  </style>\n",
              "\n",
              "    <script>\n",
              "      const buttonEl =\n",
              "        document.querySelector('#df-3c295f92-096c-428b-9dd5-ccd981262639 button.colab-df-convert');\n",
              "      buttonEl.style.display =\n",
              "        google.colab.kernel.accessAllowed ? 'block' : 'none';\n",
              "\n",
              "      async function convertToInteractive(key) {\n",
              "        const element = document.querySelector('#df-3c295f92-096c-428b-9dd5-ccd981262639');\n",
              "        const dataTable =\n",
              "          await google.colab.kernel.invokeFunction('convertToInteractive',\n",
              "                                                    [key], {});\n",
              "        if (!dataTable) return;\n",
              "\n",
              "        const docLinkHtml = 'Like what you see? Visit the ' +\n",
              "          '<a target=\"_blank\" href=https://colab.research.google.com/notebooks/data_table.ipynb>data table notebook</a>'\n",
              "          + ' to learn more about interactive tables.';\n",
              "        element.innerHTML = '';\n",
              "        dataTable['output_type'] = 'display_data';\n",
              "        await google.colab.output.renderOutput(dataTable, element);\n",
              "        const docLink = document.createElement('div');\n",
              "        docLink.innerHTML = docLinkHtml;\n",
              "        element.appendChild(docLink);\n",
              "      }\n",
              "    </script>\n",
              "  </div>\n",
              "\n",
              "\n",
              "    </div>\n",
              "  </div>\n"
            ],
            "application/vnd.google.colaboratory.intrinsic+json": {
              "type": "dataframe",
              "variable_name": "insurance_fraud",
              "summary": "{\n  \"name\": \"insurance_fraud\",\n  \"rows\": 3699,\n  \"fields\": [\n    {\n      \"column\": \"ClaimDate\",\n      \"properties\": {\n        \"dtype\": \"object\",\n        \"num_unique_values\": 725,\n        \"samples\": [\n          \"2023-08-14 00:00:00\",\n          \"2023-02-02 00:00:00\",\n          \"2022-12-28 00:00:00\"\n        ],\n        \"semantic_type\": \"\",\n        \"description\": \"\"\n      }\n    },\n    {\n      \"column\": \"ClaimAmount\",\n      \"properties\": {\n        \"dtype\": \"number\",\n        \"std\": 2876.492933566812,\n        \"min\": 100.3,\n        \"max\": 9997.2,\n        \"num_unique_values\": 3690,\n        \"samples\": [\n          7917.22,\n          6828.51,\n          3904.83\n        ],\n        \"semantic_type\": \"\",\n        \"description\": \"\"\n      }\n    },\n    {\n      \"column\": \"PatientAge\",\n      \"properties\": {\n        \"dtype\": \"number\",\n        \"std\": 23,\n        \"min\": 18,\n        \"max\": 99,\n        \"num_unique_values\": 82,\n        \"samples\": [\n          54,\n          96,\n          88\n        ],\n        \"semantic_type\": \"\",\n        \"description\": \"\"\n      }\n    },\n    {\n      \"column\": \"PatientGender\",\n      \"properties\": {\n        \"dtype\": \"category\",\n        \"num_unique_values\": 2,\n        \"samples\": [\n          \"M\",\n          \"F\"\n        ],\n        \"semantic_type\": \"\",\n        \"description\": \"\"\n      }\n    },\n    {\n      \"column\": \"ProviderSpecialty\",\n      \"properties\": {\n        \"dtype\": \"category\",\n        \"num_unique_values\": 5,\n        \"samples\": [\n          \"Cardiology\",\n          \"General Practice\"\n        ],\n        \"semantic_type\": \"\",\n        \"description\": \"\"\n      }\n    },\n    {\n      \"column\": \"ClaimStatus\",\n      \"properties\": {\n        \"dtype\": \"category\",\n        \"num_unique_values\": 3,\n        \"samples\": [\n          \"Pending\",\n          \"Denied\"\n        ],\n        \"semantic_type\": \"\",\n        \"description\": \"\"\n      }\n    },\n    {\n      \"column\": \"PatientIncome\",\n      \"properties\": {\n        \"dtype\": \"number\",\n        \"std\": 37139.80115905185,\n        \"min\": 20006.87,\n        \"max\": 149957.52,\n        \"num_unique_values\": 3699,\n        \"samples\": [\n          41371.05,\n          131866.49\n        ],\n        \"semantic_type\": \"\",\n        \"description\": \"\"\n      }\n    },\n    {\n      \"column\": \"PatientMaritalStatus\",\n      \"properties\": {\n        \"dtype\": \"category\",\n        \"num_unique_values\": 4,\n        \"samples\": [\n          \"Widowed\",\n          \"Divorced\"\n        ],\n        \"semantic_type\": \"\",\n        \"description\": \"\"\n      }\n    },\n    {\n      \"column\": \"PatientEmploymentStatus\",\n      \"properties\": {\n        \"dtype\": \"category\",\n        \"num_unique_values\": 4,\n        \"samples\": [\n          \"Unemployed\",\n          \"Student\"\n        ],\n        \"semantic_type\": \"\",\n        \"description\": \"\"\n      }\n    },\n    {\n      \"column\": \"ProviderLocation\",\n      \"properties\": {\n        \"dtype\": \"string\",\n        \"num_unique_values\": 3241,\n        \"samples\": [\n          \"East Isaiah\",\n          \"East Steven\"\n        ],\n        \"semantic_type\": \"\",\n        \"description\": \"\"\n      }\n    },\n    {\n      \"column\": \"ClaimType\",\n      \"properties\": {\n        \"dtype\": \"category\",\n        \"num_unique_values\": 4,\n        \"samples\": [\n          \"Routine\",\n          \"Emergency\"\n        ],\n        \"semantic_type\": \"\",\n        \"description\": \"\"\n      }\n    },\n    {\n      \"column\": \"ClaimSubmissionMethod\",\n      \"properties\": {\n        \"dtype\": \"category\",\n        \"num_unique_values\": 3,\n        \"samples\": [\n          \"Paper\",\n          \"Online\"\n        ],\n        \"semantic_type\": \"\",\n        \"description\": \"\"\n      }\n    },\n    {\n      \"column\": \"ClaimLegitimacy\",\n      \"properties\": {\n        \"dtype\": \"category\",\n        \"num_unique_values\": 2,\n        \"samples\": [\n          \"Fraud\",\n          \"Legitimate\"\n        ],\n        \"semantic_type\": \"\",\n        \"description\": \"\"\n      }\n    }\n  ]\n}"
            }
          },
          "metadata": {},
          "execution_count": 22
        }
      ],
      "source": [
        "insurance_fraud = insurance_fraud[[\"ClaimDate\",\"ClaimAmount\",\"PatientAge\",\"PatientGender\",\"ProviderSpecialty\",\"ClaimStatus\",\"PatientIncome\",\"PatientMaritalStatus\",\"PatientEmploymentStatus\",\"ProviderLocation\",\"ClaimType\",\"ClaimSubmissionMethod\",\"ClaimLegitimacy\"]]\n",
        "\n",
        "print(f\"Shape of the datasets: {insurance_fraud.shape}\")\n",
        "\n",
        "insurance_fraud.head(1)"
      ]
    },
    {
      "cell_type": "markdown",
      "metadata": {
        "id": "IVKvizXqeocm"
      },
      "source": [
        "# all coulmns unique values"
      ]
    },
    {
      "cell_type": "code",
      "execution_count": 23,
      "metadata": {
        "id": "KokpJhFkepYb",
        "colab": {
          "base_uri": "https://localhost:8080/",
          "height": 457
        },
        "outputId": "b2b48506-0b1e-4ae5-faf1-7f7e127a1b20"
      },
      "outputs": [
        {
          "output_type": "execute_result",
          "data": {
            "text/plain": [
              "                         Unique Value Count\n",
              "ClaimDate                               725\n",
              "ClaimAmount                            3690\n",
              "PatientAge                               82\n",
              "PatientGender                             2\n",
              "ProviderSpecialty                         5\n",
              "ClaimStatus                               3\n",
              "PatientIncome                          3699\n",
              "PatientMaritalStatus                      4\n",
              "PatientEmploymentStatus                   4\n",
              "ProviderLocation                       3241\n",
              "ClaimType                                 4\n",
              "ClaimSubmissionMethod                     3\n",
              "ClaimLegitimacy                           2"
            ],
            "text/html": [
              "\n",
              "  <div id=\"df-499e9b8c-18a0-4782-b6af-0a6312a0fbe0\" class=\"colab-df-container\">\n",
              "    <div>\n",
              "<style scoped>\n",
              "    .dataframe tbody tr th:only-of-type {\n",
              "        vertical-align: middle;\n",
              "    }\n",
              "\n",
              "    .dataframe tbody tr th {\n",
              "        vertical-align: top;\n",
              "    }\n",
              "\n",
              "    .dataframe thead th {\n",
              "        text-align: right;\n",
              "    }\n",
              "</style>\n",
              "<table border=\"1\" class=\"dataframe\">\n",
              "  <thead>\n",
              "    <tr style=\"text-align: right;\">\n",
              "      <th></th>\n",
              "      <th>Unique Value Count</th>\n",
              "    </tr>\n",
              "  </thead>\n",
              "  <tbody>\n",
              "    <tr>\n",
              "      <th>ClaimDate</th>\n",
              "      <td>725</td>\n",
              "    </tr>\n",
              "    <tr>\n",
              "      <th>ClaimAmount</th>\n",
              "      <td>3690</td>\n",
              "    </tr>\n",
              "    <tr>\n",
              "      <th>PatientAge</th>\n",
              "      <td>82</td>\n",
              "    </tr>\n",
              "    <tr>\n",
              "      <th>PatientGender</th>\n",
              "      <td>2</td>\n",
              "    </tr>\n",
              "    <tr>\n",
              "      <th>ProviderSpecialty</th>\n",
              "      <td>5</td>\n",
              "    </tr>\n",
              "    <tr>\n",
              "      <th>ClaimStatus</th>\n",
              "      <td>3</td>\n",
              "    </tr>\n",
              "    <tr>\n",
              "      <th>PatientIncome</th>\n",
              "      <td>3699</td>\n",
              "    </tr>\n",
              "    <tr>\n",
              "      <th>PatientMaritalStatus</th>\n",
              "      <td>4</td>\n",
              "    </tr>\n",
              "    <tr>\n",
              "      <th>PatientEmploymentStatus</th>\n",
              "      <td>4</td>\n",
              "    </tr>\n",
              "    <tr>\n",
              "      <th>ProviderLocation</th>\n",
              "      <td>3241</td>\n",
              "    </tr>\n",
              "    <tr>\n",
              "      <th>ClaimType</th>\n",
              "      <td>4</td>\n",
              "    </tr>\n",
              "    <tr>\n",
              "      <th>ClaimSubmissionMethod</th>\n",
              "      <td>3</td>\n",
              "    </tr>\n",
              "    <tr>\n",
              "      <th>ClaimLegitimacy</th>\n",
              "      <td>2</td>\n",
              "    </tr>\n",
              "  </tbody>\n",
              "</table>\n",
              "</div>\n",
              "    <div class=\"colab-df-buttons\">\n",
              "\n",
              "  <div class=\"colab-df-container\">\n",
              "    <button class=\"colab-df-convert\" onclick=\"convertToInteractive('df-499e9b8c-18a0-4782-b6af-0a6312a0fbe0')\"\n",
              "            title=\"Convert this dataframe to an interactive table.\"\n",
              "            style=\"display:none;\">\n",
              "\n",
              "  <svg xmlns=\"http://www.w3.org/2000/svg\" height=\"24px\" viewBox=\"0 -960 960 960\">\n",
              "    <path d=\"M120-120v-720h720v720H120Zm60-500h600v-160H180v160Zm220 220h160v-160H400v160Zm0 220h160v-160H400v160ZM180-400h160v-160H180v160Zm440 0h160v-160H620v160ZM180-180h160v-160H180v160Zm440 0h160v-160H620v160Z\"/>\n",
              "  </svg>\n",
              "    </button>\n",
              "\n",
              "  <style>\n",
              "    .colab-df-container {\n",
              "      display:flex;\n",
              "      gap: 12px;\n",
              "    }\n",
              "\n",
              "    .colab-df-convert {\n",
              "      background-color: #E8F0FE;\n",
              "      border: none;\n",
              "      border-radius: 50%;\n",
              "      cursor: pointer;\n",
              "      display: none;\n",
              "      fill: #1967D2;\n",
              "      height: 32px;\n",
              "      padding: 0 0 0 0;\n",
              "      width: 32px;\n",
              "    }\n",
              "\n",
              "    .colab-df-convert:hover {\n",
              "      background-color: #E2EBFA;\n",
              "      box-shadow: 0px 1px 2px rgba(60, 64, 67, 0.3), 0px 1px 3px 1px rgba(60, 64, 67, 0.15);\n",
              "      fill: #174EA6;\n",
              "    }\n",
              "\n",
              "    .colab-df-buttons div {\n",
              "      margin-bottom: 4px;\n",
              "    }\n",
              "\n",
              "    [theme=dark] .colab-df-convert {\n",
              "      background-color: #3B4455;\n",
              "      fill: #D2E3FC;\n",
              "    }\n",
              "\n",
              "    [theme=dark] .colab-df-convert:hover {\n",
              "      background-color: #434B5C;\n",
              "      box-shadow: 0px 1px 3px 1px rgba(0, 0, 0, 0.15);\n",
              "      filter: drop-shadow(0px 1px 2px rgba(0, 0, 0, 0.3));\n",
              "      fill: #FFFFFF;\n",
              "    }\n",
              "  </style>\n",
              "\n",
              "    <script>\n",
              "      const buttonEl =\n",
              "        document.querySelector('#df-499e9b8c-18a0-4782-b6af-0a6312a0fbe0 button.colab-df-convert');\n",
              "      buttonEl.style.display =\n",
              "        google.colab.kernel.accessAllowed ? 'block' : 'none';\n",
              "\n",
              "      async function convertToInteractive(key) {\n",
              "        const element = document.querySelector('#df-499e9b8c-18a0-4782-b6af-0a6312a0fbe0');\n",
              "        const dataTable =\n",
              "          await google.colab.kernel.invokeFunction('convertToInteractive',\n",
              "                                                    [key], {});\n",
              "        if (!dataTable) return;\n",
              "\n",
              "        const docLinkHtml = 'Like what you see? Visit the ' +\n",
              "          '<a target=\"_blank\" href=https://colab.research.google.com/notebooks/data_table.ipynb>data table notebook</a>'\n",
              "          + ' to learn more about interactive tables.';\n",
              "        element.innerHTML = '';\n",
              "        dataTable['output_type'] = 'display_data';\n",
              "        await google.colab.output.renderOutput(dataTable, element);\n",
              "        const docLink = document.createElement('div');\n",
              "        docLink.innerHTML = docLinkHtml;\n",
              "        element.appendChild(docLink);\n",
              "      }\n",
              "    </script>\n",
              "  </div>\n",
              "\n",
              "\n",
              "<div id=\"df-12a9e30c-8d96-4fb8-8b81-7fcf2ccbb55d\">\n",
              "  <button class=\"colab-df-quickchart\" onclick=\"quickchart('df-12a9e30c-8d96-4fb8-8b81-7fcf2ccbb55d')\"\n",
              "            title=\"Suggest charts\"\n",
              "            style=\"display:none;\">\n",
              "\n",
              "<svg xmlns=\"http://www.w3.org/2000/svg\" height=\"24px\"viewBox=\"0 0 24 24\"\n",
              "     width=\"24px\">\n",
              "    <g>\n",
              "        <path d=\"M19 3H5c-1.1 0-2 .9-2 2v14c0 1.1.9 2 2 2h14c1.1 0 2-.9 2-2V5c0-1.1-.9-2-2-2zM9 17H7v-7h2v7zm4 0h-2V7h2v10zm4 0h-2v-4h2v4z\"/>\n",
              "    </g>\n",
              "</svg>\n",
              "  </button>\n",
              "\n",
              "<style>\n",
              "  .colab-df-quickchart {\n",
              "      --bg-color: #E8F0FE;\n",
              "      --fill-color: #1967D2;\n",
              "      --hover-bg-color: #E2EBFA;\n",
              "      --hover-fill-color: #174EA6;\n",
              "      --disabled-fill-color: #AAA;\n",
              "      --disabled-bg-color: #DDD;\n",
              "  }\n",
              "\n",
              "  [theme=dark] .colab-df-quickchart {\n",
              "      --bg-color: #3B4455;\n",
              "      --fill-color: #D2E3FC;\n",
              "      --hover-bg-color: #434B5C;\n",
              "      --hover-fill-color: #FFFFFF;\n",
              "      --disabled-bg-color: #3B4455;\n",
              "      --disabled-fill-color: #666;\n",
              "  }\n",
              "\n",
              "  .colab-df-quickchart {\n",
              "    background-color: var(--bg-color);\n",
              "    border: none;\n",
              "    border-radius: 50%;\n",
              "    cursor: pointer;\n",
              "    display: none;\n",
              "    fill: var(--fill-color);\n",
              "    height: 32px;\n",
              "    padding: 0;\n",
              "    width: 32px;\n",
              "  }\n",
              "\n",
              "  .colab-df-quickchart:hover {\n",
              "    background-color: var(--hover-bg-color);\n",
              "    box-shadow: 0 1px 2px rgba(60, 64, 67, 0.3), 0 1px 3px 1px rgba(60, 64, 67, 0.15);\n",
              "    fill: var(--button-hover-fill-color);\n",
              "  }\n",
              "\n",
              "  .colab-df-quickchart-complete:disabled,\n",
              "  .colab-df-quickchart-complete:disabled:hover {\n",
              "    background-color: var(--disabled-bg-color);\n",
              "    fill: var(--disabled-fill-color);\n",
              "    box-shadow: none;\n",
              "  }\n",
              "\n",
              "  .colab-df-spinner {\n",
              "    border: 2px solid var(--fill-color);\n",
              "    border-color: transparent;\n",
              "    border-bottom-color: var(--fill-color);\n",
              "    animation:\n",
              "      spin 1s steps(1) infinite;\n",
              "  }\n",
              "\n",
              "  @keyframes spin {\n",
              "    0% {\n",
              "      border-color: transparent;\n",
              "      border-bottom-color: var(--fill-color);\n",
              "      border-left-color: var(--fill-color);\n",
              "    }\n",
              "    20% {\n",
              "      border-color: transparent;\n",
              "      border-left-color: var(--fill-color);\n",
              "      border-top-color: var(--fill-color);\n",
              "    }\n",
              "    30% {\n",
              "      border-color: transparent;\n",
              "      border-left-color: var(--fill-color);\n",
              "      border-top-color: var(--fill-color);\n",
              "      border-right-color: var(--fill-color);\n",
              "    }\n",
              "    40% {\n",
              "      border-color: transparent;\n",
              "      border-right-color: var(--fill-color);\n",
              "      border-top-color: var(--fill-color);\n",
              "    }\n",
              "    60% {\n",
              "      border-color: transparent;\n",
              "      border-right-color: var(--fill-color);\n",
              "    }\n",
              "    80% {\n",
              "      border-color: transparent;\n",
              "      border-right-color: var(--fill-color);\n",
              "      border-bottom-color: var(--fill-color);\n",
              "    }\n",
              "    90% {\n",
              "      border-color: transparent;\n",
              "      border-bottom-color: var(--fill-color);\n",
              "    }\n",
              "  }\n",
              "</style>\n",
              "\n",
              "  <script>\n",
              "    async function quickchart(key) {\n",
              "      const quickchartButtonEl =\n",
              "        document.querySelector('#' + key + ' button');\n",
              "      quickchartButtonEl.disabled = true;  // To prevent multiple clicks.\n",
              "      quickchartButtonEl.classList.add('colab-df-spinner');\n",
              "      try {\n",
              "        const charts = await google.colab.kernel.invokeFunction(\n",
              "            'suggestCharts', [key], {});\n",
              "      } catch (error) {\n",
              "        console.error('Error during call to suggestCharts:', error);\n",
              "      }\n",
              "      quickchartButtonEl.classList.remove('colab-df-spinner');\n",
              "      quickchartButtonEl.classList.add('colab-df-quickchart-complete');\n",
              "    }\n",
              "    (() => {\n",
              "      let quickchartButtonEl =\n",
              "        document.querySelector('#df-12a9e30c-8d96-4fb8-8b81-7fcf2ccbb55d button');\n",
              "      quickchartButtonEl.style.display =\n",
              "        google.colab.kernel.accessAllowed ? 'block' : 'none';\n",
              "    })();\n",
              "  </script>\n",
              "</div>\n",
              "\n",
              "  <div id=\"id_f6bf5e9c-29d3-4488-bf0b-82066dc6326f\">\n",
              "    <style>\n",
              "      .colab-df-generate {\n",
              "        background-color: #E8F0FE;\n",
              "        border: none;\n",
              "        border-radius: 50%;\n",
              "        cursor: pointer;\n",
              "        display: none;\n",
              "        fill: #1967D2;\n",
              "        height: 32px;\n",
              "        padding: 0 0 0 0;\n",
              "        width: 32px;\n",
              "      }\n",
              "\n",
              "      .colab-df-generate:hover {\n",
              "        background-color: #E2EBFA;\n",
              "        box-shadow: 0px 1px 2px rgba(60, 64, 67, 0.3), 0px 1px 3px 1px rgba(60, 64, 67, 0.15);\n",
              "        fill: #174EA6;\n",
              "      }\n",
              "\n",
              "      [theme=dark] .colab-df-generate {\n",
              "        background-color: #3B4455;\n",
              "        fill: #D2E3FC;\n",
              "      }\n",
              "\n",
              "      [theme=dark] .colab-df-generate:hover {\n",
              "        background-color: #434B5C;\n",
              "        box-shadow: 0px 1px 3px 1px rgba(0, 0, 0, 0.15);\n",
              "        filter: drop-shadow(0px 1px 2px rgba(0, 0, 0, 0.3));\n",
              "        fill: #FFFFFF;\n",
              "      }\n",
              "    </style>\n",
              "    <button class=\"colab-df-generate\" onclick=\"generateWithVariable('all_unique_df')\"\n",
              "            title=\"Generate code using this dataframe.\"\n",
              "            style=\"display:none;\">\n",
              "\n",
              "  <svg xmlns=\"http://www.w3.org/2000/svg\" height=\"24px\"viewBox=\"0 0 24 24\"\n",
              "       width=\"24px\">\n",
              "    <path d=\"M7,19H8.4L18.45,9,17,7.55,7,17.6ZM5,21V16.75L18.45,3.32a2,2,0,0,1,2.83,0l1.4,1.43a1.91,1.91,0,0,1,.58,1.4,1.91,1.91,0,0,1-.58,1.4L9.25,21ZM18.45,9,17,7.55Zm-12,3A5.31,5.31,0,0,0,4.9,8.1,5.31,5.31,0,0,0,1,6.5,5.31,5.31,0,0,0,4.9,4.9,5.31,5.31,0,0,0,6.5,1,5.31,5.31,0,0,0,8.1,4.9,5.31,5.31,0,0,0,12,6.5,5.46,5.46,0,0,0,6.5,12Z\"/>\n",
              "  </svg>\n",
              "    </button>\n",
              "    <script>\n",
              "      (() => {\n",
              "      const buttonEl =\n",
              "        document.querySelector('#id_f6bf5e9c-29d3-4488-bf0b-82066dc6326f button.colab-df-generate');\n",
              "      buttonEl.style.display =\n",
              "        google.colab.kernel.accessAllowed ? 'block' : 'none';\n",
              "\n",
              "      buttonEl.onclick = () => {\n",
              "        google.colab.notebook.generateWithVariable('all_unique_df');\n",
              "      }\n",
              "      })();\n",
              "    </script>\n",
              "  </div>\n",
              "\n",
              "    </div>\n",
              "  </div>\n"
            ],
            "application/vnd.google.colaboratory.intrinsic+json": {
              "type": "dataframe",
              "variable_name": "all_unique_df",
              "summary": "{\n  \"name\": \"all_unique_df\",\n  \"rows\": 13,\n  \"fields\": [\n    {\n      \"column\": \"Unique Value Count\",\n      \"properties\": {\n        \"dtype\": \"number\",\n        \"std\": 1533,\n        \"min\": 2,\n        \"max\": 3699,\n        \"num_unique_values\": 9,\n        \"samples\": [\n          4,\n          3690,\n          3\n        ],\n        \"semantic_type\": \"\",\n        \"description\": \"\"\n      }\n    }\n  ]\n}"
            }
          },
          "metadata": {},
          "execution_count": 23
        }
      ],
      "source": [
        "all_unique=insurance_fraud.nunique()\n",
        "all_unique_df = pd.DataFrame(all_unique, columns=['Unique Value Count'])\n",
        "all_unique_df"
      ]
    },
    {
      "cell_type": "markdown",
      "metadata": {
        "id": "CZ0BI7aZet7c"
      },
      "source": [
        "# Check duplicated values"
      ]
    },
    {
      "cell_type": "code",
      "execution_count": 24,
      "metadata": {
        "id": "--_LHPtPev_e",
        "colab": {
          "base_uri": "https://localhost:8080/"
        },
        "outputId": "54cedb7b-d484-4ed2-fd17-c66e4787ff7b"
      },
      "outputs": [
        {
          "output_type": "stream",
          "name": "stdout",
          "text": [
            "No duplicates row\n"
          ]
        }
      ],
      "source": [
        "duplicates=insurance_fraud.duplicated()\n",
        "flag=0\n",
        "for duplicate in duplicates:\n",
        "  if duplicate == True:\n",
        "    flag=1\n",
        "    print(f\"duplicate values {duplicate}\")\n",
        "if flag == 0:\n",
        "  print(\"No duplicates row\")\n"
      ]
    },
    {
      "cell_type": "markdown",
      "metadata": {
        "id": "jX1_6z56b-Zf"
      },
      "source": [
        "# Check Outliers with  IQR outliers data"
      ]
    },
    {
      "cell_type": "code",
      "execution_count": 25,
      "metadata": {
        "id": "CO-75uH6cLR7"
      },
      "outputs": [],
      "source": [
        "iqr_outlier_data = insurance_fraud.copy()\n"
      ]
    },
    {
      "cell_type": "code",
      "execution_count": 26,
      "metadata": {
        "id": "KNVmm8zCb2t2"
      },
      "outputs": [],
      "source": [
        "def iqr_outliers(data,x):\n",
        "  Q1=np.percentile(data[x],25)\n",
        "  Q3=np.percentile(data[x],75)\n",
        "  IQR=Q3-Q1\n",
        "\n",
        "  lower_bound=Q1 - (1.5 * IQR)\n",
        "  upper_bound=Q1 + (1.5 * IQR)\n",
        "\n",
        "  outliers=[]\n",
        "  outliers_index=[]\n",
        "  for i,value in data[x].items():\n",
        "    if value< lower_bound or value > upper_bound:\n",
        "      outliers.append(value)\n",
        "      outliers_index.append(i)\n",
        "  return outliers,outliers_index"
      ]
    },
    {
      "cell_type": "code",
      "execution_count": 27,
      "metadata": {
        "id": "UJz3VSLjchHY",
        "colab": {
          "base_uri": "https://localhost:8080/"
        },
        "outputId": "43cff2b1-e136-4598-fff6-f0fde5e75c91"
      },
      "outputs": [
        {
          "output_type": "stream",
          "name": "stdout",
          "text": [
            "outliers in PatientIncome : 42\n",
            "outliers Indexes in PatientIncome : [111, 202, 211, 569, 646, 661, 702, 729, 760, 861, 1121, 1217, 1387, 1524, 1549, 1553, 1620, 1689, 1744, 1811, 1885, 2087, 2213, 2400, 2683, 2722, 2892, 2954, 3210, 3350, 3386, 3528, 3552, 3594, 3668, 3699, 4001, 4050, 4253, 4272, 4303, 4460]\n"
          ]
        }
      ],
      "source": [
        "## outliers in PatientIncome\n",
        "income,outliers_index=iqr_outliers(iqr_outlier_data,\"PatientIncome\")\n",
        "\n",
        "\n",
        "print(f\"outliers in PatientIncome : {len(income)}\")\n",
        "\n",
        "print(f\"outliers Indexes in PatientIncome : {outliers_index}\")"
      ]
    },
    {
      "cell_type": "code",
      "execution_count": 28,
      "metadata": {
        "id": "LIMiwe7JckdW",
        "colab": {
          "base_uri": "https://localhost:8080/",
          "height": 193
        },
        "outputId": "c4d9258d-6505-43d8-8fda-66b68f9493cc"
      },
      "outputs": [
        {
          "output_type": "stream",
          "name": "stdout",
          "text": [
            "(3699, 13)\n"
          ]
        },
        {
          "output_type": "error",
          "ename": "NameError",
          "evalue": "name 'outliers_replace_data' is not defined",
          "traceback": [
            "\u001b[0;31m---------------------------------------------------------------------------\u001b[0m",
            "\u001b[0;31mNameError\u001b[0m                                 Traceback (most recent call last)",
            "\u001b[0;32m<ipython-input-28-42462f5d9cb8>\u001b[0m in \u001b[0;36m<cell line: 8>\u001b[0;34m()\u001b[0m\n\u001b[1;32m      6\u001b[0m \u001b[0;34m\u001b[0m\u001b[0m\n\u001b[1;32m      7\u001b[0m \u001b[0mprint\u001b[0m\u001b[0;34m(\u001b[0m\u001b[0moutliers_remove_data\u001b[0m\u001b[0;34m.\u001b[0m\u001b[0mshape\u001b[0m\u001b[0;34m)\u001b[0m\u001b[0;34m\u001b[0m\u001b[0;34m\u001b[0m\u001b[0m\n\u001b[0;32m----> 8\u001b[0;31m \u001b[0mprint\u001b[0m\u001b[0;34m(\u001b[0m\u001b[0moutliers_replace_data\u001b[0m\u001b[0;34m.\u001b[0m\u001b[0mshape\u001b[0m\u001b[0;34m)\u001b[0m\u001b[0;34m\u001b[0m\u001b[0;34m\u001b[0m\u001b[0m\n\u001b[0m",
            "\u001b[0;31mNameError\u001b[0m: name 'outliers_replace_data' is not defined"
          ]
        }
      ],
      "source": [
        "outliers_remove_data = iqr_outlier_data.copy()\n",
        "\n",
        "outliers_replaced_data = iqr_outlier_data.copy()  #not using it currently\n",
        "\n",
        "#ques : which on to use ?\n",
        "\n",
        "print(outliers_remove_data.shape)\n",
        "print(outliers_replace_data.shape)"
      ]
    },
    {
      "cell_type": "code",
      "execution_count": null,
      "metadata": {
        "id": "23dEVJJ8gWLL"
      },
      "outputs": [],
      "source": [
        "outliers_remove_data = outliers_remove_data.drop(index=outliers_index)\n",
        "\n",
        "#here replace the outlier with mean income\n",
        "\n",
        "\n",
        "print(f\"After removing outliers from 'PatientIncome' columns : {outliers_remove_data.shape}\")"
      ]
    },
    {
      "cell_type": "markdown",
      "metadata": {
        "id": "nBbHT0b4AT16"
      },
      "source": [
        "## Replace PatientAge columns with mean_age"
      ]
    },
    {
      "cell_type": "code",
      "execution_count": null,
      "metadata": {
        "id": "jYfWELZGAVI_"
      },
      "outputs": [],
      "source": [
        "\n",
        "# 1. Detect and replace outliers in 'PatientAge'\n",
        "\n",
        "_,outliers_index=iqr_outliers(outliers_remove_data,\"PatientIncome\")\n",
        "\n",
        "mean_income = np.mean(outliers_remove_data['PatientAge'])\n",
        "\n",
        "mean_age = int(mean_income)\n",
        "\n",
        "# Replace the outliers with the mean in 'PatientAge'\n",
        "\n",
        "for index in outliers_index:\n",
        "    outliers_remove_data.loc[index, 'PatientAge'] = mean_age"
      ]
    },
    {
      "cell_type": "markdown",
      "metadata": {
        "id": "cLEBNDYTfKwN"
      },
      "source": [
        "#Encoding Categorical values"
      ]
    },
    {
      "cell_type": "code",
      "execution_count": null,
      "metadata": {
        "id": "J0V4ZH9leS0X"
      },
      "outputs": [],
      "source": [
        "from sklearn.preprocessing import LabelEncoder,OrdinalEncoder\n",
        "le=LabelEncoder()"
      ]
    },
    {
      "cell_type": "markdown",
      "metadata": {
        "id": "tZPBFv6GfW6j"
      },
      "source": [
        "# Use Ordinal encoders to encode ClaimStatus"
      ]
    },
    {
      "cell_type": "code",
      "execution_count": null,
      "metadata": {
        "id": "Q6hWYAOYfID3"
      },
      "outputs": [],
      "source": [
        "ordinal_categories=[\"Denied\",\"Pending\",\"Approved\"]\n",
        "\n",
        "ordinal=OrdinalEncoder(categories=[ordinal_categories])\n",
        "\n",
        "outliers_remove_data[\"ClaimStatus\"]=ordinal.fit_transform(outliers_remove_data[[\"ClaimStatus\"]])\n",
        "\n",
        "outliers_remove_data.head()"
      ]
    },
    {
      "cell_type": "code",
      "execution_count": null,
      "metadata": {
        "id": "cJASBUGnfZH-"
      },
      "outputs": [],
      "source": [
        "categorical_columns=[\"PatientGender\",\n",
        "                     \"ClaimLegitimacy\",\n",
        "                     \"ProviderSpecialty\",\n",
        "                     \"PatientMaritalStatus\",\n",
        "                     \"PatientEmploymentStatus\",\n",
        "                     \"ProviderLocation\",\n",
        "                     \"ClaimType\",\n",
        "                     \"ClaimSubmissionMethod\"\n",
        "                     ]\n",
        "\n",
        "for col in categorical_columns:\n",
        "  outliers_remove_data[col]=le.fit_transform(outliers_remove_data[col])\n",
        "\n",
        "outliers_remove_data.head()"
      ]
    },
    {
      "cell_type": "code",
      "execution_count": null,
      "metadata": {
        "id": "hEwejKeSf6vH"
      },
      "outputs": [],
      "source": [
        "outliers_remove_data.info()"
      ]
    },
    {
      "cell_type": "markdown",
      "metadata": {
        "id": "9z6ynPjOByLp"
      },
      "source": [
        "# Check ClaimLegitimacy distributions"
      ]
    },
    {
      "cell_type": "code",
      "execution_count": null,
      "metadata": {
        "id": "K6j10K1hf9f-"
      },
      "outputs": [],
      "source": [
        "value_counts = outliers_remove_data.groupby('ClaimLegitimacy').size().reset_index(name = 'Count')\n",
        "\n",
        "value_counts"
      ]
    },
    {
      "cell_type": "markdown",
      "metadata": {
        "id": "QGg-El-jB-AX"
      },
      "source": [
        "# OverSampling should be occurr after Train _test _split"
      ]
    },
    {
      "cell_type": "code",
      "execution_count": null,
      "metadata": {
        "id": "GwzK0opgB6XQ"
      },
      "outputs": [],
      "source": [
        "# Convert 'ClaimDate' to ordinal\n",
        "outliers_remove_data['ClaimDate'] = pd.to_datetime(outliers_remove_data['ClaimDate']).apply(lambda date: date.toordinal())\n",
        "\n",
        "# from imblearn.over_sampling import SMOTE\n",
        "\n",
        "# X_smote = outliers_remove_data.drop('ClaimLegitimacy',axis=1)\n",
        "# y_smote = outliers_remove_data['ClaimLegitimacy']\n",
        "\n",
        "# smote = SMOTE(random_state=42)\n",
        "\n",
        "# X_resampled_replace , y_resampled_replace = smote.fit_resample(X_smote,y_smote)\n",
        "\n",
        "# outliers_remove_data = pd.DataFrame(X_resampled_replace , columns = X_smote.columns)\n",
        "\n",
        "# outliers_remove_data['ClaimLegitimacy'] = y_resampled_replace"
      ]
    },
    {
      "cell_type": "code",
      "source": [
        "# len(X_resampled_replace)"
      ],
      "metadata": {
        "id": "O-x5drAIj8KQ"
      },
      "execution_count": null,
      "outputs": []
    },
    {
      "cell_type": "code",
      "source": [
        "# len(y_resampled_replace)"
      ],
      "metadata": {
        "id": "pAt5R0pwkADu"
      },
      "execution_count": null,
      "outputs": []
    },
    {
      "cell_type": "code",
      "source": [
        "# len(outliers_remove_data)    #dont need check now"
      ],
      "metadata": {
        "id": "aqGiHs3NkSIc"
      },
      "execution_count": null,
      "outputs": []
    },
    {
      "cell_type": "code",
      "execution_count": null,
      "metadata": {
        "id": "tsnYZh_9CSqf"
      },
      "outputs": [],
      "source": [
        "value_counts =outliers_remove_data.groupby('ClaimLegitimacy').size().reset_index(name = 'Count')\n",
        "\n",
        "value_counts"
      ]
    },
    {
      "cell_type": "markdown",
      "source": [
        "# Shuffle"
      ],
      "metadata": {
        "id": "QuLUyIluvuj9"
      }
    },
    {
      "cell_type": "code",
      "source": [
        "from sklearn.utils import shuffle\n",
        "\n",
        "outliers_remove_data = shuffle(outliers_remove_data)"
      ],
      "metadata": {
        "id": "aDdzCc-UvlwE"
      },
      "execution_count": null,
      "outputs": []
    },
    {
      "cell_type": "markdown",
      "metadata": {
        "id": "ME0s4jp7CelY"
      },
      "source": [
        "# Data Spliting  with Oversampling in outliers_removed_data"
      ]
    },
    {
      "cell_type": "code",
      "execution_count": null,
      "metadata": {
        "id": "Od9fwb9yCW8f"
      },
      "outputs": [],
      "source": [
        "#import libraries\n",
        "\n",
        "from sklearn.model_selection import train_test_split,KFold,cross_val_score\n",
        "\n",
        "from sklearn.preprocessing import MinMaxScaler\n",
        "\n",
        "from sklearn.metrics import accuracy_score, classification_report, confusion_matrix"
      ]
    },
    {
      "cell_type": "code",
      "execution_count": null,
      "metadata": {
        "id": "UsbU4mltCk6p"
      },
      "outputs": [],
      "source": [
        "min_max=MinMaxScaler()\n",
        "\n",
        "X = outliers_remove_data.drop('ClaimLegitimacy',axis=1)\n",
        "y = outliers_remove_data['ClaimLegitimacy']\n",
        "\n",
        "X_scaled_replace = min_max.fit_transform(X)\n",
        "smote = SMOTE(random_state=42)\n",
        "\n",
        "X_resampled_replace , y_resampled_replace = smote.fit_resample(X_scaled_replace,y)\n",
        "\n",
        "outliers_remove_data = pd.DataFrame(X_resampled_replace , columns = X_smote.columns)\n",
        "\n",
        "\n",
        "X_train,X_test,y_train,y_test = train_test_split(X_scaled_replace,y,test_size=0.2,random_state=42)"
      ]
    },
    {
      "cell_type": "code",
      "source": [
        "len(X)"
      ],
      "metadata": {
        "id": "uv6_S8ZulR4G"
      },
      "execution_count": null,
      "outputs": []
    },
    {
      "cell_type": "code",
      "source": [
        "X_train.shape,X_test.shape,y_train.shape,y_test.shape"
      ],
      "metadata": {
        "id": "OQXC_tna6nbm"
      },
      "execution_count": null,
      "outputs": []
    },
    {
      "cell_type": "code",
      "source": [
        "\n",
        "\n",
        "from imblearn.over_sampling import SMOTE\n",
        "\n",
        "X_smote = outliers_remove_data.drop('ClaimLegitimacy',axis=1)\n",
        "y_smote = outliers_remove_data['ClaimLegitimacy']\n",
        "\n",
        "smote = SMOTE(random_state=42)\n",
        "\n",
        "X_resampled_replace , y_resampled_replace = smote.fit_resample(X_smote,y_smote)\n",
        "\n",
        "outliers_remove_data = pd.DataFrame(X_resampled_replace , columns = X_smote.columns)\n",
        "\n",
        "outliers_remove_data['ClaimLegitimacy'] = y_resampled_replace"
      ],
      "metadata": {
        "id": "iEU5QHm84rmm"
      },
      "execution_count": null,
      "outputs": []
    },
    {
      "cell_type": "code",
      "source": [
        "len(X_train ) + len(X_test)\n"
      ],
      "metadata": {
        "id": "K1wOvc3els5P"
      },
      "execution_count": null,
      "outputs": []
    },
    {
      "cell_type": "markdown",
      "source": [
        "# **Start applying ML Models**"
      ],
      "metadata": {
        "id": "8glyioCXEQnx"
      }
    },
    {
      "cell_type": "markdown",
      "metadata": {
        "id": "rzLHbwU0CxD0"
      },
      "source": [
        "# LogisticRegressionClassifiers"
      ]
    },
    {
      "cell_type": "code",
      "execution_count": null,
      "metadata": {
        "id": "KoxquRK6CuGH"
      },
      "outputs": [],
      "source": [
        "# import the class\n",
        "from sklearn.linear_model import LogisticRegression\n",
        "\n",
        "# instantiate the model (using the default parameters)\n",
        "logreg_replace = LogisticRegression(random_state=16)\n",
        "\n",
        "# fit the model with data\n",
        "\n",
        "logreg_replace.fit(X_train,y_train)\n",
        "\n",
        "#predict the outputs\n",
        "logreg_ypreds_replace= logreg_replace.predict(X_test)"
      ]
    },
    {
      "cell_type": "code",
      "execution_count": null,
      "metadata": {
        "id": "4YSYS3siC1kp"
      },
      "outputs": [],
      "source": [
        "# Evaluate model accuracy\n",
        "\n",
        "accuracy_logreg_replace = accuracy_score(y_test, logreg_ypreds_replace)\n",
        "print(f'Accuracy with smote data: {accuracy_logreg_replace * 100:.2f}%')\n",
        "\n",
        "# Print classification report\n",
        "print(\"\\nClassification Report with smote data:\")\n",
        "\n",
        "print(classification_report(y_test, logreg_ypreds_replace))\n",
        "\n",
        "# Print confusion matrix\n",
        "print(\"\\nConfusion Matrix with smote data:\")\n",
        "\n",
        "print(confusion_matrix(y_test, logreg_ypreds_replace))"
      ]
    },
    {
      "cell_type": "markdown",
      "metadata": {
        "id": "YSlad0GMC-ph"
      },
      "source": [
        "#  Ada Boost Classifiers"
      ]
    },
    {
      "cell_type": "code",
      "execution_count": null,
      "metadata": {
        "id": "dmzvYyZ4C2H3"
      },
      "outputs": [],
      "source": [
        "# Create adaboost classifer object\n",
        "from sklearn.ensemble import AdaBoostClassifier\n",
        "from sklearn.model_selection import GridSearchCV\n",
        "from sklearn.tree import DecisionTreeClassifier\n",
        "\n",
        "#Instanntiate the model\n",
        "replace_adaboost = AdaBoostClassifier()\n",
        "\n",
        "param_grid = {\n",
        "    'n_estimators': [50, 100, 150,200],        # Test different numbers of estimators\n",
        "    'learning_rate': [0.01, 0.1, 0.5, 1],  # Test different learning rates\n",
        "    'estimator': [DecisionTreeClassifier(max_depth=1),  # Shallow tree\n",
        "                       DecisionTreeClassifier(max_depth=3)]  # Slightly deeper tree\n",
        "}\n"
      ]
    },
    {
      "cell_type": "code",
      "execution_count": null,
      "metadata": {
        "id": "Q4yudlXtDA_Q"
      },
      "outputs": [],
      "source": [
        "# Create a GridSearchCV object with cross-validation\n",
        "\n",
        "grid_search = GridSearchCV(estimator=replace_adaboost,\n",
        "                           param_grid=param_grid,\n",
        "                           cv=5,  # 5-fold cross-validation\n",
        "                           scoring='accuracy',  # Evaluate using accuracy\n",
        "                           n_jobs=-1)  # Use all available cores\n",
        "\n",
        "# Fit the model with grid search on the training data\n",
        "\n",
        "grid_search.fit(X_train, y_train)\n",
        "\n",
        "# Print the best parameters and the corresponding score\n",
        "\n",
        "print(f\"Best Parameters: {grid_search.best_params_}\")\n",
        "\n",
        "print(f\"Best Score: {grid_search.best_score_}\")"
      ]
    },
    {
      "cell_type": "code",
      "execution_count": null,
      "metadata": {
        "id": "DGpgDMIpDMfx"
      },
      "outputs": [],
      "source": [
        "# Use the best model to predict on the test set\n",
        "best_model = grid_search.best_estimator_\n",
        "y_pred_ada = best_model.predict(X_test)\n",
        "\n",
        "# Calculate the accuracy on the test set\n",
        "test_acc_ada_replace = accuracy_score(y_test, y_pred_ada)\n",
        "\n",
        "# Print the test set accuracy\n",
        "print(f'Accuracy with smote data: {test_acc_ada_replace * 100:.2f}%')\n",
        "\n",
        "# Print classification report\n",
        "print(\"\\nClassification Report with smote data:\")\n",
        "print(classification_report(y_test, y_pred_ada))\n",
        "\n",
        "# Print confusion matrix\n",
        "print(\"\\nConfusion Matrix with smote data:\")\n",
        "print(confusion_matrix(y_test, y_pred_ada))"
      ]
    },
    {
      "cell_type": "code",
      "execution_count": null,
      "metadata": {
        "id": "k07LC2-DDSkQ"
      },
      "outputs": [],
      "source": [
        "%matplotlib inline\n",
        "\n",
        "import matplotlib.pyplot as plt\n",
        "import seaborn as sn\n",
        "plt.figure(figsize=(7,5))\n",
        "sn.heatmap(confusion_matrix(y_test, y_pred_ada), annot=True, fmt='g')\n",
        "plt.xlabel('Predicted')\n",
        "plt.ylabel('Truth')"
      ]
    },
    {
      "cell_type": "markdown",
      "metadata": {
        "id": "t6ySv9kdDXpt"
      },
      "source": [
        "# **ExraTreeClassifiers**"
      ]
    },
    {
      "cell_type": "code",
      "execution_count": null,
      "metadata": {
        "id": "NcE0A7fHDTGI"
      },
      "outputs": [],
      "source": [
        "\n",
        "from sklearn.ensemble import ExtraTreesClassifier\n",
        "\n",
        "# Define the ExtraTreesClassifier\n",
        "extra_tree_replace = ExtraTreesClassifier(random_state=42)\n",
        "\n",
        "# Define a parameter grid for tuning\n",
        "\n",
        "param_grid = {\n",
        "    'n_estimators': [50, 100, 200],\n",
        "    'max_depth': [None, 10, 20, 30],\n",
        "    'min_samples_split': [2, 5, 10],\n",
        "    'min_samples_leaf': [1, 2, 4]\n",
        "}\n",
        "\n",
        "\n",
        "\n"
      ]
    },
    {
      "cell_type": "code",
      "execution_count": null,
      "metadata": {
        "id": "X2PKmcKxDWHj"
      },
      "outputs": [],
      "source": [
        "extraclassi_model=ExtraTreesClassifier()\n",
        "\n",
        "extraclassi_model.fit(X_train,y_train)\n"
      ]
    },
    {
      "cell_type": "code",
      "execution_count": null,
      "metadata": {
        "id": "AXGHabwFDyMw"
      },
      "outputs": [],
      "source": [
        "importance_features=pd.Series(extraclassi_model.feature_importances_,index=X.columns)\n",
        "importance_features"
      ]
    },
    {
      "cell_type": "code",
      "execution_count": null,
      "metadata": {
        "id": "WERSiJ3pD7lg"
      },
      "outputs": [],
      "source": [
        "importance_features.nlargest(10).plot(kind='bar',color=['#1f77b4', '#ff7f0e', '#2ca02c', '#d62728', '#9467bd', '#8c564b', '#e377c2', '#7f7f7f', '#bcbd22', '#17becf'])"
      ]
    },
    {
      "cell_type": "code",
      "execution_count": null,
      "metadata": {
        "id": "ARhhWzhLEHJg"
      },
      "outputs": [],
      "source": [
        "\n",
        "# Create GridSearchCV object\n",
        "grid_search = GridSearchCV(estimator=extra_tree_replace, param_grid=param_grid, cv=5, scoring='accuracy', n_jobs=-1)\n",
        "\n",
        "# Fit the model with grid search on the training data\n",
        "grid_search.fit(X_train, y_train)\n",
        "\n",
        "# Print the best parameters and the best score from the grid search\n",
        "print(f\"Best Parameters: {grid_search.best_params_}\")\n",
        "print(f\"Best Cross-Validation Accuracy: {grid_search.best_score_}\")\n",
        "\n",
        "# Use the best model to predict on the test set\n",
        "best_model = grid_search.best_estimator_\n",
        "y_pred_extra = best_model.predict(X_test)\n",
        "\n",
        "# Calculate accuracy on the test set\n",
        "test_acc_extratree_replace = accuracy_score(y_test,y_pred_extra)\n",
        "print(f\"Test Accuracy: {test_acc_extratree_replace}\")"
      ]
    },
    {
      "cell_type": "markdown",
      "metadata": {
        "id": "hiPXJrdCEc6f"
      },
      "source": [
        "# Voting Classifiers"
      ]
    },
    {
      "cell_type": "code",
      "execution_count": null,
      "metadata": {
        "id": "gBLH7-yZEbIy"
      },
      "outputs": [],
      "source": [
        "# Import necessary libraries\n",
        "from sklearn.ensemble import VotingClassifier\n",
        "from sklearn.ensemble import RandomForestClassifier\n",
        "from sklearn.svm import SVC\n",
        "\n",
        "\n",
        "log_clf = LogisticRegression(random_state=42)\n",
        "rf_clf = RandomForestClassifier(random_state=42)\n",
        "svm_clf = SVC(probability=True, random_state=42)\n"
      ]
    },
    {
      "cell_type": "markdown",
      "metadata": {
        "id": "EUjtGHgTEl-7"
      },
      "source": [
        "# Soft"
      ]
    },
    {
      "cell_type": "code",
      "execution_count": null,
      "metadata": {
        "id": "DZZCbXl-Ef_G"
      },
      "outputs": [],
      "source": [
        "# Create a Voting Classifier with soft voting\n",
        "voting_clf = VotingClassifier(\n",
        "    estimators=[('lr', log_clf), ('rf', rf_clf), ('svc', svm_clf)],\n",
        "    voting='soft'  # Use 'hard' for majority voting\n",
        ")\n",
        "\n",
        "# Train the Voting Classifier\n",
        "voting_clf.fit(X_train, y_train)\n",
        "\n",
        "# Make predictions\n",
        "y_pred = voting_clf.predict(X_test)\n",
        "\n",
        "# Calculate accuracy\n",
        "accuracy = accuracy_score(y_test, y_pred)\n",
        "print(f\"Voting Classifier Accuracy: {accuracy:.4f}\")\n",
        "\n",
        "# Evaluate individual models\n",
        "for clf in (log_clf, rf_clf, svm_clf, voting_clf):\n",
        "    clf.fit(X_train, y_train)\n",
        "    y_pred_individual = clf.predict(X_test)\n",
        "    print(f\"{clf.__class__.__name__} Accuracy: {accuracy_score(y_test, y_pred_individual):.4f}\")\n"
      ]
    },
    {
      "cell_type": "markdown",
      "metadata": {
        "id": "Wi7LfqqBEptB"
      },
      "source": [
        "# Hard"
      ]
    },
    {
      "cell_type": "code",
      "execution_count": null,
      "metadata": {
        "id": "pJvST7wQEift"
      },
      "outputs": [],
      "source": [
        "# Create a Voting Classifier with soft voting\n",
        "\n",
        "voting_clf_hard = VotingClassifier(\n",
        "    estimators=[('lr', log_clf), ('rf', rf_clf), ('svc', svm_clf)],\n",
        "    voting='hard'  # Use 'hard' for majority voting\n",
        ")\n",
        "\n",
        "# Train the Voting Classifier\n",
        "voting_clf_hard.fit(X_train, y_train)\n",
        "\n",
        "# Make predictions\n",
        "y_pred_hard = voting_clf.predict(X_test)\n",
        "\n",
        "# Calculate accuracy\n",
        "accuracy_hard = accuracy_score(y_test, y_pred_hard)\n",
        "print(f\"Voting Classifier Accuracy: {accuracy_hard:.4f}\")\n",
        "\n",
        "# Evaluate individual models\n",
        "for clf in (log_clf, rf_clf, svm_clf, voting_clf):\n",
        "    clf.fit(X_train, y_train)\n",
        "    y_pred_individual_hard = clf.predict(X_test)\n",
        "    print(f\"{clf.__class__.__name__} Accuracy: {accuracy_score(y_test, y_pred_individual_hard):.4f}\")\n"
      ]
    },
    {
      "cell_type": "markdown",
      "metadata": {
        "id": "RMaDl3XSIPuK"
      },
      "source": [
        "# SVM"
      ]
    },
    {
      "cell_type": "code",
      "execution_count": null,
      "metadata": {
        "id": "vHkI4pzZIOsv"
      },
      "outputs": [],
      "source": [
        "from sklearn.svm import SVC\n",
        "svc = SVC()\n",
        "\n",
        "# Train the model\n",
        "svc.fit(X_train, y_train)\n",
        "\n",
        "# Make predictions\n",
        "y_pred = svc.predict(X_test)\n",
        "\n",
        "# Evaluate model accuracy\n",
        "accuracy = accuracy_score(y_test, y_pred)\n",
        "print(f'Accuracy: {accuracy * 100:.2f}%')\n",
        "\n",
        "# Print classification report\n",
        "print(\"\\nClassification Report:\")\n",
        "print(classification_report(y_test, y_pred))\n",
        "\n",
        "\n",
        "# Print confusion matrix\n",
        "\n",
        "print(\"\\nConfusion Matrix:\")\n",
        "print(confusion_matrix(y_test, y_pred))\n",
        "%matplotlib inline\n",
        "import matplotlib.pyplot as plt\n",
        "import seaborn as sn\n",
        "plt.figure(figsize=(5,5))\n",
        "sn.heatmap(confusion_matrix(y_test, y_pred), annot=True, fmt='g')\n",
        "plt.xlabel('Predicted')\n",
        "plt.ylabel('Truth')"
      ]
    },
    {
      "cell_type": "code",
      "execution_count": null,
      "metadata": {
        "id": "XSWpzdPeJPB4"
      },
      "outputs": [],
      "source": [
        "X_train"
      ]
    },
    {
      "cell_type": "markdown",
      "source": [
        "# Random forest"
      ],
      "metadata": {
        "id": "wq4ncdYIEg_1"
      }
    },
    {
      "cell_type": "code",
      "source": [
        "from sklearn.ensemble import RandomForestClassifier\n",
        "\n",
        "random_model = RandomForestClassifier(random_state=42)\n",
        "\n",
        "# random_model.fit(X_train,y_train)\n",
        "\n",
        "# Train the model\n",
        "random_model.fit(X_train , y_train)\n",
        "\n",
        "# Make predictions\n",
        "y_pred = random_model.predict(X_test)\n",
        "\n",
        "# Evaluate model accuracy\n",
        "accuracy = accuracy_score(y_test, y_pred)\n",
        "\n",
        "print(f'Accuracy: {accuracy * 100:.2f}%')\n",
        "\n",
        "# Print classification report\n",
        "print(\"\\nClassification Report:\")\n",
        "print(classification_report(y_test, y_pred))\n",
        "\n",
        "# Print confusion matrix\n",
        "print(\"\\nConfusion Matrix:\")\n",
        "print(confusion_matrix(y_test, y_pred))\n",
        "\n",
        "%matplotlib inline\n",
        "\n",
        "import matplotlib.pyplot as plt\n",
        "import seaborn as sn\n",
        "plt.figure(figsize=(7,5))\n",
        "sn.heatmap(confusion_matrix(y_test, y_pred), annot=True, fmt='g')\n",
        "plt.xlabel('Predicted')\n",
        "plt.ylabel('Truth')\n",
        "\n",
        "\n",
        "\n",
        "#Cross Validation\n",
        "\n",
        "\n",
        "from sklearn.model_selection import cross_val_score\n",
        "scores = cross_val_score(random_model, X_train, y_train, cv=5)    #By Akash (experimental)\n",
        "\n",
        "\n",
        "print(f'Cross-validation scores: {scores}')\n",
        "print(f'Mean accuracy: {scores.mean() * 100:.2f}%')"
      ],
      "metadata": {
        "id": "ZnmQL3UiEhO-"
      },
      "execution_count": null,
      "outputs": []
    },
    {
      "cell_type": "markdown",
      "source": [
        "# Support vector Classifier"
      ],
      "metadata": {
        "id": "gmvjFnBzE_hu"
      }
    },
    {
      "cell_type": "code",
      "source": [
        "from sklearn.svm import SVC\n",
        "\n",
        "svc = SVC()\n",
        "\n",
        "# Train the model\n",
        "svc.fit(X_train, y_train)\n",
        "\n",
        "# Make predictions\n",
        "y_pred = svc.predict(X_test)\n",
        "\n",
        "# Evaluate model accuracy\n",
        "accuracy = accuracy_score(y_test, y_pred)\n",
        "print(f'Accuracy: {accuracy * 100:.2f}%')\n",
        "\n",
        "# Print classification report\n",
        "print(\"\\nClassification Report:\")\n",
        "print(classification_report(y_test, y_pred))\n",
        "\n",
        "# Print confusion matrix\n",
        "print(\"\\nConfusion Matrix:\")\n",
        "print(confusion_matrix(y_test, y_pred))\n",
        "%matplotlib inline\n",
        "import matplotlib.pyplot as plt\n",
        "import seaborn as sn\n",
        "plt.figure(figsize=(5,5))\n",
        "sn.heatmap(confusion_matrix(y_test, y_pred), annot=True, fmt='g')\n",
        "plt.xlabel('Predicted')\n",
        "plt.ylabel('Truth')"
      ],
      "metadata": {
        "id": "r09pM5j1FOoT"
      },
      "execution_count": null,
      "outputs": []
    },
    {
      "cell_type": "markdown",
      "source": [
        "# KNN"
      ],
      "metadata": {
        "id": "cTKduB-NFSct"
      }
    },
    {
      "cell_type": "code",
      "source": [
        "from sklearn.neighbors import KNeighborsClassifier\n",
        "knn = KNeighborsClassifier(n_neighbors=5)\n",
        "\n",
        "# Train the model\n",
        "knn.fit(X_train, y_train)\n",
        "\n",
        "# Make predictions\n",
        "y_pred = knn.predict(X_test)\n",
        "\n",
        "# Evaluate model accuracy\n",
        "accuracy = accuracy_score(y_test, y_pred)\n",
        "print(f'Accuracy: {accuracy * 100:.2f}%')                                        #do we need to Scale our data for KNN ( by Akash) ?\n",
        "\n",
        "# Print classification report\n",
        "print(\"\\nClassification Report:\")\n",
        "print(classification_report(y_test, y_pred))\n",
        "\n",
        "# Print confusion matrix\n",
        "print(\"\\nConfusion Matrix:\")\n",
        "print(confusion_matrix(y_test, y_pred))\n",
        "%matplotlib inline\n",
        "import matplotlib.pyplot as plt\n",
        "import seaborn as sn\n",
        "plt.figure(figsize=(5,5))\n",
        "sn.heatmap(confusion_matrix(y_test, y_pred), annot=True, fmt='g')\n",
        "plt.xlabel('Predicted')\n",
        "plt.ylabel('Truth')"
      ],
      "metadata": {
        "id": "A2X-VRtaFZ_m"
      },
      "execution_count": null,
      "outputs": []
    },
    {
      "cell_type": "markdown",
      "source": [
        "# Logistic Regression ( BY Akash)"
      ],
      "metadata": {
        "id": "Dg2b_SEIFd9l"
      }
    },
    {
      "cell_type": "code",
      "source": [
        "from sklearn.linear_model import LogisticRegression\n",
        "model = LogisticRegression(penalty = 'l2' , tol = 0.0001 , solver = 'liblinear',\n",
        "                           max_iter=100,multi_class='auto')\n",
        "\n",
        "#tol = tolerance , max_itr = max iteration\n",
        "\n",
        "model.fit(X_train,y_train)\n",
        "\n",
        "pred_values = model.predict(X_test)\n",
        "\n",
        "\n",
        "model.fit(X_train,y_train)\n",
        "\n",
        "\n",
        "pred_values = model.predict(X_test)\n",
        "\n",
        "\n",
        "from sklearn.metrics import confusion_matrix\n",
        "\n",
        "# Get predictions (class labels)\n",
        "pred_values = model.predict(X_test)\n",
        "\n",
        "# Compute the confusion matrix\n",
        "cm = confusion_matrix(y_test, pred_values)\n",
        "\n",
        "# Print the confusion matrix\n",
        "print(\"Confusion Matrix:\")\n",
        "print(cm)\n",
        "\n",
        "\n",
        "#Evaluation metrices\n",
        "\n",
        "from sklearn.metrics import accuracy_score\n",
        "from sklearn.metrics import precision_score\n",
        "from sklearn.metrics import recall_score\n",
        "from sklearn.metrics import f1_score\n",
        "from sklearn.metrics import roc_curve\n",
        "from sklearn.metrics import roc_auc_score\n",
        "\n",
        "\n",
        "accuracy = accuracy_score(y_test,pred_values)\n",
        "\n",
        "precision = precision_score(y_test,pred_values)\n",
        "\n",
        "recall = recall_score(y_test,pred_values)\n",
        "\n",
        "f1 = f1_score(y_test,pred_values)\n",
        "\n",
        "AUC = roc_auc_score(y_test,pred_values)\n",
        "\n",
        "\n",
        "print(\"accuracy : \",accuracy*100)\n",
        "print(\"precision : \",precision*100)\n",
        "print(\"recall : \",recall*100)\n",
        "print(\"f1 score : \",f1*100)\n",
        "print(\"AUC Score : \",AUC*100)\n",
        "\n",
        "\n",
        "\n",
        "#Roc curve\n",
        "\n",
        "\n",
        "# Get predicted probabilities\n",
        "y_pred_prob = model.predict_proba(X_test)[:, 1]  # Probability for the positive class (1)\n",
        "\n",
        "# Calculate fpr and tpr for the ROC curve\n",
        "fpr, tpr, thresholds = roc_curve(y_test, y_pred_prob)\n",
        "\n",
        "# Plot the ROC curve\n",
        "plt.plot(fpr, tpr)\n",
        "plt.plot([0, 1], ls=\"--\")  # Random guess line\n",
        "\n",
        "plt.title(\"ROC Curve for Logistic Regression\")\n",
        "plt.ylabel(\"True Positive Rate\")\n",
        "plt.xlabel(\"False Positive Rate\")\n",
        "plt.show()"
      ],
      "metadata": {
        "id": "nZVpgJ0UFiqd"
      },
      "execution_count": null,
      "outputs": []
    },
    {
      "cell_type": "markdown",
      "source": [
        "# Naive Bayes Classifier (By Akash)\n",
        "\n"
      ],
      "metadata": {
        "id": "Kd3QGtkrF-Am"
      }
    },
    {
      "cell_type": "code",
      "source": [
        "from sklearn.preprocessing import StandardScaler\n",
        "\n",
        "#Standard Scaler for Naive Bayes\n",
        "\n",
        "STD_Scaler = StandardScaler()\n",
        "STD_Scaled_X =  STD_Scaler.fit_transform(X)\n",
        "STD_Scaled_X\n",
        "\n",
        "\n",
        "#train-test split\n",
        "\n",
        "from sklearn.model_selection import train_test_split\n",
        "\n",
        "x_train_naiveBayes,x_test_naiveBayes,y_train_naiveBayes,y_test_naiveBayes = train_test_split(STD_Scaled_X,y,test_size=0.20)\n",
        "\n",
        "print(\"train data size (features):\",len(x_train_naiveBayes))\n",
        "print(\"train data size (target):\",len(y_train_naiveBayes))\n",
        "\n",
        "print(\"test data size(feature)\",len(x_test_naiveBayes))\n",
        "print(\"test data size(target)\",len(y_test_naiveBayes))\n",
        "\n",
        "\n",
        "len(X_train)"
      ],
      "metadata": {
        "id": "8tugoRLgF_sO"
      },
      "execution_count": null,
      "outputs": []
    },
    {
      "cell_type": "code",
      "source": [
        "#K-fold validation\n",
        "\n",
        "from sklearn.naive_bayes import GaussianNB\n",
        "\n",
        "NB_Classifier = GaussianNB(priors= None , var_smoothing =  1e-09 )    #1e-09 = 1*10^-9\n",
        "\n",
        "\n",
        "#we add very small value in var_smoothing to avoid 0/0 form\n",
        "\n",
        "# priors = prior probability  (see the documentation from sklearn)\n",
        "\n",
        "# var_smoothing = variance smothing where variance = sigma square\n",
        "\n"
      ],
      "metadata": {
        "id": "tHPVbZLCHFj-"
      },
      "execution_count": null,
      "outputs": []
    },
    {
      "cell_type": "code",
      "source": [
        "#K fold for hyper parameter tuning\n",
        "\n",
        "from sklearn.model_selection import cross_val_score\n",
        "from sklearn.model_selection import KFold\n",
        "\n",
        "K_fold = KFold(10)\n",
        "\n",
        "accuracy = cross_val_score(NB_Classifier , X_train,y_train, cv =K_fold , scoring = 'accuracy' )\n",
        "\n",
        "precision = cross_val_score(NB_Classifier , X_train,y_train, cv =K_fold , scoring = 'precision' )\n",
        "\n",
        "recall = cross_val_score(NB_Classifier , X_train,y_train, cv =K_fold , scoring = 'recall' )\n",
        "\n",
        "f1_score = cross_val_score(NB_Classifier , X_train,y_train, cv =K_fold , scoring = 'f1' )\n",
        "\n",
        "AUC = cross_val_score(NB_Classifier , X_train,y_train, cv =K_fold , scoring = 'roc_auc' )\n",
        "\n"
      ],
      "metadata": {
        "id": "coPotmm5HBYt"
      },
      "execution_count": null,
      "outputs": []
    },
    {
      "cell_type": "code",
      "source": [
        "accuracy\n",
        "overall_accuracy = sum(accuracy) / len(accuracy)\n",
        "print(f'Overall Accuracy = {overall_accuracy*100:0.2f}%')\n",
        "\n",
        "\n",
        "recall\n",
        "overall_recall = sum(recall) / len(recall)\n",
        "print(f'overall_recall = {overall_recall*100:0.2f}%')\n",
        "\n",
        "\n",
        "f1_score\n",
        "\n",
        "overall_f1_score = sum(f1_score) / len(f1_score)\n",
        "print(f'overall_f1_score = {overall_f1_score*100:0.2f}%')\n",
        "\n",
        "\n",
        "overall_AUC = sum(AUC) / len(AUC)\n",
        "print(f'overall_AUC = {overall_AUC*100:0.2f}%')"
      ],
      "metadata": {
        "id": "8x3VmYO-G_D3"
      },
      "execution_count": null,
      "outputs": []
    },
    {
      "cell_type": "code",
      "source": [
        "#Applying the Algorithm after k-fold\n",
        "\n",
        "NB_Classifier = GaussianNB(priors= None , var_smoothing =  1e-09 )  #tune var_smoothing\n",
        "NB_Classifier.fit(X_train,y_train)\n",
        "\n",
        "#unseen data\n",
        "\n",
        "unseen_prediction = NB_Classifier.predict(X_test)"
      ],
      "metadata": {
        "id": "xjdlWvJLG8xv"
      },
      "execution_count": null,
      "outputs": []
    },
    {
      "cell_type": "code",
      "source": [
        "#Evaluation metrices\n",
        "\n",
        "from sklearn.metrics import accuracy_score, precision_score,recall_score,f1_score ,roc_curve ,roc_auc_score\n",
        "\n",
        "accuracy = accuracy_score(unseen_prediction,y_test)\n",
        "\n",
        "precision = precision_score(unseen_prediction,y_test)\n",
        "\n",
        "recall = recall_score(unseen_prediction,y_test)\n",
        "\n",
        "f1 = f1_score(unseen_prediction,y_test)\n",
        "\n",
        "AUC = roc_auc_score(unseen_prediction,y_test)\n",
        "\n",
        "print(f'accuracy = {accuracy*100:0.2f}%')\n",
        "print(f'precision = {precision*100:0.2f}%')\n",
        "print(f'recall = {recall*100:0.2f}%')\n",
        "print(f'f1 = {f1*100:0.2f}%')"
      ],
      "metadata": {
        "id": "k0QObGmcG4wx"
      },
      "execution_count": null,
      "outputs": []
    },
    {
      "cell_type": "markdown",
      "source": [
        "# Decision Tree Classifier (Akash)\n",
        "##reference\n",
        "https://www.kaggle.com/code/prashant111/decision-tree-classifier-tutorial"
      ],
      "metadata": {
        "id": "OXae7f3kGh3F"
      }
    },
    {
      "cell_type": "code",
      "source": [
        "from sklearn.tree import DecisionTreeClassifier\n",
        "\n",
        "\n",
        "#this hyper-parameters are very sensitive\n",
        "# you can modify them to get desired accuracy\n",
        "\n",
        "DTclassifier = DecisionTreeClassifier(criterion='gini',\n",
        "                                  max_depth= 5, #you can shift the value to get more accuracy\n",
        "                                  min_samples_split= 2,\n",
        "                                  min_samples_leaf= 1,\n",
        "                                  max_features= None,\n",
        "                                  max_leaf_nodes= None,\n",
        "                                  min_impurity_decrease= 0.01\n",
        "                                  )"
      ],
      "metadata": {
        "id": "bLdlo9rcGiJF"
      },
      "execution_count": null,
      "outputs": []
    },
    {
      "cell_type": "code",
      "source": [
        "\n",
        "from sklearn.model_selection import cross_val_score\n",
        "from sklearn.model_selection import KFold\n",
        "\n",
        "k_fold = KFold(10)\n",
        "\n",
        "accuracy = cross_val_score(DTclassifier, X, y, cv=k_fold , scoring='accuracy')\n",
        "precision = cross_val_score(DTclassifier, X, y, cv=k_fold , scoring='precision')\n",
        "recall = cross_val_score(DTclassifier, X, y, cv=k_fold , scoring='recall')\n",
        "f1_score = cross_val_score(DTclassifier, X, y, cv=k_fold , scoring='f1')\n",
        "AUC = cross_val_score(DTclassifier, X, y, cv=k_fold , scoring='roc_auc')"
      ],
      "metadata": {
        "id": "D38CLQ_SGnKm"
      },
      "execution_count": null,
      "outputs": []
    },
    {
      "cell_type": "code",
      "source": [
        "accuracy"
      ],
      "metadata": {
        "id": "tDqcNKdcGpBM"
      },
      "execution_count": null,
      "outputs": []
    },
    {
      "cell_type": "code",
      "source": [
        "precision"
      ],
      "metadata": {
        "id": "z4me4GegGqVu"
      },
      "execution_count": null,
      "outputs": []
    },
    {
      "cell_type": "code",
      "source": [
        "recall"
      ],
      "metadata": {
        "id": "yajSNFinGrYN"
      },
      "execution_count": null,
      "outputs": []
    },
    {
      "cell_type": "code",
      "source": [
        "f1_score"
      ],
      "metadata": {
        "id": "54WYoH5UGrau"
      },
      "execution_count": null,
      "outputs": []
    },
    {
      "cell_type": "markdown",
      "source": [],
      "metadata": {
        "id": "sdMKTqF9F1FO"
      }
    },
    {
      "cell_type": "code",
      "source": [
        "AUC"
      ],
      "metadata": {
        "id": "iUi_hGZBBchr"
      },
      "execution_count": null,
      "outputs": []
    },
    {
      "cell_type": "code",
      "source": [
        "#train the model\n",
        "\n",
        "DTclassifier.fit(X_train, y_train)"
      ],
      "metadata": {
        "id": "7D9e3tK2B_Kg"
      },
      "execution_count": null,
      "outputs": []
    },
    {
      "cell_type": "code",
      "source": [
        "y_pred = DTclassifier.predict(X_test)"
      ],
      "metadata": {
        "id": "CbNvv669Ci0b"
      },
      "execution_count": null,
      "outputs": []
    },
    {
      "cell_type": "code",
      "source": [
        "from sklearn.metrics import accuracy_score\n",
        "\n",
        "print('Model accuracy score with criterion gini index: {0:0.4f}'. format(accuracy_score(y_test, y_pred)))"
      ],
      "metadata": {
        "id": "wcnrRq5XCpsj"
      },
      "execution_count": null,
      "outputs": []
    },
    {
      "cell_type": "code",
      "source": [
        "# Compare the train-set and test-set accuracy\n",
        "\n",
        "\n",
        "y_pred_train = DTclassifier.predict(X_train)\n",
        "\n",
        "y_pred_train"
      ],
      "metadata": {
        "id": "hLNIuFo1CxH6"
      },
      "execution_count": null,
      "outputs": []
    },
    {
      "cell_type": "code",
      "source": [
        "print('Training-set accuracy score: {0:0.4f}'. format(accuracy_score(y_train, y_pred_train)))"
      ],
      "metadata": {
        "id": "UMKKWQz7C-4Y"
      },
      "execution_count": null,
      "outputs": []
    },
    {
      "cell_type": "code",
      "source": [
        "# Check for overfitting and underfitting\n",
        "\n",
        "print('Training set score: {:.4f}'.format(DTclassifier.score(X_train, y_train)))\n",
        "\n",
        "print('Test set score: {:.4f}'.format(DTclassifier.score(X_test, y_test)))"
      ],
      "metadata": {
        "id": "yJf_OgnNDE-K"
      },
      "execution_count": null,
      "outputs": []
    },
    {
      "cell_type": "code",
      "source": [
        "# Visualize decision-trees\n",
        "\n",
        "plt.figure(figsize=(12,8))\n",
        "\n",
        "from sklearn import tree\n",
        "\n",
        "tree.plot_tree(DTclassifier.fit(X_train, y_train))"
      ],
      "metadata": {
        "id": "EpoEODLxDREh"
      },
      "execution_count": null,
      "outputs": []
    },
    {
      "cell_type": "code",
      "source": [],
      "metadata": {
        "id": "g2RkghPTNqAi"
      },
      "execution_count": null,
      "outputs": []
    },
    {
      "cell_type": "code",
      "source": [],
      "metadata": {
        "id": "MxFboR-yNqDI"
      },
      "execution_count": null,
      "outputs": []
    },
    {
      "cell_type": "markdown",
      "source": [
        "# CatBoost Algorithm (Akash)\n",
        "##ref :\n",
        "https://www.kaggle.com/code/prashant111/catboost-classifier-in-python"
      ],
      "metadata": {
        "id": "hwtT4YM4NqVH"
      }
    },
    {
      "cell_type": "code",
      "source": [
        "cat_features = list(range(0, X.shape[1]))\n",
        "print(cat_features)"
      ],
      "metadata": {
        "id": "5THjLmoCOU5Z"
      },
      "execution_count": null,
      "outputs": []
    },
    {
      "cell_type": "code",
      "source": [
        "!pip install catboost"
      ],
      "metadata": {
        "id": "4JJ_OvjsOmmA"
      },
      "execution_count": null,
      "outputs": []
    },
    {
      "cell_type": "code",
      "source": [
        "from catboost import CatBoostClassifier\n",
        "\n",
        "cat = CatBoostClassifier(iterations=10)\n",
        "cat.fit(X_train, y_train)"
      ],
      "metadata": {
        "id": "hnSTuxRzPbIj"
      },
      "execution_count": null,
      "outputs": []
    },
    {
      "cell_type": "code",
      "source": [
        "# accuracy score, confusion matrix and classification report of cat boost\n",
        "\n",
        "cat_acc = accuracy_score(y_test, cat.predict(X_test))\n",
        "\n",
        "print(f\"Training Accuracy of Cat Boost Classifier is {accuracy_score(y_train, cat.predict(X_train))}\")\n",
        "print(f\"Test Accuracy of Cat Boost Classifier is {cat_acc} \\n\")\n",
        "\n",
        "print(f\"Confusion Matrix :- \\n{confusion_matrix(y_test, cat.predict(X_test))}\\n\")\n",
        "print(f\"Classification Report :- \\n {classification_report(y_test, cat.predict(X_test))}\")"
      ],
      "metadata": {
        "id": "7zVSFEq8NwTO"
      },
      "execution_count": null,
      "outputs": []
    }
  ],
  "metadata": {
    "accelerator": "GPU",
    "colab": {
      "gpuType": "T4",
      "provenance": [],
      "include_colab_link": true
    },
    "kernelspec": {
      "display_name": "Python 3",
      "name": "python3"
    },
    "language_info": {
      "name": "python"
    }
  },
  "nbformat": 4,
  "nbformat_minor": 0
}