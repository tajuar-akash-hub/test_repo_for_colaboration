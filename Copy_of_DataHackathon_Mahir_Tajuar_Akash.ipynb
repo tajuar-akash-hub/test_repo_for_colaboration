{
  "cells": [
    {
      "cell_type": "markdown",
      "metadata": {
        "id": "view-in-github",
        "colab_type": "text"
      },
      "source": [
        "<a href=\"https://colab.research.google.com/github/tajuar-akash-hub/test_repo_for_colaboration/blob/main/Copy_of_DataHackathon_Mahir_Tajuar_Akash.ipynb\" target=\"_parent\"><img src=\"https://colab.research.google.com/assets/colab-badge.svg\" alt=\"Open In Colab\"/></a>"
      ]
    },
    {
      "cell_type": "markdown",
      "source": [
        "# Fetching Dataset from Github"
      ],
      "metadata": {
        "id": "KIOnVaJJyHkm"
      },
      "id": "KIOnVaJJyHkm"
    },
    {
      "cell_type": "code",
      "source": [
        "!git clone https://github.com/tajuar-akash-hub/Datasets.git"
      ],
      "metadata": {
        "id": "ewrL2bT31YFB"
      },
      "id": "ewrL2bT31YFB",
      "execution_count": null,
      "outputs": []
    },
    {
      "cell_type": "markdown",
      "source": [
        "# Loading the Dataset and libraries"
      ],
      "metadata": {
        "id": "7Dp4xA-u8vuP"
      },
      "id": "7Dp4xA-u8vuP"
    },
    {
      "cell_type": "code",
      "source": [
        "import pandas as pd\n",
        "import numpy as np\n",
        "import matplotlib.pyplot as plt\n",
        "import seaborn as sns\n",
        "\n",
        "data = '/content/Datasets/Cou_Coffee_Shop_Sales.xlsx - Transactions.csv'\n",
        "df = pd.read_csv(\"/content/Datasets/Cou_Coffee_Shop_Sales.xlsx - Transactions.csv\")\n",
        "df.head(1)\n",
        "\n",
        "copy_df = df\n",
        "\n",
        "\n",
        "\n",
        "# set style of visualization\n",
        "\n",
        "sns.set_style(\"darkgrid\")\n",
        "sns.set_palette(\"RdBu\")"
      ],
      "metadata": {
        "id": "8UyoKy-p3HAm"
      },
      "id": "8UyoKy-p3HAm",
      "execution_count": null,
      "outputs": []
    },
    {
      "cell_type": "code",
      "source": [
        "len(df)"
      ],
      "metadata": {
        "id": "l_eVNuGf3tf7"
      },
      "id": "l_eVNuGf3tf7",
      "execution_count": null,
      "outputs": []
    },
    {
      "cell_type": "code",
      "source": [
        "# Exploratory Data Analysis\n",
        "df.describe().style.background_gradient(cmap='RdPu', axis=0)"
      ],
      "metadata": {
        "id": "A3AvCoRn3tuI"
      },
      "id": "A3AvCoRn3tuI",
      "execution_count": null,
      "outputs": []
    },
    {
      "cell_type": "code",
      "source": [
        "df.isnull().sum()"
      ],
      "metadata": {
        "id": "TbJKm0563t5D"
      },
      "id": "TbJKm0563t5D",
      "execution_count": null,
      "outputs": []
    },
    {
      "cell_type": "code",
      "source": [
        "unique_counts = df.nunique()\n",
        "print(unique_counts)"
      ],
      "metadata": {
        "id": "B6i7PbbZ30aW"
      },
      "id": "B6i7PbbZ30aW",
      "execution_count": null,
      "outputs": []
    },
    {
      "cell_type": "code",
      "source": [
        "df.shape"
      ],
      "metadata": {
        "id": "klZqjUJV30pa"
      },
      "id": "klZqjUJV30pa",
      "execution_count": null,
      "outputs": []
    },
    {
      "cell_type": "code",
      "source": [
        "df.dtypes"
      ],
      "metadata": {
        "id": "7KgDxcNc30yp"
      },
      "id": "7KgDxcNc30yp",
      "execution_count": null,
      "outputs": []
    },
    {
      "cell_type": "code",
      "source": [
        "df.columns"
      ],
      "metadata": {
        "id": "Pnl7VyTc31Ci"
      },
      "id": "Pnl7VyTc31Ci",
      "execution_count": null,
      "outputs": []
    },
    {
      "cell_type": "markdown",
      "source": [
        "# Duplicates"
      ],
      "metadata": {
        "id": "ahPDsWU4yW-X"
      },
      "id": "ahPDsWU4yW-X"
    },
    {
      "cell_type": "code",
      "source": [
        "#check duplicates\n",
        "\n",
        "duplicates = df[df.duplicated()]\n",
        "\n",
        "# Display duplicates if any are found\n",
        "\n",
        "print(f\"Number of duplicate rows: {duplicates.shape[0]}\")\n",
        "print(duplicates)"
      ],
      "metadata": {
        "id": "a6EwP8bs4Aw1"
      },
      "id": "a6EwP8bs4Aw1",
      "execution_count": null,
      "outputs": []
    },
    {
      "cell_type": "markdown",
      "source": [
        "# Convert date"
      ],
      "metadata": {
        "id": "A6LKV4se3Xx2"
      },
      "id": "A6LKV4se3Xx2"
    },
    {
      "cell_type": "code",
      "source": [
        "# Convert 'transaction_date' to datetime format\n",
        "\n",
        "df['transaction_date'] = pd.to_datetime(df['transaction_date'])\n",
        "\n"
      ],
      "metadata": {
        "id": "NurKOuC-4v0w"
      },
      "id": "NurKOuC-4v0w",
      "execution_count": null,
      "outputs": []
    },
    {
      "cell_type": "markdown",
      "id": "86134d09",
      "metadata": {
        "papermill": {
          "duration": 0.022869,
          "end_time": "2023-12-03T21:27:24.919632",
          "exception": false,
          "start_time": "2023-12-03T21:27:24.896763",
          "status": "completed"
        },
        "tags": [],
        "id": "86134d09"
      },
      "source": [
        "# Univariate Analysis & Visualizations"
      ]
    },
    {
      "cell_type": "code",
      "execution_count": null,
      "id": "5d1d03a0",
      "metadata": {
        "execution": {
          "iopub.execute_input": "2023-12-03T21:27:24.968604Z",
          "iopub.status.busy": "2023-12-03T21:27:24.967947Z",
          "iopub.status.idle": "2023-12-03T21:27:24.976397Z",
          "shell.execute_reply": "2023-12-03T21:27:24.975629Z"
        },
        "papermill": {
          "duration": 0.035624,
          "end_time": "2023-12-03T21:27:24.978671",
          "exception": false,
          "start_time": "2023-12-03T21:27:24.943047",
          "status": "completed"
        },
        "tags": [],
        "id": "5d1d03a0"
      },
      "outputs": [],
      "source": [
        "#  function to visualized categorical column using count plot\n",
        "\n",
        "def count_plot(x_axis = None, y_axis = None, hue = None, rotation = 0, top = None):\n",
        "\n",
        "    if x_axis:\n",
        "        order = df[x_axis].value_counts().iloc[:top].index\n",
        "\n",
        "    else :\n",
        "        order = df[y_axis].value_counts().iloc[:top].index\n",
        "\n",
        "    graph = sns.countplot(x = x_axis, y = y_axis, data = df, hue = hue, order = order, palette = \"RdBu\")\n",
        "    for container in graph.containers:\n",
        "        graph.bar_label(container)\n",
        "\n",
        "\n",
        "    plt.xticks(rotation = rotation)\n",
        "    plt.show()"
      ]
    },
    {
      "cell_type": "code",
      "execution_count": null,
      "id": "82d45dc0",
      "metadata": {
        "execution": {
          "iopub.execute_input": "2023-12-03T21:27:25.027378Z",
          "iopub.status.busy": "2023-12-03T21:27:25.026734Z",
          "iopub.status.idle": "2023-12-03T21:27:25.034123Z",
          "shell.execute_reply": "2023-12-03T21:27:25.033274Z"
        },
        "papermill": {
          "duration": 0.034447,
          "end_time": "2023-12-03T21:27:25.036391",
          "exception": false,
          "start_time": "2023-12-03T21:27:25.001944",
          "status": "completed"
        },
        "tags": [],
        "id": "82d45dc0"
      },
      "outputs": [],
      "source": [
        "# create function that visualized categorical column using pie plot\n",
        "\n",
        "def pie_plot(column_name, explodeIndex = None):\n",
        "\n",
        "\n",
        "    explodeList = [0] * df[column_name].nunique()\n",
        "\n",
        "\n",
        "    if explodeIndex is not None:\n",
        "        explodeList[explodeIndex] = 0.1\n",
        "\n",
        "    # Create pie plot\n",
        "    plt.pie(df[column_name].value_counts(), labels = df[column_name].value_counts().index, shadow = True, autopct = \"%1.1f%%\",  explode = explodeList)\n",
        "    plt.show()"
      ]
    },
    {
      "cell_type": "markdown",
      "id": "2b9dec7e",
      "metadata": {
        "papermill": {
          "duration": 0.023158,
          "end_time": "2023-12-03T21:27:25.084272",
          "exception": false,
          "start_time": "2023-12-03T21:27:25.061114",
          "status": "completed"
        },
        "tags": [],
        "id": "2b9dec7e"
      },
      "source": [
        "#Discovering `transaction_date` column"
      ]
    },
    {
      "cell_type": "code",
      "execution_count": null,
      "id": "55f41f2e",
      "metadata": {
        "execution": {
          "iopub.execute_input": "2023-12-03T21:27:25.133666Z",
          "iopub.status.busy": "2023-12-03T21:27:25.132954Z",
          "iopub.status.idle": "2023-12-03T21:27:25.142371Z",
          "shell.execute_reply": "2023-12-03T21:27:25.141190Z"
        },
        "papermill": {
          "duration": 0.036795,
          "end_time": "2023-12-03T21:27:25.144607",
          "exception": false,
          "start_time": "2023-12-03T21:27:25.107812",
          "status": "completed"
        },
        "tags": [],
        "id": "55f41f2e"
      },
      "outputs": [],
      "source": [
        "# see unique value\n",
        "\n",
        "df[\"transaction_date\"].unique()[:25]"
      ]
    },
    {
      "cell_type": "markdown",
      "id": "8e93b185",
      "metadata": {
        "papermill": {
          "duration": 0.022876,
          "end_time": "2023-12-03T21:27:25.190633",
          "exception": false,
          "start_time": "2023-12-03T21:27:25.167757",
          "status": "completed"
        },
        "tags": [],
        "id": "8e93b185"
      },
      "source": [
        "#Extract some information such as `year , month and day`**"
      ]
    },
    {
      "cell_type": "code",
      "execution_count": null,
      "id": "5947835b",
      "metadata": {
        "execution": {
          "iopub.execute_input": "2023-12-03T21:27:25.239226Z",
          "iopub.status.busy": "2023-12-03T21:27:25.238575Z",
          "iopub.status.idle": "2023-12-03T21:27:25.365889Z",
          "shell.execute_reply": "2023-12-03T21:27:25.364754Z"
        },
        "papermill": {
          "duration": 0.154597,
          "end_time": "2023-12-03T21:27:25.368419",
          "exception": false,
          "start_time": "2023-12-03T21:27:25.213822",
          "status": "completed"
        },
        "tags": [],
        "id": "5947835b"
      },
      "outputs": [],
      "source": [
        "# add new column year\n",
        "\n",
        "df[\"year\"] = df[\"transaction_date\"].dt.year\n",
        "\n",
        "# add new column month\n",
        "df[\"month\"] = df[\"transaction_date\"].dt.month_name()\n",
        "\n",
        "# add new column day\n",
        "df[\"day\"] = df[\"transaction_date\"].dt.day_name()"
      ]
    },
    {
      "cell_type": "code",
      "execution_count": null,
      "id": "f5373236",
      "metadata": {
        "execution": {
          "iopub.execute_input": "2023-12-03T21:27:25.464590Z",
          "iopub.status.busy": "2023-12-03T21:27:25.463853Z",
          "iopub.status.idle": "2023-12-03T21:27:25.472670Z",
          "shell.execute_reply": "2023-12-03T21:27:25.471476Z"
        },
        "papermill": {
          "duration": 0.036369,
          "end_time": "2023-12-03T21:27:25.475088",
          "exception": false,
          "start_time": "2023-12-03T21:27:25.438719",
          "status": "completed"
        },
        "tags": [],
        "id": "f5373236"
      },
      "outputs": [],
      "source": [
        "# see unique values of year column\n",
        "\n",
        "df[\"year\"].unique()"
      ]
    },
    {
      "cell_type": "markdown",
      "id": "b4252c58",
      "metadata": {
        "papermill": {
          "duration": 0.023195,
          "end_time": "2023-12-03T21:27:25.522093",
          "exception": false,
          "start_time": "2023-12-03T21:27:25.498898",
          "status": "completed"
        },
        "tags": [],
        "id": "b4252c58"
      },
      "source": [
        "**📝Sales exclusively from 2023.**"
      ]
    },
    {
      "cell_type": "code",
      "execution_count": null,
      "id": "69eabf9d",
      "metadata": {
        "execution": {
          "iopub.execute_input": "2023-12-03T21:27:25.571554Z",
          "iopub.status.busy": "2023-12-03T21:27:25.570575Z",
          "iopub.status.idle": "2023-12-03T21:27:25.591768Z",
          "shell.execute_reply": "2023-12-03T21:27:25.591010Z"
        },
        "papermill": {
          "duration": 0.048093,
          "end_time": "2023-12-03T21:27:25.593908",
          "exception": false,
          "start_time": "2023-12-03T21:27:25.545815",
          "status": "completed"
        },
        "tags": [],
        "id": "69eabf9d"
      },
      "outputs": [],
      "source": [
        "# see unique values of month column\n",
        "\n",
        "df[\"month\"].unique()"
      ]
    },
    {
      "cell_type": "markdown",
      "source": [
        "# Month wise sales"
      ],
      "metadata": {
        "id": "ktXOUvl2eUW2"
      },
      "id": "ktXOUvl2eUW2"
    },
    {
      "cell_type": "code",
      "execution_count": null,
      "id": "d4b6786b",
      "metadata": {
        "execution": {
          "iopub.execute_input": "2023-12-03T21:27:25.643378Z",
          "iopub.status.busy": "2023-12-03T21:27:25.642613Z",
          "iopub.status.idle": "2023-12-03T21:27:26.152271Z",
          "shell.execute_reply": "2023-12-03T21:27:26.151094Z"
        },
        "papermill": {
          "duration": 0.537107,
          "end_time": "2023-12-03T21:27:26.154760",
          "exception": false,
          "start_time": "2023-12-03T21:27:25.617653",
          "status": "completed"
        },
        "tags": [],
        "id": "d4b6786b"
      },
      "outputs": [],
      "source": [
        "# see number of transaction in each month\n",
        "\n",
        "count_plot(x_axis = \"month\") # call function i create it in cell 12"
      ]
    },
    {
      "cell_type": "markdown",
      "id": "e4984063",
      "metadata": {
        "papermill": {
          "duration": 0.023966,
          "end_time": "2023-12-03T21:27:26.203081",
          "exception": false,
          "start_time": "2023-12-03T21:27:26.179115",
          "status": "completed"
        },
        "tags": [],
        "id": "e4984063"
      },
      "source": [
        "# Most sales within a six-month period**"
      ]
    },
    {
      "cell_type": "code",
      "execution_count": null,
      "id": "27deb26e",
      "metadata": {
        "execution": {
          "iopub.execute_input": "2023-12-03T21:27:26.254288Z",
          "iopub.status.busy": "2023-12-03T21:27:26.253617Z",
          "iopub.status.idle": "2023-12-03T21:27:26.275986Z",
          "shell.execute_reply": "2023-12-03T21:27:26.274687Z"
        },
        "papermill": {
          "duration": 0.050815,
          "end_time": "2023-12-03T21:27:26.278372",
          "exception": false,
          "start_time": "2023-12-03T21:27:26.227557",
          "status": "completed"
        },
        "tags": [],
        "id": "27deb26e"
      },
      "outputs": [],
      "source": [
        "df[\"day\"].unique()"
      ]
    },
    {
      "cell_type": "code",
      "execution_count": null,
      "id": "6b5748f0",
      "metadata": {
        "execution": {
          "iopub.execute_input": "2023-12-03T21:27:26.329935Z",
          "iopub.status.busy": "2023-12-03T21:27:26.329111Z",
          "iopub.status.idle": "2023-12-03T21:27:26.830017Z",
          "shell.execute_reply": "2023-12-03T21:27:26.828992Z"
        },
        "papermill": {
          "duration": 0.529467,
          "end_time": "2023-12-03T21:27:26.832419",
          "exception": false,
          "start_time": "2023-12-03T21:27:26.302952",
          "status": "completed"
        },
        "tags": [],
        "id": "6b5748f0"
      },
      "outputs": [],
      "source": [
        "# see top 5 day of transaction\n",
        "\n",
        "# set figure size\n",
        "plt.figure(figsize = (10,6))\n",
        "\n",
        "# call function i create it in cell 12\n",
        "count_plot(x_axis = \"day\")"
      ]
    },
    {
      "cell_type": "markdown",
      "id": "64dd9b69",
      "metadata": {
        "papermill": {
          "duration": 0.024595,
          "end_time": "2023-12-03T21:27:26.965139",
          "exception": false,
          "start_time": "2023-12-03T21:27:26.940544",
          "status": "completed"
        },
        "tags": [],
        "id": "64dd9b69"
      },
      "source": [
        "### Discovering `transaction_time` column"
      ]
    },
    {
      "cell_type": "code",
      "execution_count": null,
      "id": "97c21143",
      "metadata": {
        "execution": {
          "iopub.execute_input": "2023-12-03T21:27:27.017960Z",
          "iopub.status.busy": "2023-12-03T21:27:27.017248Z",
          "iopub.status.idle": "2023-12-03T21:27:27.044288Z",
          "shell.execute_reply": "2023-12-03T21:27:27.043108Z"
        },
        "papermill": {
          "duration": 0.056727,
          "end_time": "2023-12-03T21:27:27.046739",
          "exception": false,
          "start_time": "2023-12-03T21:27:26.990012",
          "status": "completed"
        },
        "tags": [],
        "id": "97c21143"
      },
      "outputs": [],
      "source": [
        "# see unique values\n",
        "\n",
        "df[\"transaction_time\"].unique()"
      ]
    },
    {
      "cell_type": "code",
      "source": [
        "# Force datetime conversion on all entries, with errors converting to NaT if necessary\n",
        "\n",
        "df['transaction_time'] = pd.to_datetime(df['transaction_time'], errors='coerce')\n"
      ],
      "metadata": {
        "id": "EX4cxH_v3O6B"
      },
      "id": "EX4cxH_v3O6B",
      "execution_count": null,
      "outputs": []
    },
    {
      "cell_type": "code",
      "source": [
        "df['hour'] = df['transaction_time'].dt.hour"
      ],
      "metadata": {
        "id": "Sz3q7imc3WW8"
      },
      "id": "Sz3q7imc3WW8",
      "execution_count": null,
      "outputs": []
    },
    {
      "cell_type": "code",
      "source": [
        "df[\"transaction_time\"]"
      ],
      "metadata": {
        "id": "i4fwIzup26nf"
      },
      "id": "i4fwIzup26nf",
      "execution_count": null,
      "outputs": []
    },
    {
      "cell_type": "markdown",
      "id": "8687fcca",
      "metadata": {
        "papermill": {
          "duration": 0.025029,
          "end_time": "2023-12-03T21:27:27.098518",
          "exception": false,
          "start_time": "2023-12-03T21:27:27.073489",
          "status": "completed"
        },
        "tags": [],
        "id": "8687fcca"
      },
      "source": [
        "##  Extract some information such as `hour`**"
      ]
    },
    {
      "cell_type": "code",
      "execution_count": null,
      "id": "5ee9f298",
      "metadata": {
        "execution": {
          "iopub.execute_input": "2023-12-03T21:27:27.151183Z",
          "iopub.status.busy": "2023-12-03T21:27:27.150314Z",
          "iopub.status.idle": "2023-12-03T21:27:27.273196Z",
          "shell.execute_reply": "2023-12-03T21:27:27.272231Z"
        },
        "papermill": {
          "duration": 0.152101,
          "end_time": "2023-12-03T21:27:27.275855",
          "exception": false,
          "start_time": "2023-12-03T21:27:27.123754",
          "status": "completed"
        },
        "tags": [],
        "id": "5ee9f298"
      },
      "outputs": [],
      "source": [
        "# add new column hour\n",
        "\n",
        "df[\"hour\"] = df[\"transaction_time\"].apply(lambda x : x.hour)"
      ]
    },
    {
      "cell_type": "code",
      "source": [
        "df[\"hour\"].unique()"
      ],
      "metadata": {
        "id": "-jGbw2Ev3bTi"
      },
      "id": "-jGbw2Ev3bTi",
      "execution_count": null,
      "outputs": []
    },
    {
      "cell_type": "code",
      "execution_count": null,
      "id": "da236428",
      "metadata": {
        "execution": {
          "iopub.execute_input": "2023-12-03T21:27:27.328733Z",
          "iopub.status.busy": "2023-12-03T21:27:27.327993Z",
          "iopub.status.idle": "2023-12-03T21:27:28.439976Z",
          "shell.execute_reply": "2023-12-03T21:27:28.439000Z"
        },
        "papermill": {
          "duration": 1.141546,
          "end_time": "2023-12-03T21:27:28.442586",
          "exception": false,
          "start_time": "2023-12-03T21:27:27.301040",
          "status": "completed"
        },
        "tags": [],
        "id": "da236428"
      },
      "outputs": [],
      "source": [
        "# see distribution\n",
        "import seaborn as sns\n",
        "import matplotlib.pyplot as plt\n",
        "\n",
        "\n",
        "sns.kdeplot(df[\"hour\"])\n",
        "plt.show()"
      ]
    },
    {
      "cell_type": "markdown",
      "id": "a56ed8db",
      "metadata": {
        "papermill": {
          "duration": 0.025868,
          "end_time": "2023-12-03T21:27:28.494664",
          "exception": false,
          "start_time": "2023-12-03T21:27:28.468796",
          "status": "completed"
        },
        "tags": [],
        "id": "a56ed8db"
      },
      "source": [
        "** Insight:  Most sales were from 8 am to 11 pm**"
      ]
    },
    {
      "cell_type": "markdown",
      "id": "a0a6458d",
      "metadata": {
        "papermill": {
          "duration": 0.025633,
          "end_time": "2023-12-03T21:27:28.628626",
          "exception": false,
          "start_time": "2023-12-03T21:27:28.602993",
          "status": "completed"
        },
        "tags": [],
        "id": "a0a6458d"
      },
      "source": [
        "### Discovering `transaction_qty` column"
      ]
    },
    {
      "cell_type": "code",
      "execution_count": null,
      "id": "797f5d48",
      "metadata": {
        "execution": {
          "iopub.execute_input": "2023-12-03T21:27:28.682174Z",
          "iopub.status.busy": "2023-12-03T21:27:28.681772Z",
          "iopub.status.idle": "2023-12-03T21:27:28.689156Z",
          "shell.execute_reply": "2023-12-03T21:27:28.688353Z"
        },
        "papermill": {
          "duration": 0.036602,
          "end_time": "2023-12-03T21:27:28.691112",
          "exception": false,
          "start_time": "2023-12-03T21:27:28.654510",
          "status": "completed"
        },
        "tags": [],
        "id": "797f5d48"
      },
      "outputs": [],
      "source": [
        "### see unique values\n",
        "\n",
        "df[\"transaction_qty\"].unique()"
      ]
    },
    {
      "cell_type": "code",
      "execution_count": null,
      "id": "20d45cc0",
      "metadata": {
        "execution": {
          "iopub.execute_input": "2023-12-03T21:27:28.746930Z",
          "iopub.status.busy": "2023-12-03T21:27:28.746043Z",
          "iopub.status.idle": "2023-12-03T21:27:29.086171Z",
          "shell.execute_reply": "2023-12-03T21:27:29.085129Z"
        },
        "papermill": {
          "duration": 0.370612,
          "end_time": "2023-12-03T21:27:29.088659",
          "exception": false,
          "start_time": "2023-12-03T21:27:28.718047",
          "status": "completed"
        },
        "tags": [],
        "id": "20d45cc0"
      },
      "outputs": [],
      "source": [
        "# see number of sales quantity\n",
        "\n",
        "count_plot(x_axis = \"transaction_qty\") # call function i create it in cell 12"
      ]
    },
    {
      "cell_type": "markdown",
      "id": "932a170d",
      "metadata": {
        "papermill": {
          "duration": 0.026517,
          "end_time": "2023-12-03T21:27:29.141843",
          "exception": false,
          "start_time": "2023-12-03T21:27:29.115326",
          "status": "completed"
        },
        "tags": [],
        "id": "932a170d"
      },
      "source": [
        "## Insight : Most sales were singles followed by 2 lots**"
      ]
    },
    {
      "cell_type": "markdown",
      "id": "1f0d4ad4",
      "metadata": {
        "papermill": {
          "duration": 0.026439,
          "end_time": "2023-12-03T21:27:29.194847",
          "exception": false,
          "start_time": "2023-12-03T21:27:29.168408",
          "status": "completed"
        },
        "tags": [],
        "id": "1f0d4ad4"
      },
      "source": [
        "### Discovering `store_location` column"
      ]
    },
    {
      "cell_type": "code",
      "execution_count": null,
      "id": "c89d5a0f",
      "metadata": {
        "execution": {
          "iopub.execute_input": "2023-12-03T21:27:29.250365Z",
          "iopub.status.busy": "2023-12-03T21:27:29.249650Z",
          "iopub.status.idle": "2023-12-03T21:27:29.271242Z",
          "shell.execute_reply": "2023-12-03T21:27:29.270458Z"
        },
        "papermill": {
          "duration": 0.051983,
          "end_time": "2023-12-03T21:27:29.273604",
          "exception": false,
          "start_time": "2023-12-03T21:27:29.221621",
          "status": "completed"
        },
        "tags": [],
        "id": "c89d5a0f"
      },
      "outputs": [],
      "source": [
        "# see unique values\n",
        "\n",
        "df[\"store_location\"].unique()"
      ]
    },
    {
      "cell_type": "code",
      "execution_count": null,
      "id": "064d6ecb",
      "metadata": {
        "execution": {
          "iopub.execute_input": "2023-12-03T21:27:29.329154Z",
          "iopub.status.busy": "2023-12-03T21:27:29.328482Z",
          "iopub.status.idle": "2023-12-03T21:27:29.566403Z",
          "shell.execute_reply": "2023-12-03T21:27:29.565413Z"
        },
        "papermill": {
          "duration": 0.271664,
          "end_time": "2023-12-03T21:27:29.572047",
          "exception": false,
          "start_time": "2023-12-03T21:27:29.300383",
          "status": "completed"
        },
        "tags": [],
        "id": "064d6ecb"
      },
      "outputs": [],
      "source": [
        "# see number of sales in each store\n",
        "\n",
        "pie_plot(column_name = \"store_location\", explodeIndex = 0)"
      ]
    },
    {
      "cell_type": "markdown",
      "id": "8e6b5731",
      "metadata": {
        "papermill": {
          "duration": 0.028624,
          "end_time": "2023-12-03T21:27:29.655880",
          "exception": false,
          "start_time": "2023-12-03T21:27:29.627256",
          "status": "completed"
        },
        "tags": [],
        "id": "8e6b5731"
      },
      "source": [
        "## Insight : The sales rates of the three stores were similar, with the most significant difference observed at the Hell's Kitchen store"
      ]
    },
    {
      "cell_type": "markdown",
      "id": "0350bd71",
      "metadata": {
        "papermill": {
          "duration": 0.02783,
          "end_time": "2023-12-03T21:27:29.711881",
          "exception": false,
          "start_time": "2023-12-03T21:27:29.684051",
          "status": "completed"
        },
        "tags": [],
        "id": "0350bd71"
      },
      "source": [
        "### Discovering `unit_price` column"
      ]
    },
    {
      "cell_type": "code",
      "execution_count": null,
      "id": "d017553c",
      "metadata": {
        "execution": {
          "iopub.execute_input": "2023-12-03T21:27:29.769751Z",
          "iopub.status.busy": "2023-12-03T21:27:29.769083Z",
          "iopub.status.idle": "2023-12-03T21:27:29.778412Z",
          "shell.execute_reply": "2023-12-03T21:27:29.777359Z"
        },
        "papermill": {
          "duration": 0.041118,
          "end_time": "2023-12-03T21:27:29.780772",
          "exception": false,
          "start_time": "2023-12-03T21:27:29.739654",
          "status": "completed"
        },
        "tags": [],
        "id": "d017553c"
      },
      "outputs": [],
      "source": [
        "# see unique values\n",
        "\n",
        "df[\"unit_price\"].unique()"
      ]
    },
    {
      "cell_type": "code",
      "execution_count": null,
      "id": "245d0170",
      "metadata": {
        "execution": {
          "iopub.execute_input": "2023-12-03T21:27:29.839792Z",
          "iopub.status.busy": "2023-12-03T21:27:29.839015Z",
          "iopub.status.idle": "2023-12-03T21:27:30.093782Z",
          "shell.execute_reply": "2023-12-03T21:27:30.092677Z"
        },
        "papermill": {
          "duration": 0.287349,
          "end_time": "2023-12-03T21:27:30.096198",
          "exception": false,
          "start_time": "2023-12-03T21:27:29.808849",
          "status": "completed"
        },
        "tags": [],
        "id": "245d0170"
      },
      "outputs": [],
      "source": [
        "# see 5 number summary to check outliers\n",
        "\n",
        "sns.boxplot(y = \"unit_price\", data = df)"
      ]
    },
    {
      "cell_type": "code",
      "execution_count": null,
      "id": "e1c9a763",
      "metadata": {
        "execution": {
          "iopub.execute_input": "2023-12-03T21:27:30.212516Z",
          "iopub.status.busy": "2023-12-03T21:27:30.211499Z",
          "iopub.status.idle": "2023-12-03T21:27:31.258890Z",
          "shell.execute_reply": "2023-12-03T21:27:31.257752Z"
        },
        "papermill": {
          "duration": 1.080017,
          "end_time": "2023-12-03T21:27:31.261557",
          "exception": false,
          "start_time": "2023-12-03T21:27:30.181540",
          "status": "completed"
        },
        "tags": [],
        "id": "e1c9a763"
      },
      "outputs": [],
      "source": [
        "# see distribution\n",
        "\n",
        "sns.kdeplot(x = df[\"unit_price\"], fill = True)\n",
        "plt.show()"
      ]
    },
    {
      "cell_type": "markdown",
      "id": "4fccbf28",
      "metadata": {
        "papermill": {
          "duration": 0.028348,
          "end_time": "2023-12-03T21:27:31.318582",
          "exception": false,
          "start_time": "2023-12-03T21:27:31.290234",
          "status": "completed"
        },
        "tags": [],
        "id": "4fccbf28"
      },
      "source": [
        "* We can see :**\n",
        "   - Price distribution is `positively skewed`, We understand from this that most Coffee have lower prices,while a few Coffee have higher prices"
      ]
    },
    {
      "cell_type": "markdown",
      "id": "5f278d79",
      "metadata": {
        "papermill": {
          "duration": 0.028324,
          "end_time": "2023-12-03T21:27:31.375560",
          "exception": false,
          "start_time": "2023-12-03T21:27:31.347236",
          "status": "completed"
        },
        "tags": [],
        "id": "5f278d79"
      },
      "source": [
        "### Discovering `product_category` column"
      ]
    },
    {
      "cell_type": "code",
      "execution_count": null,
      "id": "792f6455",
      "metadata": {
        "execution": {
          "iopub.execute_input": "2023-12-03T21:27:31.435090Z",
          "iopub.status.busy": "2023-12-03T21:27:31.434284Z",
          "iopub.status.idle": "2023-12-03T21:27:31.454940Z",
          "shell.execute_reply": "2023-12-03T21:27:31.453789Z"
        },
        "papermill": {
          "duration": 0.053164,
          "end_time": "2023-12-03T21:27:31.457195",
          "exception": false,
          "start_time": "2023-12-03T21:27:31.404031",
          "status": "completed"
        },
        "tags": [],
        "id": "792f6455"
      },
      "outputs": [],
      "source": [
        "# see unique values\n",
        "\n",
        "df[\"product_category\"].unique()"
      ]
    },
    {
      "cell_type": "code",
      "execution_count": null,
      "id": "1257428f",
      "metadata": {
        "execution": {
          "iopub.execute_input": "2023-12-03T21:27:31.516709Z",
          "iopub.status.busy": "2023-12-03T21:27:31.515998Z",
          "iopub.status.idle": "2023-12-03T21:27:32.061384Z",
          "shell.execute_reply": "2023-12-03T21:27:32.060246Z"
        },
        "papermill": {
          "duration": 0.577983,
          "end_time": "2023-12-03T21:27:32.063964",
          "exception": false,
          "start_time": "2023-12-03T21:27:31.485981",
          "status": "completed"
        },
        "tags": [],
        "id": "1257428f"
      },
      "outputs": [],
      "source": [
        "# see most common category\n",
        "\n",
        "# set figure size\n",
        "plt.figure(figsize = (15,6))\n",
        "\n",
        "# call function i create it in cell 12\n",
        "count_plot(x_axis = \"product_category\")"
      ]
    },
    {
      "cell_type": "markdown",
      "id": "b3d7d8a8",
      "metadata": {
        "papermill": {
          "duration": 0.029191,
          "end_time": "2023-12-03T21:27:32.122777",
          "exception": false,
          "start_time": "2023-12-03T21:27:32.093586",
          "status": "completed"
        },
        "tags": [],
        "id": "b3d7d8a8"
      },
      "source": [
        "** Insight\n",
        "   \n",
        "   - `Coffee` stands as the most-selling product.\n",
        "   - `Tea` second most selling product."
      ]
    },
    {
      "cell_type": "markdown",
      "id": "fd81cf9c",
      "metadata": {
        "papermill": {
          "duration": 0.029225,
          "end_time": "2023-12-03T21:27:32.182066",
          "exception": false,
          "start_time": "2023-12-03T21:27:32.152841",
          "status": "completed"
        },
        "tags": [],
        "id": "fd81cf9c"
      },
      "source": [
        "### Discovering `product_type` column"
      ]
    },
    {
      "cell_type": "code",
      "execution_count": null,
      "id": "82354d44",
      "metadata": {
        "execution": {
          "iopub.execute_input": "2023-12-03T21:27:32.242891Z",
          "iopub.status.busy": "2023-12-03T21:27:32.242514Z",
          "iopub.status.idle": "2023-12-03T21:27:32.265001Z",
          "shell.execute_reply": "2023-12-03T21:27:32.263763Z"
        },
        "papermill": {
          "duration": 0.055853,
          "end_time": "2023-12-03T21:27:32.267513",
          "exception": false,
          "start_time": "2023-12-03T21:27:32.211660",
          "status": "completed"
        },
        "tags": [],
        "id": "82354d44"
      },
      "outputs": [],
      "source": [
        "# see unique values\n",
        "\n",
        "df[\"product_type\"].unique()"
      ]
    },
    {
      "cell_type": "code",
      "execution_count": null,
      "id": "11c5ee79",
      "metadata": {
        "execution": {
          "iopub.execute_input": "2023-12-03T21:27:32.328603Z",
          "iopub.status.busy": "2023-12-03T21:27:32.328127Z",
          "iopub.status.idle": "2023-12-03T21:27:35.570751Z",
          "shell.execute_reply": "2023-12-03T21:27:35.569693Z"
        },
        "papermill": {
          "duration": 3.276251,
          "end_time": "2023-12-03T21:27:35.573628",
          "exception": false,
          "start_time": "2023-12-03T21:27:32.297377",
          "status": "completed"
        },
        "tags": [],
        "id": "11c5ee79"
      },
      "outputs": [],
      "source": [
        "# Assuming 'counts' is the DataFrame obtained from your groupby operation\n",
        "\n",
        "counts = df.groupby([\"product_category\", \"product_type\"]).size().reset_index(name = \"count\")\n",
        "\n",
        "# Get unique categories\n",
        "categories = counts['product_category'].unique()\n",
        "\n",
        "# Create subplots for each category in a 4x2 grid\n",
        "fig, axes = plt.subplots(5, 2, figsize = (15, 20))\n",
        "\n",
        "# Flatten the axes for easier iteration\n",
        "axes = axes.flatten()\n",
        "\n",
        "for i, category in enumerate(categories):\n",
        "    # Filter data for each category\n",
        "    subset = counts[counts['product_category'] == category]\n",
        "\n",
        "    # Sort the data by 'count' column in descending order\n",
        "    subset = subset.sort_values('count', ascending = False)\n",
        "\n",
        "    # Create a bar plot for each category with sorted order\n",
        "    sns.barplot(x = 'count', y = 'product_type', data = subset, ax = axes[i], order = subset['product_type'])\n",
        "    axes[i].set_title(f'Product Types in {category}')\n",
        "    axes[i].set_ylabel('')\n",
        "    axes[i].set_xlabel('')\n",
        "    axes[i].tick_params(axis = 'x', rotation = 45)\n",
        "    axes[i].grid(True)\n",
        "\n",
        "    # Adding bar labels\n",
        "    for idx, bar in enumerate(axes[i].patches):\n",
        "        axes[i].text(bar.get_width(), bar.get_y() + bar.get_height() / 2, subset.iloc[idx]['count'], ha = 'left', va = 'center')\n",
        "\n",
        "# Hide extra subplots if there are fewer categories than subplots\n",
        "for j in range(len(categories), len(axes)):\n",
        "    axes[j].axis('off')\n",
        "\n",
        "plt.tight_layout()\n",
        "plt.show()\n"
      ]
    },
    {
      "cell_type": "markdown",
      "id": "f5280450",
      "metadata": {
        "papermill": {
          "duration": 0.035362,
          "end_time": "2023-12-03T21:27:35.644918",
          "exception": false,
          "start_time": "2023-12-03T21:27:35.609556",
          "status": "completed"
        },
        "tags": [],
        "id": "f5280450"
      },
      "source": [
        "### Discovering `product_detail` column"
      ]
    },
    {
      "cell_type": "code",
      "execution_count": null,
      "id": "29597e69",
      "metadata": {
        "execution": {
          "iopub.execute_input": "2023-12-03T21:27:35.718743Z",
          "iopub.status.busy": "2023-12-03T21:27:35.717941Z",
          "iopub.status.idle": "2023-12-03T21:27:35.740842Z",
          "shell.execute_reply": "2023-12-03T21:27:35.739841Z"
        },
        "papermill": {
          "duration": 0.062159,
          "end_time": "2023-12-03T21:27:35.743065",
          "exception": false,
          "start_time": "2023-12-03T21:27:35.680906",
          "status": "completed"
        },
        "tags": [],
        "id": "29597e69"
      },
      "outputs": [],
      "source": [
        "# see unique values\n",
        "\n",
        "df[\"product_detail\"].unique()"
      ]
    },
    {
      "cell_type": "markdown",
      "source": [
        "# revinue  by product detail"
      ],
      "metadata": {
        "id": "bXdnpPmhgSn8"
      },
      "id": "bXdnpPmhgSn8"
    },
    {
      "cell_type": "code",
      "source": [
        "product_counts = df[\"product_detail\"].value_counts()\n",
        "print(product_counts)"
      ],
      "metadata": {
        "id": "XzLONzQjfTUt"
      },
      "id": "XzLONzQjfTUt",
      "execution_count": null,
      "outputs": []
    },
    {
      "cell_type": "code",
      "source": [
        "product_sales_sorted = df.sort_values(by=\"revenue\", ascending=False)\n",
        "plt.figure(figsize=(12, 13))\n",
        "sns.barplot(x=\"revenue\", y=\"product_detail\", data=product_sales_sorted)\n",
        "plt.title(\"Revenue by Product Detail\")\n",
        "plt.xlabel(\"Revenue\")\n",
        "plt.ylabel(\"Product Detail\")\n",
        "plt.show()\n"
      ],
      "metadata": {
        "id": "6KMLzCIwfc71"
      },
      "id": "6KMLzCIwfc71",
      "execution_count": null,
      "outputs": []
    },
    {
      "cell_type": "code",
      "source": [],
      "metadata": {
        "id": "HJBGw0eDgheN"
      },
      "id": "HJBGw0eDgheN",
      "execution_count": null,
      "outputs": []
    },
    {
      "cell_type": "markdown",
      "source": [
        "# Items in product category"
      ],
      "metadata": {
        "id": "JUZHJRqngiAG"
      },
      "id": "JUZHJRqngiAG"
    },
    {
      "cell_type": "code",
      "source": [
        "# Group by product_category and product_type and calculate the count\n",
        "counts = df.groupby([\"product_category\", \"product_type\"]).size().reset_index(name=\"count\")\n",
        "\n",
        "# Get unique categories\n",
        "categories = counts['product_category'].unique()\n",
        "\n",
        "# Set up subplots\n",
        "fig, axes = plt.subplots(len(categories), 1, figsize=(12, len(categories) * 4), sharex=True)\n",
        "\n",
        "for i, category in enumerate(categories):\n",
        "    # Filter data for the current category\n",
        "    subset = counts[counts[\"product_category\"] == category]\n",
        "\n",
        "    # Sort by count\n",
        "    subset = subset.sort_values(\"count\", ascending=False)\n",
        "\n",
        "    # Plot the data\n",
        "    sns.barplot(x=\"count\", y=\"product_type\", data=subset, ax=axes[i])\n",
        "    axes[i].set_title(f\"Product Types in {category}\")\n",
        "    axes[i].set_ylabel(\"Product Type\")\n",
        "    axes[i].set_xlabel(\"Count\")\n",
        "    axes[i].grid(True)\n",
        "\n",
        "plt.tight_layout()\n",
        "plt.show()\n"
      ],
      "metadata": {
        "id": "w0rpWnfxgBnV"
      },
      "id": "w0rpWnfxgBnV",
      "execution_count": null,
      "outputs": []
    },
    {
      "cell_type": "markdown",
      "source": [
        "# Add a total Revinue Column"
      ],
      "metadata": {
        "id": "uyUlSoRQgrv2"
      },
      "id": "uyUlSoRQgrv2"
    },
    {
      "cell_type": "code",
      "execution_count": null,
      "id": "84000cfc",
      "metadata": {
        "execution": {
          "iopub.execute_input": "2023-12-03T21:27:35.986964Z",
          "iopub.status.busy": "2023-12-03T21:27:35.986547Z",
          "iopub.status.idle": "2023-12-03T21:27:35.993595Z",
          "shell.execute_reply": "2023-12-03T21:27:35.992496Z"
        },
        "papermill": {
          "duration": 0.046062,
          "end_time": "2023-12-03T21:27:35.995696",
          "exception": false,
          "start_time": "2023-12-03T21:27:35.949634",
          "status": "completed"
        },
        "tags": [],
        "id": "84000cfc"
      },
      "outputs": [],
      "source": [
        "# add new column revenue\n",
        "\n",
        "df[\"Total revenue\"] = df[\"transaction_qty\"] * df[\"unit_price\"]"
      ]
    },
    {
      "cell_type": "markdown",
      "id": "cf2a6b26",
      "metadata": {
        "papermill": {
          "duration": 0.035733,
          "end_time": "2023-12-03T21:27:36.309459",
          "exception": false,
          "start_time": "2023-12-03T21:27:36.273726",
          "status": "completed"
        },
        "tags": [],
        "id": "cf2a6b26"
      },
      "source": [
        "## Bivariate Analysis & Visualizations"
      ]
    },
    {
      "cell_type": "code",
      "execution_count": null,
      "id": "6628f757",
      "metadata": {
        "execution": {
          "iopub.execute_input": "2023-12-03T21:27:36.383539Z",
          "iopub.status.busy": "2023-12-03T21:27:36.383138Z",
          "iopub.status.idle": "2023-12-03T21:27:36.684580Z",
          "shell.execute_reply": "2023-12-03T21:27:36.683522Z"
        },
        "papermill": {
          "duration": 0.341736,
          "end_time": "2023-12-03T21:27:36.687125",
          "exception": false,
          "start_time": "2023-12-03T21:27:36.345389",
          "status": "completed"
        },
        "tags": [],
        "id": "6628f757"
      },
      "outputs": [],
      "source": [
        "# stores Vs transaction quantities\n",
        "\n",
        "# Calculate sum of transaction quantities for each store_location\n",
        "sum_transaction_qty = df.groupby(\"store_location\")[\"transaction_qty\"].sum().reset_index()\n",
        "\n",
        "# create line plot\n",
        "sns.lineplot(x = \"store_location\", y = \"transaction_qty\", data = sum_transaction_qty, marker = \"o\")\n",
        "plt.show()"
      ]
    },
    {
      "cell_type": "markdown",
      "id": "ca139c2e",
      "metadata": {
        "papermill": {
          "duration": 0.036043,
          "end_time": "2023-12-03T21:27:36.760403",
          "exception": false,
          "start_time": "2023-12-03T21:27:36.724360",
          "status": "completed"
        },
        "tags": [],
        "id": "ca139c2e"
      },
      "source": [
        "** Insight\n",
        "   - The sales ratios for quantities seem to be quite similar across all stores"
      ]
    },
    {
      "cell_type": "code",
      "execution_count": null,
      "id": "92f49397",
      "metadata": {
        "execution": {
          "iopub.execute_input": "2023-12-03T21:27:36.836821Z",
          "iopub.status.busy": "2023-12-03T21:27:36.836378Z",
          "iopub.status.idle": "2023-12-03T21:27:37.133298Z",
          "shell.execute_reply": "2023-12-03T21:27:37.132131Z"
        },
        "papermill": {
          "duration": 0.337886,
          "end_time": "2023-12-03T21:27:37.135832",
          "exception": false,
          "start_time": "2023-12-03T21:27:36.797946",
          "status": "completed"
        },
        "tags": [],
        "id": "92f49397"
      },
      "outputs": [],
      "source": [
        "# Stores Vs Total revenue\n",
        "\n",
        "# Calculate total revenue for each store_location\n",
        "revenue = df.groupby(\"store_location\")[\"Total revenue\"].sum().reset_index()\n",
        "\n",
        "# create bar plot\n",
        "ax = sns.barplot(x = \"store_location\", y = \"Total revenue\", data = revenue)\n",
        "\n",
        "# Adding labels to each bar\n",
        "for p in ax.patches:\n",
        "    ax.annotate(format(p.get_height(), '.0f'), (p.get_x() + p.get_width() / 2., p.get_height()), ha = 'center', va = 'center',\n",
        "                xytext = (0, 5), textcoords = 'offset points')\n",
        "\n",
        "plt.show()"
      ]
    },
    {
      "cell_type": "code",
      "execution_count": null,
      "id": "e4d7d849",
      "metadata": {
        "execution": {
          "iopub.execute_input": "2023-12-03T21:27:37.287429Z",
          "iopub.status.busy": "2023-12-03T21:27:37.286614Z",
          "iopub.status.idle": "2023-12-03T21:27:37.937137Z",
          "shell.execute_reply": "2023-12-03T21:27:37.935992Z"
        },
        "papermill": {
          "duration": 0.691584,
          "end_time": "2023-12-03T21:27:37.939640",
          "exception": false,
          "start_time": "2023-12-03T21:27:37.248056",
          "status": "completed"
        },
        "tags": [],
        "id": "e4d7d849"
      },
      "outputs": [],
      "source": [
        "# Stores VS product categories\n",
        "\n",
        "# Calculate number of product categories at each store location\n",
        "popular_products = df.groupby('store_location')[['product_category']].value_counts().reset_index(name='count')\n",
        "\n",
        "# set figure size\n",
        "plt.figure(figsize=(10, 5))\n",
        "\n",
        "# Create a bar plot\n",
        "sns.barplot(x = 'store_location', y = 'count', hue = 'product_category', data = popular_products, palette = \"RdBu\")\n",
        "\n",
        "plt.tight_layout()\n",
        "plt.show()"
      ]
    },
    {
      "cell_type": "markdown",
      "id": "de2963da",
      "metadata": {
        "papermill": {
          "duration": 0.038523,
          "end_time": "2023-12-03T21:27:38.016541",
          "exception": false,
          "start_time": "2023-12-03T21:27:37.978018",
          "status": "completed"
        },
        "tags": [],
        "id": "de2963da"
      },
      "source": [
        "- **Astoria Store :**\n",
        "    - The highest selling product category is **Coffee** with a count of **20,025** units\n",
        "    - Following Coffee, **Tea** stands as the second most popular category with a count of **16,260** units\n",
        "    - Other categories like Bakery, Drinking Chocolate, Flavours, Coffee beans, Loose Tea, Branded, and Packaged Chocolate have        varying counts, ranging from **7289** to **110** units, in **descending order**\n",
        "<p>&nbsp;</p>\n",
        "\n",
        "- **Hell's Kitchen Store :**\n",
        "    - Similar to Astoria, **Coffee** leads in sales, amounting to **20,187** units\n",
        "    - **Tea** follows closely as the second most popular category with **15,277** units\n",
        "    - Other categories, such as Bakery, Drinking Chocolate, Flavours, Coffee beans, Loose Tea, Packaged Chocolate, Branded, and Packaged Chocolate, have counts ranging from **7617** to **119** units  \n",
        "<p>&nbsp;</p>\n",
        "\n",
        "- **Lower Manhattan Store :**\n",
        "    - **Coffee** is again the top-selling category with **18,204** units\n",
        "    - **Tea** follows with **13,912** units\n",
        "    - Bakery, Drinking Chocolate, Flavours, Coffee beans, Loose Tea, Branded, Packaged Chocolate have counts ranging from **7890** to **180** units, in **descending order**"
      ]
    },
    {
      "cell_type": "code",
      "execution_count": null,
      "id": "28a4aa2b",
      "metadata": {
        "execution": {
          "iopub.execute_input": "2023-12-03T21:27:38.096334Z",
          "iopub.status.busy": "2023-12-03T21:27:38.095682Z",
          "iopub.status.idle": "2023-12-03T21:27:38.688874Z",
          "shell.execute_reply": "2023-12-03T21:27:38.688066Z"
        },
        "papermill": {
          "duration": 0.635329,
          "end_time": "2023-12-03T21:27:38.690896",
          "exception": false,
          "start_time": "2023-12-03T21:27:38.055567",
          "status": "completed"
        },
        "tags": [],
        "id": "28a4aa2b"
      },
      "outputs": [],
      "source": [
        "# Stores VS Most transaction_qty\n",
        "\n",
        "# grouped 'store_location' and 'transaction_qty' as columns\n",
        "grouped_data = df.groupby(\"store_location\")[\"transaction_qty\"].value_counts().reset_index(name = \"count\")\n",
        "\n",
        "# set figure size\n",
        "plt.figure(figsize=(10, 5))\n",
        "\n",
        "# Create bar plot\n",
        "sns.barplot(x = \"store_location\", y = \"count\", hue = \"transaction_qty\", data = grouped_data)\n",
        "\n",
        "plt.tight_layout()\n",
        "plt.show()"
      ]
    },
    {
      "cell_type": "markdown",
      "id": "52e4594a",
      "metadata": {
        "papermill": {
          "duration": 0.038418,
          "end_time": "2023-12-03T21:27:38.768863",
          "exception": false,
          "start_time": "2023-12-03T21:27:38.730445",
          "status": "completed"
        },
        "tags": [],
        "id": "52e4594a"
      },
      "source": [
        "- **Astoria Store :**\n",
        "    - The most frequent transaction quantity observed is **1**, with a count of **30,207** instances\n",
        "    - The second most frequent transaction quantity is **2**, noted **20,392** times\n",
        "<p>&nbsp;</p>\n",
        "- **Hell's Kitchen Store:**\n",
        "    - The most frequent transaction quantity observed is **1**, noted **29,793** times\n",
        "    - The second most frequent transaction quantity is **2**, observed **20,932** times\n",
        "    - Additionally, there are **8** transactions with a quantity of **8**\n",
        "<p>&nbsp;</p>\n",
        "- **Lower Manhattan Store:**\n",
        "    - The most frequent transaction quantity observed is **1**, recorded **27,159** times.\n",
        "    - The second most frequent transaction quantity is **2**, seen **17,318** times.\n",
        "    - There are occurrences of transaction quantities **3**, **4**, and **6**, but they are less frequent compared to quantities **1** and **2**"
      ]
    },
    {
      "cell_type": "code",
      "execution_count": null,
      "id": "d17e9951",
      "metadata": {
        "execution": {
          "iopub.execute_input": "2023-12-03T21:27:38.850023Z",
          "iopub.status.busy": "2023-12-03T21:27:38.849112Z",
          "iopub.status.idle": "2023-12-03T21:27:39.649514Z",
          "shell.execute_reply": "2023-12-03T21:27:39.648352Z"
        },
        "papermill": {
          "duration": 0.843866,
          "end_time": "2023-12-03T21:27:39.652012",
          "exception": false,
          "start_time": "2023-12-03T21:27:38.808146",
          "status": "completed"
        },
        "tags": [],
        "id": "d17e9951"
      },
      "outputs": [],
      "source": [
        "# Stores VS Hour sales\n",
        "\n",
        "# set figure size\n",
        "plt.figure(figsize=(16, 6))\n",
        "\n",
        "# call function i create it in cell 12\n",
        "count_plot(x_axis = \"hour\", hue = \"store_location\", top = 10)"
      ]
    },
    {
      "cell_type": "markdown",
      "id": "5f0be434",
      "metadata": {
        "papermill": {
          "duration": 0.040477,
          "end_time": "2023-12-03T21:27:39.733368",
          "exception": false,
          "start_time": "2023-12-03T21:27:39.692891",
          "status": "completed"
        },
        "tags": [],
        "id": "5f0be434"
      },
      "source": [
        "- **Astoria Store :**\n",
        "    - Peak hours are from **9 AM** to **10 AM**, and from **4 PM** to **5 PM**, with counts ranging between **5,083** and **5,291** during these periods\n",
        "    - The least busy hours are from **7 AM** to **8 AM**, with counts ranging between **4,181** and **4,966**\n",
        "<p>&nbsp;</p>\n",
        "- **Hell's Kitchen Store :**\n",
        "    - Busiest hours are from **8 AM** to **10 AM**, with counts ranging between **6,767** and **6,909**\n",
        "    - The least busy hours are from **6 AM** to **7 AM** and from **6 PM** to **8 PM**\n",
        "<p>&nbsp;</p>\n",
        "- **Lower Manhattan Store :**\n",
        "    - Peak hours are from **9 AM** to **10 AM**, with a count of **6,297**, and from **2 PM** to **3 PM**, with a count of **3,051**\n",
        "    - The least busy hours are from **7 PM** to **8 PM**, with counts dropping to **75** and **125**"
      ]
    },
    {
      "cell_type": "code",
      "execution_count": null,
      "id": "533017bd",
      "metadata": {
        "execution": {
          "iopub.execute_input": "2023-12-03T21:27:39.817547Z",
          "iopub.status.busy": "2023-12-03T21:27:39.817133Z",
          "iopub.status.idle": "2023-12-03T21:27:40.696043Z",
          "shell.execute_reply": "2023-12-03T21:27:40.695148Z"
        },
        "papermill": {
          "duration": 0.924915,
          "end_time": "2023-12-03T21:27:40.699006",
          "exception": false,
          "start_time": "2023-12-03T21:27:39.774091",
          "status": "completed"
        },
        "tags": [],
        "id": "533017bd"
      },
      "outputs": [],
      "source": [
        "# Category VS Total revenue\n",
        "\n",
        "# grouped product_type' and 'Total revenue'\n",
        "category_revenue = df.groupby(\"product_type\")[\"Total revenue\"].sum().reset_index(name = \"revenue\")\n",
        "\n",
        "# sort category by revenue\n",
        "category_revenue = category_revenue.sort_values(by = 'revenue', ascending = False)\n",
        "\n",
        "# set figure size\n",
        "plt.figure(figsize = (15,6))\n",
        "\n",
        "# create bar plot\n",
        "sns.barplot(x = \"product_type\", y = \"revenue\", data = category_revenue, palette = \"RdBu\")\n",
        "\n",
        "# set x-axis rotation\n",
        "plt.xticks(rotation = 90)\n",
        "\n",
        "plt.tight_layout()\n",
        "plt.show()"
      ]
    },
    {
      "cell_type": "markdown",
      "id": "27aa5b06",
      "metadata": {
        "papermill": {
          "duration": 0.047031,
          "end_time": "2023-12-03T21:27:40.789757",
          "exception": false,
          "start_time": "2023-12-03T21:27:40.742726",
          "status": "completed"
        },
        "tags": [],
        "id": "27aa5b06"
      },
      "source": [
        "- **Top Revenue Product Types :**\n",
        "   - **Barista Espresso** with a revenue of **91,406.20**\n",
        "   - **Brewed Chai tea** with a revenue of **77,081.95**\n",
        "   - **Hot chocolate** with a revenue of **72,416.00**\n",
        "   - **Gourmet brewed coffee** with a revenue of **70,034.60**\n",
        "   - **Brewed Black tea** with a revenue of **47,932.00**\n",
        "<p>&nbsp;</p>\n",
        "- **Lowest Revenue Product Types :**\n",
        "   - **Organic Chocolate** with a revenue of **1,679.60**\n",
        "   - **Green tea** with a revenue of **1,470.75**\n",
        "   - **Green beans** with a revenue of **1,340.00**\n",
        "<p>&nbsp;</p>\n",
        "- **Other Observations :**\n",
        "    - Various products contribute to revenue across different ranges, with a mix of beverages (like **teas, coffees**) and snacks (**biscotti, pastries**).\n",
        "    - **Coffee-related products**, such as various brews and espresso variants, hold prominent positions in revenue generation.\n",
        "    - The lowest revenue-generating products are predominantly related to **tea** and specific beverage variants."
      ]
    },
    {
      "cell_type": "code",
      "execution_count": null,
      "id": "23bfdf14",
      "metadata": {
        "execution": {
          "iopub.execute_input": "2023-12-03T21:27:40.878652Z",
          "iopub.status.busy": "2023-12-03T21:27:40.877879Z",
          "iopub.status.idle": "2023-12-03T21:27:41.272348Z",
          "shell.execute_reply": "2023-12-03T21:27:41.271519Z"
        },
        "papermill": {
          "duration": 0.441247,
          "end_time": "2023-12-03T21:27:41.274489",
          "exception": false,
          "start_time": "2023-12-03T21:27:40.833242",
          "status": "completed"
        },
        "tags": [],
        "id": "23bfdf14"
      },
      "outputs": [],
      "source": [
        "# Month VS revenue\n",
        "\n",
        "# Grouping by month and summing the revenue\n",
        "monthly_revenue  = df.groupby(\"month\")[\"Total revenue\"].sum().reset_index().sort_values(by = \"Total revenue\")\n",
        "\n",
        "# create line plot\n",
        "sns.lineplot(x = \"month\", y = \"Total revenue\", data = monthly_revenue , marker = \"o\")\n",
        "\n",
        "plt.tight_layout()\n",
        "plt.show()"
      ]
    },
    {
      "cell_type": "markdown",
      "source": [
        "# Daily Sales & Month wise sales"
      ],
      "metadata": {
        "id": "IQ1k9ysDU4Wx"
      },
      "id": "IQ1k9ysDU4Wx"
    },
    {
      "cell_type": "markdown",
      "id": "d4e217d3",
      "metadata": {
        "papermill": {
          "duration": 0.01446,
          "end_time": "2024-10-10T22:57:49.843492",
          "exception": false,
          "start_time": "2024-10-10T22:57:49.829032",
          "status": "completed"
        },
        "tags": [],
        "id": "d4e217d3"
      },
      "source": [
        "As with the daily totals, theese results also suggest steady growth over time, with peaks and troughs smoothed over by choosing a longer \"group by\" period. As far as the correlation between the weekly totals is concerned, it is even a tad higher than between the daily ones:"
      ]
    },
    {
      "cell_type": "code",
      "execution_count": null,
      "id": "e5b510cd",
      "metadata": {
        "execution": {
          "iopub.execute_input": "2024-08-15T12:55:26.994368Z",
          "iopub.status.busy": "2024-08-15T12:55:26.993828Z",
          "iopub.status.idle": "2024-08-15T12:55:27.014332Z",
          "shell.execute_reply": "2024-08-15T12:55:27.013115Z"
        },
        "id": "e5b510cd",
        "papermill": {
          "duration": 0.032143,
          "end_time": "2024-08-15T12:55:27.016953",
          "exception": false,
          "start_time": "2024-08-15T12:55:26.984810",
          "status": "completed"
        },
        "tags": []
      },
      "outputs": [],
      "source": [
        "df['total_sales'] = df['transaction_qty'] * df['unit_price']\n"
      ]
    },
    {
      "cell_type": "code",
      "execution_count": null,
      "id": "f0922622",
      "metadata": {
        "execution": {
          "iopub.execute_input": "2024-08-15T12:55:27.621851Z",
          "iopub.status.busy": "2024-08-15T12:55:27.621470Z",
          "iopub.status.idle": "2024-08-15T12:55:28.078115Z",
          "shell.execute_reply": "2024-08-15T12:55:28.076840Z"
        },
        "id": "f0922622",
        "papermill": {
          "duration": 0.470019,
          "end_time": "2024-08-15T12:55:28.081006",
          "exception": false,
          "start_time": "2024-08-15T12:55:27.610987",
          "status": "completed"
        },
        "tags": []
      },
      "outputs": [],
      "source": [
        "daily_sales = df.groupby('transaction_date')['total_sales'].sum()\n",
        "\n",
        "plt.figure(figsize=(10, 6))\n",
        "plt.plot(daily_sales.index, daily_sales.values, linestyle='-', color='blue')\n",
        "\n",
        "plt.xlabel('Date')\n",
        "plt.ylabel('Total Sales')\n",
        "plt.title('Daily Sales in  2023')\n",
        "\n",
        "plt.xticks(rotation=45, ha='right')\n",
        "\n",
        "plt.grid(True)\n",
        "plt.tight_layout()\n",
        "plt.show()"
      ]
    },
    {
      "cell_type": "code",
      "execution_count": null,
      "id": "337ee107",
      "metadata": {
        "execution": {
          "iopub.execute_input": "2024-08-15T12:55:28.102766Z",
          "iopub.status.busy": "2024-08-15T12:55:28.101817Z",
          "iopub.status.idle": "2024-08-15T12:55:28.604615Z",
          "shell.execute_reply": "2024-08-15T12:55:28.603489Z"
        },
        "id": "337ee107",
        "papermill": {
          "duration": 0.516943,
          "end_time": "2024-08-15T12:55:28.607602",
          "exception": false,
          "start_time": "2024-08-15T12:55:28.090659",
          "status": "completed"
        },
        "tags": []
      },
      "outputs": [],
      "source": [
        "january_sales = df[df['transaction_date'].dt.month == 1].groupby('transaction_date')['total_sales'].sum()\n",
        "\n",
        "plt.figure(figsize=(10, 6))\n",
        "plt.plot(january_sales.index, january_sales.values, marker='o', linestyle='-', color='blue')\n",
        "\n",
        "plt.xlabel('Date in January 2023')\n",
        "plt.ylabel('Total Sales')\n",
        "plt.title('Daily Sales in January 2023')\n",
        "\n",
        "plt.xticks(rotation=45, ha='right')\n",
        "\n",
        "plt.grid(True)\n",
        "plt.tight_layout()\n",
        "plt.show()\n"
      ]
    },
    {
      "cell_type": "code",
      "execution_count": null,
      "id": "f9e14a59",
      "metadata": {
        "execution": {
          "iopub.execute_input": "2024-08-15T12:55:28.630681Z",
          "iopub.status.busy": "2024-08-15T12:55:28.630302Z",
          "iopub.status.idle": "2024-08-15T12:55:29.009274Z",
          "shell.execute_reply": "2024-08-15T12:55:29.008042Z"
        },
        "id": "f9e14a59",
        "papermill": {
          "duration": 0.393918,
          "end_time": "2024-08-15T12:55:29.012279",
          "exception": false,
          "start_time": "2024-08-15T12:55:28.618361",
          "status": "completed"
        },
        "tags": []
      },
      "outputs": [],
      "source": [
        "february_sales = df[df['transaction_date'].dt.month == 2].groupby('transaction_date')['total_sales'].sum()\n",
        "\n",
        "plt.figure(figsize=(10, 6))\n",
        "plt.plot(february_sales.index, february_sales.values, marker='o', linestyle='-', color='blue')\n",
        "\n",
        "plt.xlabel('Date in February 2023')\n",
        "plt.ylabel('Total Sales')\n",
        "plt.title('Daily Sales in February 2023')\n",
        "\n",
        "plt.xticks(rotation=45, ha='right')\n",
        "\n",
        "plt.grid(True)\n",
        "plt.tight_layout()\n",
        "plt.show()"
      ]
    },
    {
      "cell_type": "code",
      "execution_count": null,
      "id": "ac9ce463",
      "metadata": {
        "execution": {
          "iopub.execute_input": "2024-08-15T12:55:29.038794Z",
          "iopub.status.busy": "2024-08-15T12:55:29.038398Z",
          "iopub.status.idle": "2024-08-15T12:55:29.437742Z",
          "shell.execute_reply": "2024-08-15T12:55:29.436129Z"
        },
        "id": "ac9ce463",
        "papermill": {
          "duration": 0.416695,
          "end_time": "2024-08-15T12:55:29.441390",
          "exception": false,
          "start_time": "2024-08-15T12:55:29.024695",
          "status": "completed"
        },
        "tags": []
      },
      "outputs": [],
      "source": [
        "march_sales = df[df['transaction_date'].dt.month == 3].groupby('transaction_date')['total_sales'].sum()\n",
        "\n",
        "plt.figure(figsize=(10, 6))\n",
        "plt.plot(march_sales.index, march_sales.values, marker='o', linestyle='-', color='blue')\n",
        "\n",
        "plt.xlabel('Date in March 2023')\n",
        "plt.ylabel('Total Sales')\n",
        "plt.title('Daily Sales in March 2023')\n",
        "\n",
        "plt.xticks(rotation=45, ha='right')\n",
        "\n",
        "plt.grid(True)\n",
        "plt.tight_layout()\n",
        "plt.show()"
      ]
    },
    {
      "cell_type": "code",
      "execution_count": null,
      "id": "e376bdba",
      "metadata": {
        "execution": {
          "iopub.execute_input": "2024-08-15T12:55:29.469573Z",
          "iopub.status.busy": "2024-08-15T12:55:29.469158Z",
          "iopub.status.idle": "2024-08-15T12:55:29.886573Z",
          "shell.execute_reply": "2024-08-15T12:55:29.885494Z"
        },
        "id": "e376bdba",
        "papermill": {
          "duration": 0.434416,
          "end_time": "2024-08-15T12:55:29.889211",
          "exception": false,
          "start_time": "2024-08-15T12:55:29.454795",
          "status": "completed"
        },
        "tags": []
      },
      "outputs": [],
      "source": [
        "april_sales = df[df['transaction_date'].dt.month == 4].groupby('transaction_date')['total_sales'].sum()\n",
        "\n",
        "plt.figure(figsize=(10, 6))\n",
        "plt.plot(april_sales.index, april_sales.values, marker='o', linestyle='-', color='blue')\n",
        "\n",
        "plt.xlabel('Date in April 2023')\n",
        "plt.ylabel('Total Sales')\n",
        "plt.title('Daily Sales in April 2023')\n",
        "\n",
        "plt.xticks(rotation=45, ha='right')\n",
        "\n",
        "plt.grid(True)\n",
        "plt.tight_layout()\n",
        "plt.show()"
      ]
    },
    {
      "cell_type": "code",
      "execution_count": null,
      "id": "4b701594",
      "metadata": {
        "execution": {
          "iopub.execute_input": "2024-08-15T12:55:29.921500Z",
          "iopub.status.busy": "2024-08-15T12:55:29.921114Z",
          "iopub.status.idle": "2024-08-15T12:55:30.323122Z",
          "shell.execute_reply": "2024-08-15T12:55:30.322008Z"
        },
        "id": "4b701594",
        "papermill": {
          "duration": 0.421449,
          "end_time": "2024-08-15T12:55:30.326293",
          "exception": false,
          "start_time": "2024-08-15T12:55:29.904844",
          "status": "completed"
        },
        "tags": []
      },
      "outputs": [],
      "source": [
        "may_sales = df[df['transaction_date'].dt.month == 5].groupby('transaction_date')['total_sales'].sum()\n",
        "\n",
        "plt.figure(figsize=(10, 6))\n",
        "plt.plot(may_sales.index, may_sales.values, marker='o', linestyle='-', color='blue')\n",
        "\n",
        "plt.xlabel('Date in May 2023')\n",
        "plt.ylabel('Total Sales')\n",
        "plt.title('Daily Sales in May 2023')\n",
        "\n",
        "plt.xticks(rotation=45, ha='right')\n",
        "\n",
        "plt.grid(True)\n",
        "plt.tight_layout()\n",
        "plt.show()"
      ]
    },
    {
      "cell_type": "code",
      "execution_count": null,
      "id": "b8363f62",
      "metadata": {
        "execution": {
          "iopub.execute_input": "2024-08-15T12:55:30.358314Z",
          "iopub.status.busy": "2024-08-15T12:55:30.357894Z",
          "iopub.status.idle": "2024-08-15T12:55:30.781864Z",
          "shell.execute_reply": "2024-08-15T12:55:30.780543Z"
        },
        "id": "b8363f62",
        "papermill": {
          "duration": 0.44362,
          "end_time": "2024-08-15T12:55:30.784965",
          "exception": false,
          "start_time": "2024-08-15T12:55:30.341345",
          "status": "completed"
        },
        "tags": []
      },
      "outputs": [],
      "source": [
        "june_sales = df[df['transaction_date'].dt.month == 6].groupby('transaction_date')['total_sales'].sum()\n",
        "\n",
        "plt.figure(figsize=(10, 6))\n",
        "plt.plot(june_sales.index, june_sales.values, marker='o', linestyle='-', color='blue')\n",
        "\n",
        "plt.xlabel('Date in June 2023')\n",
        "plt.ylabel('Total Sales')\n",
        "plt.title('Daily Sales in June 2023')\n",
        "\n",
        "plt.xticks(rotation=45, ha='right')\n",
        "\n",
        "plt.grid(True)\n",
        "plt.tight_layout()\n",
        "plt.show()"
      ]
    },
    {
      "cell_type": "markdown",
      "id": "080ea584",
      "metadata": {
        "id": "080ea584",
        "papermill": {
          "duration": 0.015939,
          "end_time": "2024-08-15T12:55:30.849205",
          "exception": false,
          "start_time": "2024-08-15T12:55:30.833266",
          "status": "completed"
        },
        "tags": []
      },
      "source": [
        "# Which days of the week tend to be busiest !"
      ]
    },
    {
      "cell_type": "code",
      "execution_count": null,
      "id": "0a5940f1",
      "metadata": {
        "execution": {
          "iopub.execute_input": "2024-08-15T12:55:30.883921Z",
          "iopub.status.busy": "2024-08-15T12:55:30.883549Z",
          "iopub.status.idle": "2024-08-15T12:55:30.953288Z",
          "shell.execute_reply": "2024-08-15T12:55:30.951927Z"
        },
        "id": "0a5940f1",
        "papermill": {
          "duration": 0.090894,
          "end_time": "2024-08-15T12:55:30.956106",
          "exception": false,
          "start_time": "2024-08-15T12:55:30.865212",
          "status": "completed"
        },
        "tags": []
      },
      "outputs": [],
      "source": [
        "df['day_of_week'] = df['transaction_date'].dt.day_name()\n",
        "\n",
        "print(df[['transaction_qty', 'day_of_week']])"
      ]
    },
    {
      "cell_type": "code",
      "execution_count": null,
      "id": "d2319392",
      "metadata": {
        "execution": {
          "iopub.execute_input": "2024-08-15T12:55:30.989985Z",
          "iopub.status.busy": "2024-08-15T12:55:30.989585Z",
          "iopub.status.idle": "2024-08-15T12:55:31.023957Z",
          "shell.execute_reply": "2024-08-15T12:55:31.022585Z"
        },
        "id": "d2319392",
        "papermill": {
          "duration": 0.054856,
          "end_time": "2024-08-15T12:55:31.026976",
          "exception": false,
          "start_time": "2024-08-15T12:55:30.972120",
          "status": "completed"
        },
        "tags": []
      },
      "outputs": [],
      "source": [
        "qty_by_day = df.groupby('day_of_week')['transaction_qty'].sum().reset_index()\n",
        "\n",
        "ordered_days = ['Monday', 'Tuesday', 'Wednesday', 'Thursday', 'Friday', 'Saturday', 'Sunday']\n",
        "qty_by_day['day_of_week'] = pd.Categorical(qty_by_day['day_of_week'], categories=ordered_days, ordered=True)\n",
        "qty_by_day = qty_by_day.sort_values('day_of_week')\n",
        "\n",
        "print(qty_by_day)"
      ]
    },
    {
      "cell_type": "code",
      "execution_count": null,
      "id": "94bf7358",
      "metadata": {
        "execution": {
          "iopub.execute_input": "2024-08-15T12:55:31.073608Z",
          "iopub.status.busy": "2024-08-15T12:55:31.073132Z",
          "iopub.status.idle": "2024-08-15T12:55:31.394888Z",
          "shell.execute_reply": "2024-08-15T12:55:31.393182Z"
        },
        "id": "94bf7358",
        "papermill": {
          "duration": 0.351013,
          "end_time": "2024-08-15T12:55:31.398586",
          "exception": false,
          "start_time": "2024-08-15T12:55:31.047573",
          "status": "completed"
        },
        "tags": []
      },
      "outputs": [],
      "source": [
        "plt.figure(figsize=(10, 6))\n",
        "plt.bar(qty_by_day['day_of_week'], qty_by_day['transaction_qty'], color='skyblue')\n",
        "\n",
        "plt.xlabel('Day of the Week')\n",
        "plt.ylabel('Total Quantity')\n",
        "plt.title('Total Quantity by Day of the Week')\n",
        "\n",
        "plt.show()\n"
      ]
    },
    {
      "cell_type": "markdown",
      "id": "bbef1134",
      "metadata": {
        "id": "bbef1134",
        "papermill": {
          "duration": 0.017221,
          "end_time": "2024-08-15T12:55:31.433189",
          "exception": false,
          "start_time": "2024-08-15T12:55:31.415968",
          "status": "completed"
        },
        "tags": []
      },
      "source": [
        "#Which products are sold most and least often? Which drive the most revenue for the business?"
      ]
    },
    {
      "cell_type": "code",
      "execution_count": null,
      "id": "3c360429",
      "metadata": {
        "execution": {
          "iopub.execute_input": "2024-08-15T12:55:31.470206Z",
          "iopub.status.busy": "2024-08-15T12:55:31.469797Z",
          "iopub.status.idle": "2024-08-15T12:55:31.502885Z",
          "shell.execute_reply": "2024-08-15T12:55:31.501472Z"
        },
        "id": "3c360429",
        "papermill": {
          "duration": 0.055163,
          "end_time": "2024-08-15T12:55:31.505763",
          "exception": false,
          "start_time": "2024-08-15T12:55:31.450600",
          "status": "completed"
        },
        "tags": []
      },
      "outputs": [],
      "source": [
        "product_qty_sale = df.groupby('product_detail')['transaction_qty'].sum()\n",
        "\n",
        "sorted_product_qty_sale_desc  = product_qty_sale.sort_values(ascending=False).head(5)\n",
        "sorted_product_qty_sale_asc  = product_qty_sale.sort_values(ascending=True).head(5)\n",
        "\n",
        "print(sorted_product_qty_sale_desc)\n",
        "print(sorted_product_qty_sale_asc)"
      ]
    },
    {
      "cell_type": "code",
      "execution_count": null,
      "id": "e5451cb9",
      "metadata": {
        "execution": {
          "iopub.execute_input": "2024-08-15T12:55:31.547146Z",
          "iopub.status.busy": "2024-08-15T12:55:31.546557Z",
          "iopub.status.idle": "2024-08-15T12:55:31.578525Z",
          "shell.execute_reply": "2024-08-15T12:55:31.577319Z"
        },
        "id": "e5451cb9",
        "papermill": {
          "duration": 0.058393,
          "end_time": "2024-08-15T12:55:31.581690",
          "exception": false,
          "start_time": "2024-08-15T12:55:31.523297",
          "status": "completed"
        },
        "tags": []
      },
      "outputs": [],
      "source": [
        "product_sales = df.groupby('product_detail')['total_sales'].sum()\n",
        "\n",
        "sorted_product_sales_desc = product_sales.sort_values(ascending=False)\n",
        "\n",
        "top_five_max = sorted_product_sales_desc.head(5)\n",
        "\n",
        "print(\"Top Five Products with Maximum Sales:\")\n",
        "print(top_five_max)\n",
        "\n",
        "print(product_sales)"
      ]
    },
    {
      "cell_type": "markdown",
      "source": [
        "# Top 5 products with Maximum Sales"
      ],
      "metadata": {
        "id": "aqglfRD9hh-U"
      },
      "id": "aqglfRD9hh-U"
    },
    {
      "cell_type": "code",
      "execution_count": null,
      "id": "565a5851",
      "metadata": {
        "execution": {
          "iopub.execute_input": "2024-08-15T12:55:31.624773Z",
          "iopub.status.busy": "2024-08-15T12:55:31.624299Z",
          "iopub.status.idle": "2024-08-15T12:55:31.999225Z",
          "shell.execute_reply": "2024-08-15T12:55:31.998043Z"
        },
        "id": "565a5851",
        "papermill": {
          "duration": 0.401572,
          "end_time": "2024-08-15T12:55:32.003420",
          "exception": false,
          "start_time": "2024-08-15T12:55:31.601848",
          "status": "completed"
        },
        "tags": []
      },
      "outputs": [],
      "source": [
        "top_five_max= pd.DataFrame(data=top_five_max).reset_index()\n",
        "top_five_max.columns = ['product_detail', 'total_sales']\n",
        "\n",
        "plt.figure(figsize=(10, 6))\n",
        "plt.bar(top_five_max['product_detail'], top_five_max['total_sales'], color='skyblue')\n",
        "\n",
        "plt.xlabel('Product')\n",
        "plt.ylabel('Total Sales')\n",
        "plt.title('Top 5 Products with Maximum Sales')\n",
        "\n",
        "plt.xticks(rotation=45, ha='right')\n",
        "\n",
        "plt.show()"
      ]
    },
    {
      "cell_type": "code",
      "source": [
        "df['product_type'].unique()"
      ],
      "metadata": {
        "id": "C05dg-RHhWpk"
      },
      "id": "C05dg-RHhWpk",
      "execution_count": null,
      "outputs": []
    },
    {
      "cell_type": "markdown",
      "id": "cbedf8fa",
      "metadata": {
        "id": "cbedf8fa"
      },
      "source": [
        "## **Identify Most and Least Sold Products and Revenue Drivers**"
      ]
    },
    {
      "cell_type": "code",
      "execution_count": null,
      "id": "7c414665",
      "metadata": {
        "id": "7c414665"
      },
      "outputs": [],
      "source": [
        "# Group by product_category to calculate total sales and revenue for each category\n",
        "df['revenue'] = df['unit_price'] * df['transaction_qty']\n",
        "product_sales = df.groupby('product_category').agg({\n",
        "    'transaction_qty': 'sum',\n",
        "    'revenue': 'sum'\n",
        "}).reset_index()\n",
        "\n",
        "# Identify the most and least sold products\n",
        "most_sold_product = product_sales.loc[product_sales['transaction_qty'].idxmax()]\n",
        "least_sold_product = product_sales.loc[product_sales['transaction_qty'].idxmin()]\n",
        "\n",
        "# Identify the products that drive the most revenue\n",
        "highest_revenue_product = product_sales.loc[product_sales['revenue'].idxmax()]\n",
        "\n",
        "# Sort the product sales by revenue for better visualization\n",
        "product_sales_sorted = product_sales.sort_values(by='revenue', ascending=False)\n",
        "\n",
        "# Plotting sales and revenue by product category\n",
        "\n",
        "plt.figure(figsize=(14, 7))\n",
        "plt.bar(product_sales_sorted['product_category'], product_sales_sorted['transaction_qty'], color='m', alpha=0.7, label='Total Sales (Quantity)')\n",
        "plt.plot(product_sales_sorted['product_category'], product_sales_sorted['revenue'], color='r', marker='o', label='Revenue ($)')\n",
        "plt.xlabel('Product Category')\n",
        "plt.ylabel('Total Sales / Revenue')\n",
        "plt.title('Sales and Revenue by Product Category')\n",
        "plt.xticks(rotation=45)\n",
        "plt.legend()\n",
        "plt.grid(axis='y')\n",
        "plt.tight_layout()\n",
        "plt.show()\n",
        "\n",
        "# Display the summary of most and least sold products and highest revenue product\n",
        "\n",
        "print(\"Most Sold Product:\")\n",
        "print(f\"Category: {most_sold_product['product_category']}\")\n",
        "print(f\"Quantity Sold: {most_sold_product['transaction_qty']}\")\n",
        "print(f\"Revenue: ${most_sold_product['revenue']:.2f}\")\n",
        "print(\"\\nLeast Sold Product:\")\n",
        "print(f\"Category: {least_sold_product['product_category']}\")\n",
        "print(f\"Quantity Sold: {least_sold_product['transaction_qty']}\")\n",
        "print(f\"Revenue: ${least_sold_product['revenue']:.2f}\")\n",
        "print(\"\\nHighest Revenue Product:\")\n",
        "print(f\"Category: {highest_revenue_product['product_category']}\")\n",
        "print(f\"Quantity Sold: {highest_revenue_product['transaction_qty']}\")\n",
        "print(f\"Revenue: ${highest_revenue_product['revenue']:.2f}\")\n",
        "\n"
      ]
    },
    {
      "cell_type": "markdown",
      "id": "948efb90",
      "metadata": {
        "papermill": {
          "duration": 0.017637,
          "end_time": "2023-12-24T00:35:30.258805",
          "exception": false,
          "start_time": "2023-12-24T00:35:30.241168",
          "status": "completed"
        },
        "tags": [],
        "id": "948efb90"
      },
      "source": [
        "# Which products are sold most and least often? Which drive the most revenue for the business?"
      ]
    },
    {
      "cell_type": "code",
      "execution_count": null,
      "id": "2e26b013",
      "metadata": {
        "execution": {
          "iopub.execute_input": "2023-12-24T00:35:30.295545Z",
          "iopub.status.busy": "2023-12-24T00:35:30.295188Z",
          "iopub.status.idle": "2023-12-24T00:35:30.337636Z",
          "shell.execute_reply": "2023-12-24T00:35:30.335969Z"
        },
        "papermill": {
          "duration": 0.063954,
          "end_time": "2023-12-24T00:35:30.340323",
          "exception": false,
          "start_time": "2023-12-24T00:35:30.276369",
          "status": "completed"
        },
        "tags": [],
        "id": "2e26b013"
      },
      "outputs": [],
      "source": [
        "most_sold_product=df.copy()\n",
        "most_sold_product=most_sold_product.groupby(['product_detail']).agg({\n",
        "    'transaction_qty':np.count_nonzero,\n",
        "    'revenue':np.sum\n",
        "}).reset_index().sort_values('revenue', ascending=False)"
      ]
    },
    {
      "cell_type": "code",
      "execution_count": null,
      "id": "28b3ea36",
      "metadata": {
        "execution": {
          "iopub.execute_input": "2023-12-24T00:35:30.378832Z",
          "iopub.status.busy": "2023-12-24T00:35:30.378449Z",
          "iopub.status.idle": "2023-12-24T00:35:30.391154Z",
          "shell.execute_reply": "2023-12-24T00:35:30.389933Z"
        },
        "papermill": {
          "duration": 0.035123,
          "end_time": "2023-12-24T00:35:30.393244",
          "exception": false,
          "start_time": "2023-12-24T00:35:30.358121",
          "status": "completed"
        },
        "tags": [],
        "id": "28b3ea36"
      },
      "outputs": [],
      "source": [
        "# create function to get the characteristics of transaction\n",
        "def get_class_transaction(x, max_value, len_bins):\n",
        "    if x < max_value/len_bins:\n",
        "        msg='C1'\n",
        "    elif x>=max_value/len_bins and x<=((max_value/len_bins)*2):\n",
        "        msg='C2'\n",
        "    elif x>((max_value/len_bins)*2):\n",
        "        msg='C3'\n",
        "    return msg\n",
        "\n",
        "# apply the function to classification the transaction characteristics\n",
        "\n",
        "most_sold_product['transaction_qty']=most_sold_product.transaction_qty.apply(lambda i: get_class_transaction(x=i, max_value=most_sold_product.transaction_qty.max(), len_bins=3))"
      ]
    },
    {
      "cell_type": "markdown",
      "source": [
        "# Distribution of Income Per Product Detail by Transaction Class"
      ],
      "metadata": {
        "id": "twzJm2tLi9ba"
      },
      "id": "twzJm2tLi9ba"
    },
    {
      "cell_type": "code",
      "execution_count": null,
      "id": "acb08c62",
      "metadata": {
        "execution": {
          "iopub.execute_input": "2023-12-24T00:35:30.430497Z",
          "iopub.status.busy": "2023-12-24T00:35:30.430112Z",
          "iopub.status.idle": "2023-12-24T00:35:31.481237Z",
          "shell.execute_reply": "2023-12-24T00:35:31.479941Z"
        },
        "papermill": {
          "duration": 1.072187,
          "end_time": "2023-12-24T00:35:31.483266",
          "exception": false,
          "start_time": "2023-12-24T00:35:30.411079",
          "status": "completed"
        },
        "tags": [],
        "id": "acb08c62"
      },
      "outputs": [],
      "source": [
        "# visualize the distribution of income per product detail by transaction class\n",
        "# Define bins\n",
        "bins = np.arange(0, 23000, 1000)\n",
        "\n",
        "# Plot histogram\n",
        "plt.figure(figsize=(15, 4))\n",
        "plt.title('Distribution of Income Per Product Detail by Transaction Class', fontsize=20, pad=15)\n",
        "sns.histplot(most_sold_product, x='revenue', bins=bins, kde=True, hue='transaction_qty', linewidth=0.5, edgecolor='black')\n",
        "plt.xticks(bins, rotation=15)\n",
        "plt.xlabel('Income (in dollars)', labelpad=15)\n",
        "plt.tight_layout()\n",
        "plt.show()\n",
        "\n",
        "\n",
        "\n",
        "\n"
      ]
    },
    {
      "cell_type": "markdown",
      "source": [
        "#What product are sold most often and least often"
      ],
      "metadata": {
        "id": "JbgwWG2ljYl5"
      },
      "id": "JbgwWG2ljYl5"
    },
    {
      "cell_type": "code",
      "execution_count": null,
      "id": "a6574f44",
      "metadata": {
        "execution": {
          "iopub.execute_input": "2024-06-08T09:38:25.586342Z",
          "iopub.status.busy": "2024-06-08T09:38:25.584981Z",
          "iopub.status.idle": "2024-06-08T09:38:26.584055Z",
          "shell.execute_reply": "2024-06-08T09:38:26.582812Z"
        },
        "papermill": {
          "duration": 1.011368,
          "end_time": "2024-06-08T09:38:26.587105",
          "exception": false,
          "start_time": "2024-06-08T09:38:25.575737",
          "status": "completed"
        },
        "tags": [],
        "id": "a6574f44"
      },
      "outputs": [],
      "source": [
        "plt.figure(figsize = (15,9))\n",
        "plt.title('What products are sold most often and least often')\n",
        "count_plot(y_axis = \"product_type\")\n",
        "plt.show()"
      ]
    },
    {
      "cell_type": "markdown",
      "source": [
        "# Pick hour of the store"
      ],
      "metadata": {
        "id": "dKbGREgNj5OS"
      },
      "id": "dKbGREgNj5OS"
    },
    {
      "cell_type": "code",
      "source": [
        "\n",
        "# df['transaction_time'] = pd.to_datetime(df['transaction_time'], errors='coerce')\n",
        "\n",
        "\n",
        "\n",
        "# Group by hour to get transaction count per hour\n",
        "hourly_transactions = df.groupby('hour').size().reset_index(name='transaction_count')\n",
        "\n",
        "# Find the peak hour\n",
        "peak_hour = hourly_transactions.loc[hourly_transactions['transaction_count'].idxmax()]\n",
        "print(f\"Peak Hour: {peak_hour['hour']} with {peak_hour['transaction_count']} transactions\")\n",
        "\n",
        "# Optionally, plot the transaction count by hour to visualize the peak\n",
        "import matplotlib.pyplot as plt\n",
        "import seaborn as sns\n",
        "\n",
        "plt.figure(figsize=(10, 6))\n",
        "sns.barplot(x='hour', y='transaction_count', data=hourly_transactions, palette='viridis')\n",
        "plt.xlabel('Hour of the Day')\n",
        "plt.ylabel('Number of Transactions')\n",
        "plt.title('Transactions by Hour')\n",
        "plt.xticks(range(0, 24))\n",
        "plt.grid(axis='y')\n",
        "plt.show()\n"
      ],
      "metadata": {
        "id": "udcPjqbhj5Y5"
      },
      "id": "udcPjqbhj5Y5",
      "execution_count": null,
      "outputs": []
    },
    {
      "cell_type": "markdown",
      "source": [
        "# Most Sold product During pick hour"
      ],
      "metadata": {
        "id": "dpStKsABkJ0S"
      },
      "id": "dpStKsABkJ0S"
    },
    {
      "cell_type": "code",
      "source": [
        "\n",
        "# Group by product category and hour to calculate total quantity sold per hour\n",
        "hourly_sales = df.groupby(['hour', 'product_category'])['transaction_qty'].sum().reset_index()\n",
        "\n",
        "# Find the peak hour based on transaction count\n",
        "hourly_transactions = df.groupby('hour').size().reset_index(name='transaction_count')\n",
        "peak_hour = hourly_transactions.loc[hourly_transactions['transaction_count'].idxmax()]['hour']\n",
        "\n",
        "# Filter for peak hour sales data\n",
        "peak_hour_sales = hourly_sales[hourly_sales['hour'] == peak_hour].sort_values(by='transaction_qty', ascending=False)\n",
        "most_sold_product = peak_hour_sales.iloc[0]\n",
        "\n",
        "print(f\"Most Sold Product in Peak Hour ({peak_hour}:00):\")\n",
        "print(f\"Product Category: {most_sold_product['product_category']}\")\n",
        "print(f\"Total Quantity Sold: {most_sold_product['transaction_qty']}\")\n",
        "\n",
        "# Plotting the sales distribution for the peak hour\n",
        "plt.figure(figsize=(10, 6))\n",
        "sns.barplot(x='product_category', y='transaction_qty', data=peak_hour_sales, palette='viridis')\n",
        "plt.xlabel('Product Category')\n",
        "plt.ylabel('Quantity Sold')\n",
        "plt.title(f'Most Sold Products During Peak Hour ({peak_hour}:00)')\n",
        "plt.xticks(rotation=45)\n",
        "plt.show()\n",
        "\n"
      ],
      "metadata": {
        "id": "Oy3O5UtakKAZ"
      },
      "id": "Oy3O5UtakKAZ",
      "execution_count": null,
      "outputs": []
    },
    {
      "cell_type": "markdown",
      "source": [
        "# Most sold product From different Location"
      ],
      "metadata": {
        "id": "btOfkG0tlYZy"
      },
      "id": "btOfkG0tlYZy"
    },
    {
      "cell_type": "code",
      "source": [
        "\n",
        "\n",
        "# Group by region and product category to get the total transaction quantity\n",
        "region_product_sales = df.groupby(['store_location', 'product_category'])['transaction_qty'].sum().reset_index()\n",
        "\n",
        "# Find the most sold product in each region\n",
        "most_sold_per_region = region_product_sales.loc[region_product_sales.groupby('store_location')['transaction_qty'].idxmax()]\n",
        "\n",
        "# Plotting using seaborn\n",
        "plt.figure(figsize=(12, 8))\n",
        "sns.barplot(data=most_sold_per_region, x='store_location', y='transaction_qty', hue='product_category', palette=\"viridis\")\n",
        "plt.title(\"Most Sold Product by Region\")\n",
        "plt.xlabel(\"Region\")\n",
        "plt.ylabel(\"Quantity Sold\")\n",
        "plt.legend(title=\"Product Category\")\n",
        "plt.xticks(rotation=45)\n",
        "plt.show()\n",
        "\n"
      ],
      "metadata": {
        "id": "o_AhD0ualX1z"
      },
      "id": "o_AhD0ualX1z",
      "execution_count": null,
      "outputs": []
    }
  ],
  "metadata": {
    "colab": {
      "provenance": [],
      "toc_visible": true,
      "gpuType": "T4",
      "include_colab_link": true
    },
    "language_info": {
      "name": "python"
    },
    "kernelspec": {
      "name": "python3",
      "display_name": "Python 3"
    },
    "accelerator": "GPU"
  },
  "nbformat": 4,
  "nbformat_minor": 5
}